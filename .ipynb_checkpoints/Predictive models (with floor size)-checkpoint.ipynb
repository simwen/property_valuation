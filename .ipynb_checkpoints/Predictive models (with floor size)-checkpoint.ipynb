{
 "cells": [
  {
   "cell_type": "code",
   "execution_count": 451,
   "id": "18d6fdfe",
   "metadata": {},
   "outputs": [],
   "source": [
    "import pandas as pd\n",
    "import numpy as np\n",
    "from sklearn.model_selection import train_test_split\n",
    "from sklearn import preprocessing\n",
    "\n",
    "# ML functions and plotting libraries\n",
    "from sklearn.tree import DecisionTreeRegressor, plot_tree\n",
    "from sklearn.linear_model import Lasso\n",
    "from sklearn.ensemble import RandomForestRegressor, GradientBoostingRegressor\n",
    "import matplotlib.pyplot as plt\n",
    "from sklearn.inspection import plot_partial_dependence\n",
    "from sklearn.metrics import confusion_matrix\n",
    "from sklearn.metrics import mean_absolute_error\n",
    "from sklearn.model_selection import GridSearchCV"
   ]
  },
  {
   "cell_type": "code",
   "execution_count": 452,
   "id": "79ee2884",
   "metadata": {},
   "outputs": [],
   "source": [
    "# file naming variables\n",
    "latest_version = 'df_2023-03-11'\n",
    "location = '/Users/Sim/Documents/Other/Programming/Personal Projects/property_valuation'"
   ]
  },
  {
   "cell_type": "markdown",
   "id": "e01d5a52",
   "metadata": {},
   "source": [
    "### 1. Loading the latest data"
   ]
  },
  {
   "cell_type": "code",
   "execution_count": 453,
   "id": "6eec565b",
   "metadata": {},
   "outputs": [],
   "source": [
    "df=pd.read_csv(f'{location}/data/{latest_version}.csv')"
   ]
  },
  {
   "cell_type": "code",
   "execution_count": 454,
   "id": "1db9a67d",
   "metadata": {},
   "outputs": [
    {
     "data": {
      "text/html": [
       "<div>\n",
       "<style scoped>\n",
       "    .dataframe tbody tr th:only-of-type {\n",
       "        vertical-align: middle;\n",
       "    }\n",
       "\n",
       "    .dataframe tbody tr th {\n",
       "        vertical-align: top;\n",
       "    }\n",
       "\n",
       "    .dataframe thead th {\n",
       "        text-align: right;\n",
       "    }\n",
       "</style>\n",
       "<table border=\"1\" class=\"dataframe\">\n",
       "  <thead>\n",
       "    <tr style=\"text-align: right;\">\n",
       "      <th></th>\n",
       "      <th>Date</th>\n",
       "      <th>Price</th>\n",
       "      <th>NearStat</th>\n",
       "      <th>StatDist(miles)</th>\n",
       "      <th>Prop_Type</th>\n",
       "      <th>Bedrooms</th>\n",
       "      <th>Bathrooms</th>\n",
       "      <th>Floor_Size</th>\n",
       "      <th>Outdoor</th>\n",
       "      <th>Portered</th>\n",
       "      <th>...</th>\n",
       "      <th>Outcode</th>\n",
       "      <th>Outcode2</th>\n",
       "      <th>Outcode3</th>\n",
       "      <th>Postcode</th>\n",
       "      <th>Centrality</th>\n",
       "      <th>North</th>\n",
       "      <th>Links</th>\n",
       "      <th>Date_Scraped</th>\n",
       "      <th>Month_Year</th>\n",
       "      <th>Avg_price</th>\n",
       "    </tr>\n",
       "  </thead>\n",
       "  <tbody>\n",
       "    <tr>\n",
       "      <th>4797</th>\n",
       "      <td>20230301.0</td>\n",
       "      <td>795000.0</td>\n",
       "      <td>Gloucester Road Station</td>\n",
       "      <td>0.2</td>\n",
       "      <td>Flat</td>\n",
       "      <td>1.0</td>\n",
       "      <td>1.0</td>\n",
       "      <td>NaN</td>\n",
       "      <td>0.0</td>\n",
       "      <td>0.0</td>\n",
       "      <td>...</td>\n",
       "      <td>SW7</td>\n",
       "      <td>SW7</td>\n",
       "      <td>SW74</td>\n",
       "      <td>SW74NQ</td>\n",
       "      <td>4.199528</td>\n",
       "      <td>1.0</td>\n",
       "      <td>https://www.rightmove.co.uk/properties/1321240...</td>\n",
       "      <td>2023-03-11</td>\n",
       "      <td>202303</td>\n",
       "      <td>249.0</td>\n",
       "    </tr>\n",
       "    <tr>\n",
       "      <th>4798</th>\n",
       "      <td>20230308.0</td>\n",
       "      <td>800000.0</td>\n",
       "      <td>Angel Station</td>\n",
       "      <td>0.5</td>\n",
       "      <td>Apartment</td>\n",
       "      <td>1.0</td>\n",
       "      <td>1.0</td>\n",
       "      <td>855.0</td>\n",
       "      <td>0.0</td>\n",
       "      <td>0.0</td>\n",
       "      <td>...</td>\n",
       "      <td>N1</td>\n",
       "      <td>N1</td>\n",
       "      <td>N17</td>\n",
       "      <td>N17SH</td>\n",
       "      <td>3.534409</td>\n",
       "      <td>1.0</td>\n",
       "      <td>https://www.rightmove.co.uk/properties/1323826...</td>\n",
       "      <td>2023-03-11</td>\n",
       "      <td>202303</td>\n",
       "      <td>122.0</td>\n",
       "    </tr>\n",
       "    <tr>\n",
       "      <th>4799</th>\n",
       "      <td>20230310.0</td>\n",
       "      <td>695000.0</td>\n",
       "      <td>Chalk Farm Station</td>\n",
       "      <td>0.3</td>\n",
       "      <td>Apartment</td>\n",
       "      <td>2.0</td>\n",
       "      <td>1.0</td>\n",
       "      <td>676.0</td>\n",
       "      <td>0.0</td>\n",
       "      <td>0.0</td>\n",
       "      <td>...</td>\n",
       "      <td>NW3</td>\n",
       "      <td>NW3</td>\n",
       "      <td>NW32</td>\n",
       "      <td>NW32BE</td>\n",
       "      <td>4.882361</td>\n",
       "      <td>1.0</td>\n",
       "      <td>https://www.rightmove.co.uk/properties/1324646...</td>\n",
       "      <td>2023-03-11</td>\n",
       "      <td>202303</td>\n",
       "      <td>177.0</td>\n",
       "    </tr>\n",
       "  </tbody>\n",
       "</table>\n",
       "<p>3 rows × 21 columns</p>\n",
       "</div>"
      ],
      "text/plain": [
       "            Date     Price                 NearStat  StatDist(miles)  \\\n",
       "4797  20230301.0  795000.0  Gloucester Road Station              0.2   \n",
       "4798  20230308.0  800000.0            Angel Station              0.5   \n",
       "4799  20230310.0  695000.0       Chalk Farm Station              0.3   \n",
       "\n",
       "      Prop_Type  Bedrooms  Bathrooms  Floor_Size  Outdoor  Portered  ...  \\\n",
       "4797       Flat       1.0        1.0         NaN      0.0       0.0  ...   \n",
       "4798  Apartment       1.0        1.0       855.0      0.0       0.0  ...   \n",
       "4799  Apartment       2.0        1.0       676.0      0.0       0.0  ...   \n",
       "\n",
       "     Outcode Outcode2 Outcode3 Postcode Centrality  North  \\\n",
       "4797     SW7      SW7     SW74   SW74NQ   4.199528    1.0   \n",
       "4798      N1       N1      N17    N17SH   3.534409    1.0   \n",
       "4799     NW3      NW3     NW32   NW32BE   4.882361    1.0   \n",
       "\n",
       "                                                  Links Date_Scraped  \\\n",
       "4797  https://www.rightmove.co.uk/properties/1321240...   2023-03-11   \n",
       "4798  https://www.rightmove.co.uk/properties/1323826...   2023-03-11   \n",
       "4799  https://www.rightmove.co.uk/properties/1324646...   2023-03-11   \n",
       "\n",
       "     Month_Year  Avg_price  \n",
       "4797     202303      249.0  \n",
       "4798     202303      122.0  \n",
       "4799     202303      177.0  \n",
       "\n",
       "[3 rows x 21 columns]"
      ]
     },
     "execution_count": 454,
     "metadata": {},
     "output_type": "execute_result"
    }
   ],
   "source": [
    "df.tail(3)"
   ]
  },
  {
   "cell_type": "code",
   "execution_count": 455,
   "id": "cb2266cc",
   "metadata": {},
   "outputs": [
    {
     "data": {
      "text/html": [
       "<div>\n",
       "<style scoped>\n",
       "    .dataframe tbody tr th:only-of-type {\n",
       "        vertical-align: middle;\n",
       "    }\n",
       "\n",
       "    .dataframe tbody tr th {\n",
       "        vertical-align: top;\n",
       "    }\n",
       "\n",
       "    .dataframe thead th {\n",
       "        text-align: right;\n",
       "    }\n",
       "</style>\n",
       "<table border=\"1\" class=\"dataframe\">\n",
       "  <thead>\n",
       "    <tr style=\"text-align: right;\">\n",
       "      <th></th>\n",
       "      <th>Date</th>\n",
       "      <th>Price</th>\n",
       "      <th>NearStat</th>\n",
       "      <th>StatDist(miles)</th>\n",
       "      <th>Prop_Type</th>\n",
       "      <th>Bedrooms</th>\n",
       "      <th>Bathrooms</th>\n",
       "      <th>Floor_Size</th>\n",
       "      <th>Outdoor</th>\n",
       "      <th>Portered</th>\n",
       "      <th>...</th>\n",
       "      <th>Outcode</th>\n",
       "      <th>Outcode2</th>\n",
       "      <th>Outcode3</th>\n",
       "      <th>Postcode</th>\n",
       "      <th>Centrality</th>\n",
       "      <th>North</th>\n",
       "      <th>Links</th>\n",
       "      <th>Date_Scraped</th>\n",
       "      <th>Month_Year</th>\n",
       "      <th>Avg_price</th>\n",
       "    </tr>\n",
       "  </thead>\n",
       "  <tbody>\n",
       "    <tr>\n",
       "      <th>0</th>\n",
       "      <td>20211111.0</td>\n",
       "      <td>600000.0</td>\n",
       "      <td>Barbican Station</td>\n",
       "      <td>0.4</td>\n",
       "      <td>Apartment</td>\n",
       "      <td>1.0</td>\n",
       "      <td>1.0</td>\n",
       "      <td>NaN</td>\n",
       "      <td>0.0</td>\n",
       "      <td>0.0</td>\n",
       "      <td>...</td>\n",
       "      <td>EC1V</td>\n",
       "      <td>EC1</td>\n",
       "      <td>EC1V3</td>\n",
       "      <td>EC1V3NY</td>\n",
       "      <td>2.845931</td>\n",
       "      <td>1.0</td>\n",
       "      <td>NaN</td>\n",
       "      <td>2022-09-02</td>\n",
       "      <td>202209</td>\n",
       "      <td>110.0</td>\n",
       "    </tr>\n",
       "    <tr>\n",
       "      <th>1</th>\n",
       "      <td>20220826.0</td>\n",
       "      <td>450000.0</td>\n",
       "      <td>Angel Station</td>\n",
       "      <td>0.2</td>\n",
       "      <td>Apartment</td>\n",
       "      <td>1.0</td>\n",
       "      <td>1.0</td>\n",
       "      <td>NaN</td>\n",
       "      <td>0.0</td>\n",
       "      <td>0.0</td>\n",
       "      <td>...</td>\n",
       "      <td>EC1V</td>\n",
       "      <td>EC1</td>\n",
       "      <td>EC1V4</td>\n",
       "      <td>EC1V4LB</td>\n",
       "      <td>2.880314</td>\n",
       "      <td>1.0</td>\n",
       "      <td>NaN</td>\n",
       "      <td>2022-09-02</td>\n",
       "      <td>202209</td>\n",
       "      <td>151.5</td>\n",
       "    </tr>\n",
       "    <tr>\n",
       "      <th>2</th>\n",
       "      <td>20220318.0</td>\n",
       "      <td>600000.0</td>\n",
       "      <td>Battersea Power Underground Station</td>\n",
       "      <td>0.2</td>\n",
       "      <td>Flat</td>\n",
       "      <td>1.0</td>\n",
       "      <td>1.0</td>\n",
       "      <td>NaN</td>\n",
       "      <td>1.0</td>\n",
       "      <td>0.0</td>\n",
       "      <td>...</td>\n",
       "      <td>SW11</td>\n",
       "      <td>SW11</td>\n",
       "      <td>SW118</td>\n",
       "      <td>SW118EB</td>\n",
       "      <td>2.987774</td>\n",
       "      <td>0.0</td>\n",
       "      <td>NaN</td>\n",
       "      <td>2022-09-02</td>\n",
       "      <td>202209</td>\n",
       "      <td>160.0</td>\n",
       "    </tr>\n",
       "  </tbody>\n",
       "</table>\n",
       "<p>3 rows × 21 columns</p>\n",
       "</div>"
      ],
      "text/plain": [
       "         Date     Price                             NearStat  StatDist(miles)  \\\n",
       "0  20211111.0  600000.0                     Barbican Station              0.4   \n",
       "1  20220826.0  450000.0                        Angel Station              0.2   \n",
       "2  20220318.0  600000.0  Battersea Power Underground Station              0.2   \n",
       "\n",
       "   Prop_Type  Bedrooms  Bathrooms  Floor_Size  Outdoor  Portered  ... Outcode  \\\n",
       "0  Apartment       1.0        1.0         NaN      0.0       0.0  ...    EC1V   \n",
       "1  Apartment       1.0        1.0         NaN      0.0       0.0  ...    EC1V   \n",
       "2       Flat       1.0        1.0         NaN      1.0       0.0  ...    SW11   \n",
       "\n",
       "  Outcode2 Outcode3 Postcode Centrality  North  Links Date_Scraped Month_Year  \\\n",
       "0      EC1    EC1V3  EC1V3NY   2.845931    1.0    NaN   2022-09-02     202209   \n",
       "1      EC1    EC1V4  EC1V4LB   2.880314    1.0    NaN   2022-09-02     202209   \n",
       "2     SW11    SW118  SW118EB   2.987774    0.0    NaN   2022-09-02     202209   \n",
       "\n",
       "   Avg_price  \n",
       "0      110.0  \n",
       "1      151.5  \n",
       "2      160.0  \n",
       "\n",
       "[3 rows x 21 columns]"
      ]
     },
     "execution_count": 455,
     "metadata": {},
     "output_type": "execute_result"
    }
   ],
   "source": [
    "df.head(3)"
   ]
  },
  {
   "cell_type": "code",
   "execution_count": 456,
   "id": "10b4ba5a",
   "metadata": {},
   "outputs": [
    {
     "data": {
      "text/html": [
       "<div>\n",
       "<style scoped>\n",
       "    .dataframe tbody tr th:only-of-type {\n",
       "        vertical-align: middle;\n",
       "    }\n",
       "\n",
       "    .dataframe tbody tr th {\n",
       "        vertical-align: top;\n",
       "    }\n",
       "\n",
       "    .dataframe thead th {\n",
       "        text-align: right;\n",
       "    }\n",
       "</style>\n",
       "<table border=\"1\" class=\"dataframe\">\n",
       "  <thead>\n",
       "    <tr style=\"text-align: right;\">\n",
       "      <th></th>\n",
       "      <th>Month_Year</th>\n",
       "    </tr>\n",
       "    <tr>\n",
       "      <th>Month_Year</th>\n",
       "      <th></th>\n",
       "    </tr>\n",
       "  </thead>\n",
       "  <tbody>\n",
       "    <tr>\n",
       "      <th>202209</th>\n",
       "      <td>1879</td>\n",
       "    </tr>\n",
       "    <tr>\n",
       "      <th>202210</th>\n",
       "      <td>499</td>\n",
       "    </tr>\n",
       "    <tr>\n",
       "      <th>202211</th>\n",
       "      <td>576</td>\n",
       "    </tr>\n",
       "    <tr>\n",
       "      <th>202301</th>\n",
       "      <td>776</td>\n",
       "    </tr>\n",
       "    <tr>\n",
       "      <th>202302</th>\n",
       "      <td>728</td>\n",
       "    </tr>\n",
       "    <tr>\n",
       "      <th>202303</th>\n",
       "      <td>342</td>\n",
       "    </tr>\n",
       "  </tbody>\n",
       "</table>\n",
       "</div>"
      ],
      "text/plain": [
       "            Month_Year\n",
       "Month_Year            \n",
       "202209            1879\n",
       "202210             499\n",
       "202211             576\n",
       "202301             776\n",
       "202302             728\n",
       "202303             342"
      ]
     },
     "execution_count": 456,
     "metadata": {},
     "output_type": "execute_result"
    }
   ],
   "source": [
    "#df['Month_Year'] = df['Date_Scraped'].astype('str').str[0:4] + df['Date_Scraped'].astype('str').str[5:7]\n",
    "#df['Month_Year'] = df['Month_Year'].astype('int')\n",
    "\n",
    "df.groupby('Month_Year').agg({'Month_Year': 'count'})"
   ]
  },
  {
   "cell_type": "markdown",
   "id": "b7f1d751",
   "metadata": {},
   "source": [
    "### 2. Data pre-processing & feature engineering"
   ]
  },
  {
   "cell_type": "code",
   "execution_count": 251,
   "id": "bd87e7b2",
   "metadata": {},
   "outputs": [
    {
     "data": {
      "text/plain": [
       "Index([           'Date',           'Price',        'NearStat',\n",
       "       'StatDist(miles)',       'Prop_Type',        'Bedrooms',\n",
       "             'Bathrooms',      'Floor_Size',         'Outdoor',\n",
       "              'Portered',\n",
       "       ...\n",
       "                    'W8',              'W9',             'WC1',\n",
       "                   'WC2',            202209,            202210,\n",
       "                  202211,            202301,            202302,\n",
       "                  202303],\n",
       "      dtype='object', length=195)"
      ]
     },
     "execution_count": 251,
     "metadata": {},
     "output_type": "execute_result"
    }
   ],
   "source": [
    "df2.columns"
   ]
  },
  {
   "cell_type": "code",
   "execution_count": 460,
   "id": "73c025ff",
   "metadata": {},
   "outputs": [],
   "source": [
    "# Getting dummies vars\n",
    "df2 = pd.concat([df, pd.get_dummies(df.iloc[:,2])], axis=1) #nearest station\n",
    "df2 = pd.concat([df2, pd.get_dummies(df.iloc[:,4])], axis=1) #prop_type\n",
    "df2 = pd.concat([df2, pd.get_dummies(df.iloc[:,10])], axis=1) #contract\n",
    "df2 = pd.concat([df2, pd.get_dummies(df.iloc[:,12])], axis=1) #outcode2\n",
    "df2 = pd.concat([df2, pd.get_dummies(df.iloc[:,19])], axis=1) #scraped_date"
   ]
  },
  {
   "cell_type": "code",
   "execution_count": 461,
   "id": "79f4391f",
   "metadata": {},
   "outputs": [],
   "source": [
    "# Leave out 'Studio', 'Freehold', stations, a bunch of postcodes\n",
    "\n",
    "variables = ['Price','StatDist(miles)','Bedrooms','Bathrooms','Outdoor','Portered','Apartment','Flat','House',\n",
    "             'Maisonette','Mews', 'Terraced','Leasehold','NW6','SW1','N1','W2','W9','SE1','N7','NW1','EC1','NW3',\n",
    "             'SW11','WC1','W1','NW8','W10','SW3','NW5','W11','SE11','North','Centrality','Floor_Size'] \n",
    "\n",
    "variables = variables + [202210, 202211, 202301, 202302, 202303] # Leaves out first month_year (202209)\n",
    "variables = variables + ['Avg_price']\n",
    "\n",
    "stations = ['Edgware Road (Circle, District, Hammersmith & City) Station',\n",
    "            'St. John\\'s Wood Station','Marylebone Station','Paddington Station',                                             \n",
    "            'Edgware Road (Bakerloo) Station', 'Warwick Avenue Station','Lancaster Gate Station',\n",
    "            'Marble Arch Station','Maida Vale Station',\n",
    "            'Baker Street Station','Royal Oak Station']\n",
    "\n",
    "df_varselect = df2[variables].dropna()\n",
    "#df_varselect2 =df2[stations]\n",
    "#df_varselect2 = pd.concat([df_varselect, df_varselect2], axis=1).dropna()\n",
    "#df_varselect2\n",
    "df_varselect['Avg_price2'] = df_varselect['Avg_price'] **2\n",
    "df_varselect['Centrality2'] = df_varselect['Centrality'] **2\n",
    "df_varselect['Floor_Size2'] = df_varselect['Floor_Size'] **2"
   ]
  },
  {
   "cell_type": "markdown",
   "id": "9f1ec167",
   "metadata": {},
   "source": [
    "### 3. Shuffling, Splitting and Normalising"
   ]
  },
  {
   "cell_type": "code",
   "execution_count": 462,
   "id": "caad1bcd",
   "metadata": {},
   "outputs": [],
   "source": [
    "X = np.array(df_varselect.iloc[:,1:df_varselect.shape[1]])"
   ]
  },
  {
   "cell_type": "code",
   "execution_count": 463,
   "id": "85773b38",
   "metadata": {},
   "outputs": [
    {
     "name": "stdout",
     "output_type": "stream",
     "text": [
      "(872, 43)\n",
      "(436, 43)\n",
      "(436, 43)\n",
      "(872,)\n",
      "(436,)\n",
      "(436,)\n",
      "(1308, 43)\n",
      "(1308, 1)\n"
     ]
    }
   ],
   "source": [
    "# Create feature and target arrays\n",
    "X = np.array(df_varselect.iloc[:,1:df_varselect.shape[1]])\n",
    "y = np.array(df_varselect.iloc[:,0])\n",
    "\n",
    "# Shuffling data (to ensure random order) and performing 0.5 : 0.25 : 0.25 train-validation-test set splits\n",
    "X_train, X_non, y_train, y_non = train_test_split(X, y, test_size=0.5, shuffle=True, random_state=1)\n",
    "X_val, X_test, y_val, y_test = train_test_split(X_non, y_non, test_size=0.5, shuffle=True, random_state=1)\n",
    "\n",
    "# Combining train and val for cross validation approach\n",
    "X_tv, y_tv = pd.concat([pd.DataFrame(X_train), pd.DataFrame(X_val)]), pd.concat([pd.DataFrame(y_train), pd.DataFrame(y_val)])\n",
    "y_tv_new = np.array(y_tv)\n",
    "\n",
    "print(X_train.shape)\n",
    "print(X_val.shape)\n",
    "print(X_test.shape)\n",
    "print(y_train.shape)\n",
    "print(y_val.shape)\n",
    "print(y_test.shape)\n",
    "\n",
    "print(X_tv.shape)\n",
    "print(y_tv_new.shape)"
   ]
  },
  {
   "cell_type": "code",
   "execution_count": 464,
   "id": "435b4d55",
   "metadata": {},
   "outputs": [],
   "source": [
    "# Normalising\n",
    "scaler = preprocessing.StandardScaler().fit(X_train)\n",
    "#scaler_new = preprocessing.StandardScaler().fit(X_tv)\n",
    "\n",
    "# Apply the scaling object to both train/validation/test sets\n",
    "X_train_new = scaler.transform(X_train)\n",
    "X_val_new = scaler.transform(X_val)\n",
    "X_test_new = scaler.transform(X_test)\n",
    "X_tv_new = scaler.transform(X_tv)"
   ]
  },
  {
   "cell_type": "markdown",
   "id": "9ea03bbc",
   "metadata": {},
   "source": [
    "### 5. Model Training"
   ]
  },
  {
   "cell_type": "markdown",
   "id": "3a7e21af",
   "metadata": {},
   "source": [
    "#### 5A. Lasso Model"
   ]
  },
  {
   "cell_type": "code",
   "execution_count": 465,
   "id": "eb81fca7",
   "metadata": {},
   "outputs": [
    {
     "name": "stdout",
     "output_type": "stream",
     "text": [
      "The maximum validation set accuracy - 0.26 - occurs at alpha = 9.9\n"
     ]
    }
   ],
   "source": [
    "train_acc_dict = {}\n",
    "val_acc_dict = {}\n",
    "\n",
    "for a in np.arange(0.1, 10, 0.1):\n",
    "    reg = Lasso(alpha=a, random_state=123)\n",
    "    reg = reg.fit(X_train_new, y_train)\n",
    "    \n",
    "    train_acc, val_acc = reg.score(X_train_new, y_train), reg.score(X_val_new, y_val)\n",
    "    train_acc_dict[a], val_acc_dict[a] = train_acc, val_acc\n",
    "    \n",
    "best_alpha = max(val_acc_dict, key=val_acc_dict.get)\n",
    "best_acc = round(val_acc_dict[best_alpha], 3)\n",
    "print('The maximum validation set accuracy - %s - occurs at alpha = %s' % (best_acc, best_alpha))"
   ]
  },
  {
   "cell_type": "code",
   "execution_count": 466,
   "id": "2544baab",
   "metadata": {},
   "outputs": [
    {
     "data": {
      "text/plain": [
       "Text(10.9, 0.27, '(alpha=9.9, accuracy=0.26)')"
      ]
     },
     "execution_count": 466,
     "metadata": {},
     "output_type": "execute_result"
    },
    {
     "data": {
      "image/png": "[encoded data removed]",
      "text/plain": [
       "<Figure size 300x200 with 1 Axes>"
      ]
     },
     "metadata": {},
     "output_type": "display_data"
    }
   ],
   "source": [
    "n_est = [x for x in np.arange(0.01, 1, 0.01)]\n",
    "train_acc = [acc for acc in train_acc_dict.values()]\n",
    "val_acc = [acc for acc in val_acc_dict.values()]\n",
    "\n",
    "# viz\n",
    "fig = plt.figure()\n",
    "ax = fig.add_subplot(111)\n",
    "ax.plot(n_est, train_acc)\n",
    "ax.plot(n_est, val_acc)\n",
    "fig.set_size_inches(3, 2)\n",
    "ax.set_xlabel('alpha')\n",
    "ax.set_ylabel('Accuracy')\n",
    "ax.annotate('(alpha=%s, accuracy=%s)' % (best_alpha, best_acc), xy=(best_alpha, best_acc), xytext=(best_alpha + 1, best_acc+0.01), arrowprops=dict(arrowstyle=\"->\", facecolor='black'))"
   ]
  },
  {
   "cell_type": "code",
   "execution_count": 467,
   "id": "32c4bee9",
   "metadata": {},
   "outputs": [
    {
     "name": "stdout",
     "output_type": "stream",
     "text": [
      "Fitting 10 folds for each of 140 candidates, totalling 1400 fits\n",
      "Best val accuracy - 0.2994668466169198 - occurs at alpha = {'alpha': 191}\n"
     ]
    }
   ],
   "source": [
    "# Using grid search and 10-fold CV instead\n",
    "\n",
    "param_grid = {'alpha': np.arange(1, 700, 5)}\n",
    "\n",
    "grid_lr = GridSearchCV(Lasso(), param_grid, verbose = 1,  cv = 10, scoring = 'r2')\n",
    "\n",
    "# Fitting the grid model\n",
    "grid_lr.fit(X_tv_new, y_tv)\n",
    "score_lr = grid_lr.best_score_\n",
    "param_lr = grid_lr.best_params_\n",
    "print('Best val accuracy - %s - occurs at alpha = %s' % (score_lr, param_lr))\n",
    "# 0.3615268259069946\n",
    "# 0.3615625840150405"
   ]
  },
  {
   "cell_type": "markdown",
   "id": "ab918a34",
   "metadata": {},
   "source": [
    "#### 5B. Random Forest Model\n",
    "Next we train a random forest classifier. Using the loop in the code below, we train multiple RFs of varying n_estimators and choose the model that maximises validation set accuracy (i.e. minimises out of sample error)."
   ]
  },
  {
   "cell_type": "code",
   "execution_count": 468,
   "id": "23744533",
   "metadata": {},
   "outputs": [
    {
     "name": "stdout",
     "output_type": "stream",
     "text": [
      "Fitting 10 folds for each of 49 candidates, totalling 490 fits\n",
      "Best val accuracy - 0.4254006893284214 - occurs at depth = {'max_depth': 25, 'n_estimators': 150}\n"
     ]
    }
   ],
   "source": [
    "# Using grid search and 10-fold CV instead\n",
    "\n",
    "param_grid = {'max_depth': [5,10,15,20,25,30,35], 'n_estimators': [75,100,150,200,250,300,400]}\n",
    "#param_grid = {'max_depth': [3,4,5,6,8], 'n_estimators': [50,100,150]}\n",
    "\n",
    "rf = RandomForestRegressor()\n",
    "\n",
    "grid_rf = GridSearchCV(rf, param_grid, verbose = 1,  cv = 10, scoring = 'r2')\n",
    "\n",
    "# Fitting the grid model\n",
    "grid_rf.fit(X_tv_new, y_tv_new.ravel())\n",
    "score_rf = grid_rf.best_score_\n",
    "param_rf = grid_rf.best_params_\n",
    "print('Best val accuracy - %s - occurs at depth = %s' % (score_rf, param_rf))"
   ]
  },
  {
   "cell_type": "markdown",
   "id": "3948774f",
   "metadata": {},
   "source": [
    "#### 5C. Gradient Boosting"
   ]
  },
  {
   "cell_type": "code",
   "execution_count": 469,
   "id": "e37ec299",
   "metadata": {},
   "outputs": [
    {
     "name": "stdout",
     "output_type": "stream",
     "text": [
      "Fitting 10 folds for each of 23 candidates, totalling 230 fits\n",
      "Best val accuracy - 0.3803331665523518 - occurs at depth = {'n_estimators': 600}\n"
     ]
    }
   ],
   "source": [
    "param_test1 = {'n_estimators':range(300,851,25)}\n",
    "\n",
    "gb = GradientBoostingRegressor(random_state = 123, learning_rate=0.1, min_samples_split=500, min_samples_leaf=50,\n",
    "                               max_depth=8, max_features='sqrt')\n",
    "\n",
    "grid_gb1 = GridSearchCV(gb, param_grid = param_test1, verbose = 1,  cv = 10, scoring='r2')\n",
    "\n",
    "grid_gb1.fit(X_tv_new, y_tv_new.ravel())\n",
    "\n",
    "print('Best val accuracy - %s - occurs at depth = %s' % (grid_gb1.best_score_, grid_gb1.best_params_))"
   ]
  },
  {
   "cell_type": "code",
   "execution_count": 470,
   "id": "822ee874",
   "metadata": {},
   "outputs": [
    {
     "name": "stdout",
     "output_type": "stream",
     "text": [
      "Fitting 10 folds for each of 72 candidates, totalling 720 fits\n",
      "Best val accuracy - 0.3867767208240038 - occurs at depth = {'max_depth': 7, 'min_samples_split': 400}\n"
     ]
    }
   ],
   "source": [
    "param_test2 = {'max_depth':range(5,23,2), 'min_samples_split':range(100,801,100)}\n",
    "\n",
    "gb = GradientBoostingRegressor(random_state = 123, n_estimators=grid_gb1.best_params_['n_estimators'], \n",
    "                               learning_rate=0.1, min_samples_leaf=50, max_features='sqrt')\n",
    "\n",
    "grid_gb2 = GridSearchCV(gb, param_grid = param_test2, verbose = 1,  cv = 10, scoring='r2')\n",
    "\n",
    "grid_gb2.fit(X_tv_new, y_tv_new.ravel())\n",
    "\n",
    "print('Best val accuracy - %s - occurs at depth = %s' % (grid_gb2.best_score_, grid_gb2.best_params_))"
   ]
  },
  {
   "cell_type": "code",
   "execution_count": 471,
   "id": "c5377dd1",
   "metadata": {},
   "outputs": [
    {
     "name": "stdout",
     "output_type": "stream",
     "text": [
      "Fitting 10 folds for each of 30 candidates, totalling 300 fits\n",
      "Best val accuracy - 0.38702603028414373 - occurs at depth = {'max_features': 4, 'min_samples_leaf': 50}\n"
     ]
    }
   ],
   "source": [
    "param_test3 = {'min_samples_leaf':range(30,71,10), 'max_features':range(2,8,1)}\n",
    "\n",
    "gb_final = GradientBoostingRegressor(random_state = 123, n_estimators=grid_gb1.best_params_['n_estimators'], \n",
    "                               learning_rate=0.1, min_samples_split=grid_gb2.best_params_['min_samples_split'], \n",
    "                               max_depth=grid_gb2.best_params_['max_depth'])\n",
    "\n",
    "grid_gb3 = GridSearchCV(gb_final, param_grid = param_test3, verbose = 1,  cv = 10, scoring='r2')\n",
    "\n",
    "grid_gb3.fit(X_tv_new, y_tv_new.ravel())\n",
    "\n",
    "print('Best val accuracy - %s - occurs at depth = %s' % (grid_gb3.best_score_, grid_gb3.best_params_))"
   ]
  },
  {
   "cell_type": "markdown",
   "id": "6c2ba7d6",
   "metadata": {},
   "source": [
    "### 6. Comparing tuned, best in class models"
   ]
  },
  {
   "cell_type": "code",
   "execution_count": 472,
   "id": "e5b99d98",
   "metadata": {},
   "outputs": [
    {
     "data": {
      "text/plain": [
       "0.41463389648105864"
      ]
     },
     "execution_count": 472,
     "metadata": {},
     "output_type": "execute_result"
    }
   ],
   "source": [
    "# RF test set error\n",
    "best_rf = RandomForestRegressor(random_state=123, n_estimators=best_trees2, max_depth = best_depth2)\n",
    "best_rf.fit(X_tv_new, y_tv_new.ravel())\n",
    "best_rf.score(X_test_new, y_test)"
   ]
  },
  {
   "cell_type": "code",
   "execution_count": 473,
   "id": "e5ebef76",
   "metadata": {},
   "outputs": [
    {
     "data": {
      "text/plain": [
       "0.4274065925791837"
      ]
     },
     "execution_count": 473,
     "metadata": {},
     "output_type": "execute_result"
    }
   ],
   "source": [
    "# Grid rand forest\n",
    "rf_grid = RandomForestRegressor(random_state=123, n_estimators=param_rf['n_estimators'] , \n",
    "                                max_depth = param_rf['max_depth'] )\n",
    "rf_grid.fit(X_tv_new, y_tv_new.ravel())\n",
    "\n",
    "rf_grid.score(X_test_new,y_test)"
   ]
  },
  {
   "cell_type": "code",
   "execution_count": 474,
   "id": "7f845081",
   "metadata": {},
   "outputs": [
    {
     "data": {
      "text/plain": [
       "0.3223720595283823"
      ]
     },
     "execution_count": 474,
     "metadata": {},
     "output_type": "execute_result"
    }
   ],
   "source": [
    "# Lasso test set error\n",
    "best_lr = Lasso(random_state=123, alpha=best_alpha)\n",
    "best_lr.fit(X_tv_new, y_tv_new.ravel())\n",
    "best_lr.score(X_test_new, y_test)"
   ]
  },
  {
   "cell_type": "code",
   "execution_count": 475,
   "id": "9580fabc",
   "metadata": {},
   "outputs": [
    {
     "data": {
      "text/plain": [
       "0.3220273613977369"
      ]
     },
     "execution_count": 475,
     "metadata": {},
     "output_type": "execute_result"
    }
   ],
   "source": [
    "# Grid lasso\n",
    "lr_grid = Lasso(random_state=123, alpha = param_lr['alpha'])\n",
    "lr_grid.fit(X_tv_new, y_tv_new)\n",
    "lr_grid.score(X_test_new, y_test)"
   ]
  },
  {
   "cell_type": "code",
   "execution_count": 476,
   "id": "1fa3df7c",
   "metadata": {},
   "outputs": [
    {
     "data": {
      "text/plain": [
       "0.36182627201350104"
      ]
     },
     "execution_count": 476,
     "metadata": {},
     "output_type": "execute_result"
    }
   ],
   "source": [
    "# Grid grad boost\n",
    "gb_final.fit(X_tv_new, y_tv_new.ravel())\n",
    "\n",
    "gb_final.score(X_test_new,y_test)"
   ]
  },
  {
   "cell_type": "markdown",
   "id": "6aae81bb",
   "metadata": {},
   "source": [
    "### 7. Extra digging into models/predictions"
   ]
  },
  {
   "cell_type": "code",
   "execution_count": 477,
   "id": "55b23f27",
   "metadata": {},
   "outputs": [
    {
     "name": "stdout",
     "output_type": "stream",
     "text": [
      "Lasso has MAE = £69k\n"
     ]
    }
   ],
   "source": [
    "y_pred = best_lr.predict(X_test_new)\n",
    "mae = mean_absolute_error(y_test, y_pred)\n",
    "print('Lasso has MAE = £%sk' % (int(str(round(mae))[:-3])))"
   ]
  },
  {
   "cell_type": "code",
   "execution_count": 478,
   "id": "15ee9734",
   "metadata": {},
   "outputs": [
    {
     "name": "stdout",
     "output_type": "stream",
     "text": [
      "Gradient Boost has MAE = £64k\n"
     ]
    }
   ],
   "source": [
    "y_pred = gb_final.predict(X_test_new)\n",
    "mae = mean_absolute_error(y_test, y_pred)\n",
    "print('Gradient Boost has MAE = £%sk' % (int(str(round(mae))[:-3])))"
   ]
  },
  {
   "cell_type": "code",
   "execution_count": 479,
   "id": "aff0004b",
   "metadata": {},
   "outputs": [
    {
     "name": "stdout",
     "output_type": "stream",
     "text": [
      "Non-Grid Random Forest has MAE = £62k\n"
     ]
    }
   ],
   "source": [
    "y_pred = best_rf.predict(X_test_new)\n",
    "mae = mean_absolute_error(y_test, y_pred)\n",
    "print('Non-Grid Random Forest has MAE = £%sk' % (int(str(round(mae))[:-3])))"
   ]
  },
  {
   "cell_type": "code",
   "execution_count": 480,
   "id": "483769d3",
   "metadata": {},
   "outputs": [
    {
     "name": "stdout",
     "output_type": "stream",
     "text": [
      "Grid Random Forest has MAE = £62k\n"
     ]
    }
   ],
   "source": [
    "y_pred = rf_grid.predict(X_test_new)\n",
    "mae = mean_absolute_error(y_test, y_pred)\n",
    "print('Grid Random Forest has MAE = £%sk' % (int(str(round(mae))[:-3])))"
   ]
  },
  {
   "cell_type": "markdown",
   "id": "2b871120",
   "metadata": {},
   "source": [
    "### 8. Making Predictions"
   ]
  },
  {
   "cell_type": "code",
   "execution_count": 484,
   "id": "c7ce9b99",
   "metadata": {},
   "outputs": [],
   "source": [
    "def value_prop(link, floor_size, month_year):\n",
    "    # Create list of zeros to be populated with x variables\n",
    "    x_vars = [0]*(len(df_varselect.columns)-1)\n",
    "    link = [link]\n",
    "    \n",
    "    # use reformulated scraping code to scrape rightmove link to extract relevant variables into features list\n",
    "    scraped2 = scrape_listings(date_from = 20230101, links=link)\n",
    "\n",
    "    # Obtain variables\n",
    "    prop_link, prop_features, prop_price = scraped2[1], scraped2[2],scraped2[3]\n",
    "    prop_statname, statdist, outcode = scraped2[4], scraped2[5], scraped2[6]\n",
    "    postcode, centrality, prop_date = scraped2[7],scraped2[8],scraped2[9]\n",
    "\n",
    "    # Populating x_vars\n",
    "    x_vars[0] = statdist[0] #StatDist(miles)\n",
    "\n",
    "    if prop_features[0][1].startswith('×') and prop_features[0][2].startswith('×'): \n",
    "        x_vars[1] = int(prop_features[0][1][1]) #Bedrooms\n",
    "        x_vars[2] = int(prop_features[0][2][1]) #Bathrooms\n",
    "    elif prop_features[0][0].startswith('×') and prop_features[0][1].startswith('×'): \n",
    "        x_vars[1] = int(prop_features[0][0][1]) #Bedrooms\n",
    "        x_vars[2] = int(prop_features[0][1][1]) #Bathrooms\n",
    "    #x_vars[1] = int(prop_features[0][1][1]) \n",
    "    #x_vars[2] = int(prop_features[0][2][1]) \n",
    "\n",
    "    # Outdoor & Portered\n",
    "    r= requests.get(link[0])\n",
    "    soup = BeautifulSoup(r.text, 'lxml')\n",
    "\n",
    "    porter_list = ['Porter','PORTER','porter', 'Concierge','CONCIERGE','concierge','Caretaker','caretaker','CARETAKER']\n",
    "    outdoor_list = ['Balcony','BALCONY','balcony', 'Terrace','TERRACE','terrace', 'Patio', 'PATIO', 'patio', 'Garden', 'GARDEN', 'garden']\n",
    "\n",
    "    lst = (soup.find_all(\"li\", class_=\"lIhZ24u1NHMa5Y6gDH90A\"))\n",
    "    text =[str(x).replace('<li class=\"lIhZ24u1NHMa5Y6gDH90A\">', '').replace('</li>', '') \n",
    "     for x in lst]\n",
    "    for j in text:\n",
    "        if any(k in j for k in outdoor_list):\n",
    "            x_vars[3] = 1\n",
    "        if any(k in j for k in porter_list):\n",
    "            x_vars[4] = 1\n",
    "\n",
    "    # Adding 1 to appropriate prop type dummy\n",
    "    if prop_features[0][0] in variables:\n",
    "        x_vars[variables.index(prop_features[0][0])-1] = 1\n",
    "\n",
    "    # Contract var\n",
    "    if prop_features[0][-1] == 'Leasehold':\n",
    "        x_vars[11] = 1\n",
    "\n",
    "    # Adding 1 to appropriate outcode dummy\n",
    "    if outcode[0] in variables:\n",
    "        x_vars[variables.index(str(outcode[0]))-1] = 1\n",
    "\n",
    "    # North\n",
    "    south = ['SE1','SE5','SE11','SE16','SE15','SE17','SW8','SW11','SW9','SW4','SW2']\n",
    "    if outcode[0] not in south:\n",
    "        x_vars[31] = 1\n",
    "\n",
    "    # Centrality\n",
    "    x_vars[32] = centrality[0]\n",
    "\n",
    "    # Floor Size\n",
    "    x_vars[33] = floor_size\n",
    "\n",
    "    # Date\n",
    "    if month_year in variables:\n",
    "        x_vars[variables.index(month_year)-1] = 1\n",
    "\n",
    "    # Avg_price\n",
    "    x_vars[39] = int(area_df.loc[area_df['Outcode3']==postcode[0][:-2], 'Avg_price'])\n",
    "    # Squared terms\n",
    "    x_vars[40], x_vars[41], x_vars[42] = x_vars[39]**2, centrality[0]**2, floor_size**2\n",
    "    \n",
    "    X = np.array(x_vars)\n",
    "    #print(X)\n",
    "\n",
    "    # run best models\n",
    "    grid_rf = rf_grid.predict(scaler.transform(X.reshape(1, -1)))\n",
    "    non_grid_rf = best_rf.predict(scaler.transform(X.reshape(1, -1)))\n",
    "    gb = gb_final.predict(scaler.transform(X.reshape(1, -1)))\n",
    "    lasso = best_lr.predict(scaler.transform(X.reshape(1, -1)))\n",
    "\n",
    "    return(f'PREDICTIONS: 1. Grid rf £{str(int(grid_rf))[:-3]}k; 2. Non-grid rf £{str(int(non_grid_rf))[:-3]}k; 3. Grad boost £{str(int(gb))[:-3]}k; 4. Lasso £{str(int(lasso))[:-3]}k')"
   ]
  },
  {
   "cell_type": "code",
   "execution_count": 485,
   "id": "fd51dd65",
   "metadata": {},
   "outputs": [
    {
     "data": {
      "text/plain": [
       "'PREDICTIONS: 1. Grid rf £683k; 2. Non-grid rf £682k; 3. Grad boost £688k; 4. Lasso £640k'"
      ]
     },
     "execution_count": 485,
     "metadata": {},
     "output_type": "execute_result"
    }
   ],
   "source": [
    "# Carleton Road\n",
    "value_prop(floor_size = 804, month_year = 202303, link = 'https://www.rightmove.co.uk/properties/132042029#/?channel=RES_BUY')"
   ]
  },
  {
   "cell_type": "code",
   "execution_count": 486,
   "id": "0a8b99f5",
   "metadata": {},
   "outputs": [
    {
     "data": {
      "text/plain": [
       "'PREDICTIONS: 1. Grid rf £642k; 2. Non-grid rf £637k; 3. Grad boost £618k; 4. Lasso £597k'"
      ]
     },
     "execution_count": 486,
     "metadata": {},
     "output_type": "execute_result"
    }
   ],
   "source": [
    "# Hillmartin Road\n",
    "value_prop(floor_size = 725, month_year = 202301, link = 'https://www.rightmove.co.uk/properties/130506761#/?channel=RES_BUY')"
   ]
  },
  {
   "cell_type": "markdown",
   "id": "4382134c",
   "metadata": {},
   "source": [
    "## OLD CODE"
   ]
  },
  {
   "cell_type": "code",
   "execution_count": 447,
   "id": "ce8a4340",
   "metadata": {},
   "outputs": [],
   "source": [
    "#Importing required funcs/data\n",
    "%run RightMove_Funcs.ipynb\n",
    "area_df=pd.read_csv(f'{location}/data/area_df_2023.csv')\n",
    "\n",
    "# Add property details\n",
    "link = ['https://www.rightmove.co.uk/properties/132042029#/?channel=RES_BUY']\n",
    "floor_size = 804\n",
    "month_year = 202302 # in format YYYYMM\n",
    "\n",
    "link = ['https://www.rightmove.co.uk/properties/130506761#/?channel=RES_BUY']\n",
    "floor_size = 725\n",
    "month_year = 202301 # in format YYYYMM\n",
    "\n",
    "# use reformulated scraping code to scrape rightmove link to extract relevant variables into features list\n",
    "scraped2 = scrape_listings(date_from = 20230101, links=link)\n",
    "\n",
    "# Obtain variables\n",
    "prop_link, prop_features, prop_price = scraped2[1], scraped2[2],scraped2[3]\n",
    "prop_statname, statdist, outcode = scraped2[4], scraped2[5], scraped2[6]\n",
    "postcode, centrality, prop_date = scraped2[7],scraped2[8],scraped2[9]\n",
    "\n",
    "# Create list of zeros to be populated with x variables\n",
    "x_vars = [0]*(len(df_varselect.columns)-1)"
   ]
  },
  {
   "cell_type": "code",
   "execution_count": 449,
   "id": "2e6290db",
   "metadata": {},
   "outputs": [],
   "source": [
    "# Populating x_vars\n",
    "x_vars[0] = statdist[0] #StatDist(miles)\n",
    "\n",
    "if prop_features[0][1].startswith('×') and prop_features[0][2].startswith('×'): \n",
    "    x_vars[1] = int(prop_features[0][1][1]) #Bedrooms\n",
    "    x_vars[2] = int(prop_features[0][2][1]) #Bathrooms\n",
    "elif prop_features[0][0].startswith('×') and prop_features[0][1].startswith('×'): \n",
    "    x_vars[1] = int(prop_features[0][0][1]) #Bedrooms\n",
    "    x_vars[2] = int(prop_features[0][1][1]) #Bathrooms\n",
    "#x_vars[1] = int(prop_features[0][1][1]) \n",
    "#x_vars[2] = int(prop_features[0][2][1]) \n",
    "\n",
    "# Outdoor & Portered\n",
    "r= requests.get(link[0])\n",
    "soup = BeautifulSoup(r.text, 'lxml')\n",
    "\n",
    "porter_list = ['Porter','PORTER','porter', 'Concierge','CONCIERGE','concierge','Caretaker','caretaker','CARETAKER']\n",
    "outdoor_list = ['Balcony','BALCONY','balcony', 'Terrace','TERRACE','terrace', 'Patio', 'PATIO', 'patio', 'Garden', 'GARDEN', 'garden']\n",
    "\n",
    "lst = (soup.find_all(\"li\", class_=\"lIhZ24u1NHMa5Y6gDH90A\"))\n",
    "text =[str(x).replace('<li class=\"lIhZ24u1NHMa5Y6gDH90A\">', '').replace('</li>', '') \n",
    " for x in lst]\n",
    "for j in text:\n",
    "    if any(k in j for k in outdoor_list):\n",
    "        x_vars[3] = 1\n",
    "    if any(k in j for k in porter_list):\n",
    "        x_vars[4] = 1\n",
    "    \n",
    "# Adding 1 to appropriate prop type dummy\n",
    "if prop_features[0][0] in variables:\n",
    "    x_vars[variables.index(prop_features[0][0])-1] = 1\n",
    "\n",
    "# Contract var\n",
    "if prop_features[0][-1] == 'Leasehold':\n",
    "    x_vars[11] = 1\n",
    "    \n",
    "# Adding 1 to appropriate outcode dummy\n",
    "if outcode[0] in variables:\n",
    "    x_vars[variables.index(str(outcode[0]))-1] = 1\n",
    "    \n",
    "# North\n",
    "south = ['SE1','SE5','SE11','SE16','SE15','SE17','SW8','SW11','SW9','SW4','SW2']\n",
    "if outcode[0] not in south:\n",
    "    x_vars[31] = 1\n",
    "    \n",
    "# Centrality\n",
    "x_vars[32] = centrality[0]\n",
    "\n",
    "# Floor Size\n",
    "x_vars[33] = floor_size\n",
    "\n",
    "# Date\n",
    "if month_year in variables:\n",
    "    x_vars[variables.index(month_year)-1] = 1\n",
    "\n",
    "# Avg_price\n",
    "x_vars[39] = int(area_df.loc[area_df['Outcode3']==postcode[0][:-2], 'Avg_price'])\n",
    "# Squared terms\n",
    "x_vars[40], x_vars[41], x_vars[42] = x_vars[39]**2, centrality[0]**2, floor_size**2"
   ]
  },
  {
   "cell_type": "code",
   "execution_count": 450,
   "id": "fa872d85",
   "metadata": {},
   "outputs": [
    {
     "name": "stdout",
     "output_type": "stream",
     "text": [
      "PREDICTIONS: 1. Grid rf £566k; 2. Non-grid rf £586k; 3. Grad boost £369k; 4. Lasso £[596366.63470922]k\n"
     ]
    }
   ],
   "source": [
    "X = scaler.transform(np.array(x_vars).reshape(1, -1))\n",
    "\n",
    "grid_rf = rf_grid.predict(X)\n",
    "non_grid_rf = best_rf.predict(X)\n",
    "gb = gb_final.predict(X)\n",
    "lasso = best_lr.predict(X)\n",
    "\n",
    "print(f'PREDICTIONS: 1. Grid rf £{str(int(grid_rf))[:-3]}k; 2. Non-grid rf £{str(int(non_grid_rf))[:-3]}k; 3. Grad boost £{str(int(gb))[:-3]}k; 4. Lasso £{lasso}k')"
   ]
  }
 ],
 "metadata": {
  "kernelspec": {
   "display_name": "Python 3 (ipykernel)",
   "language": "python",
   "name": "python3"
  },
  "language_info": {
   "codemirror_mode": {
    "name": "ipython",
    "version": 3
   },
   "file_extension": ".py",
   "mimetype": "text/x-python",
   "name": "python",
   "nbconvert_exporter": "python",
   "pygments_lexer": "ipython3",
   "version": "3.8.8"
  }
 },
 "nbformat": 4,
 "nbformat_minor": 5
}
