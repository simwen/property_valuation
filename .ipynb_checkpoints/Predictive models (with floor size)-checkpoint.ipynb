{
 "cells": [
  {
   "cell_type": "code",
   "execution_count": 164,
   "id": "18d6fdfe",
   "metadata": {},
   "outputs": [],
   "source": [
    "import pandas as pd\n",
    "import numpy as np\n",
    "from sklearn.model_selection import train_test_split\n",
    "from sklearn import preprocessing\n",
    "\n",
    "# ML functions and plotting libraries\n",
    "from sklearn.tree import DecisionTreeRegressor, plot_tree\n",
    "from sklearn.linear_model import Lasso\n",
    "from sklearn.ensemble import RandomForestRegressor, GradientBoostingRegressor\n",
    "import matplotlib.pyplot as plt\n",
    "from sklearn.inspection import plot_partial_dependence\n",
    "from sklearn.metrics import confusion_matrix\n",
    "from sklearn.metrics import mean_absolute_error\n",
    "from sklearn.model_selection import GridSearchCV"
   ]
  },
  {
   "cell_type": "code",
   "execution_count": 2,
   "id": "79ee2884",
   "metadata": {},
   "outputs": [],
   "source": [
    "# file naming variables\n",
    "latest_version = 'df_2023-01-22'\n",
    "location = '/Users/Sim/Documents/Other/Programming/Personal Projects/property_valuation'"
   ]
  },
  {
   "cell_type": "markdown",
   "id": "e01d5a52",
   "metadata": {},
   "source": [
    "### 1. Loading the latest data"
   ]
  },
  {
   "cell_type": "code",
   "execution_count": 25,
   "id": "6eec565b",
   "metadata": {},
   "outputs": [],
   "source": [
    "df=pd.read_csv(f'{location}/data/{latest_version}.csv')"
   ]
  },
  {
   "cell_type": "markdown",
   "id": "b7f1d751",
   "metadata": {},
   "source": [
    "### 2. Data pre-processing & feature engineering"
   ]
  },
  {
   "cell_type": "code",
   "execution_count": 26,
   "id": "bd87e7b2",
   "metadata": {},
   "outputs": [
    {
     "data": {
      "text/plain": [
       "Index(['Date', 'Price', 'NearStat', 'StatDist(miles)', 'Prop_Type', 'Bedrooms',\n",
       "       'Bathrooms', 'Floor_Size', 'Outdoor', 'Portered', 'Contract_Type',\n",
       "       'Outcode', 'Outcode2', 'Outcode3', 'Postcode', 'Centrality', 'North',\n",
       "       'Links', 'Date_Scraped', 'Avg_price'],\n",
       "      dtype='object')"
      ]
     },
     "execution_count": 26,
     "metadata": {},
     "output_type": "execute_result"
    }
   ],
   "source": [
    "df = df.drop('Unnamed: 0', axis=1)\n",
    "\n",
    "df.columns"
   ]
  },
  {
   "cell_type": "code",
   "execution_count": 28,
   "id": "73c025ff",
   "metadata": {},
   "outputs": [],
   "source": [
    "# Getting dummies vars\n",
    "df2 = pd.concat([df, pd.get_dummies(df.iloc[:,2])], axis=1) #nearest station\n",
    "df2 = pd.concat([df2, pd.get_dummies(df.iloc[:,4])], axis=1) #prop_type\n",
    "df2 = pd.concat([df2, pd.get_dummies(df.iloc[:,10])], axis=1) #contract\n",
    "df2 = pd.concat([df2, pd.get_dummies(df.iloc[:,12])], axis=1) #outcode2\n",
    "df2 = pd.concat([df2, pd.get_dummies(df.iloc[:,18])], axis=1) #scraped_date"
   ]
  },
  {
   "cell_type": "code",
   "execution_count": 38,
   "id": "79f4391f",
   "metadata": {},
   "outputs": [],
   "source": [
    "# Leave out 'Studio', 'Freehold', stations, a bunch of postcodes\n",
    "\n",
    "variables = ['Price','StatDist(miles)','Bedrooms','Bathrooms','Outdoor','Portered','Apartment','Flat','House',\n",
    "             'Maisonette','Mews', 'Terraced','Leasehold','NW6','SW1','N1','W2','W9','SE1','N7','NW1','EC1','NW3',\n",
    "             'SW11','WC1','W1','NW8','W10','SW3','NW5','W11','SE11','North','Centrality','Floor_Size', \n",
    "             '2022-10-23','2022-10-29', '2022-11-27','2023-01-13','2023-01-22', 'Avg_price']\n",
    "\n",
    "stations = ['Edgware Road (Circle, District, Hammersmith & City) Station',\n",
    "            'St. John\\'s Wood Station','Marylebone Station','Paddington Station',                                             \n",
    "            'Edgware Road (Bakerloo) Station', 'Warwick Avenue Station','Lancaster Gate Station',\n",
    "            'Marble Arch Station','Maida Vale Station',\n",
    "            'Baker Street Station','Royal Oak Station']\n",
    "\n",
    "df_varselect = df2[variables].dropna()\n",
    "#df_varselect2 =df2[stations]\n",
    "#df_varselect2 = pd.concat([df_varselect, df_varselect2], axis=1).dropna()\n",
    "#df_varselect2\n",
    "df_varselect['Avg_price2'] = df_varselect['Avg_price'] **2\n",
    "df_varselect['Centrality2'] = df_varselect['Centrality'] **2\n",
    "df_varselect['Floor_Size2'] = df_varselect['Floor_Size'] **2"
   ]
  },
  {
   "cell_type": "markdown",
   "id": "9f1ec167",
   "metadata": {},
   "source": [
    "### 3. Shuffling, Splitting and Normalising"
   ]
  },
  {
   "cell_type": "code",
   "execution_count": 43,
   "id": "85773b38",
   "metadata": {},
   "outputs": [
    {
     "name": "stdout",
     "output_type": "stream",
     "text": [
      "(667, 43)\n",
      "(334, 43)\n",
      "(334, 43)\n",
      "(667,)\n",
      "(334,)\n",
      "(334,)\n",
      "(1001, 43)\n",
      "(1001, 1)\n"
     ]
    }
   ],
   "source": [
    "# Create feature and target arrays\n",
    "X = np.array(df_varselect.iloc[:,1:df_varselect.shape[1]])\n",
    "y = np.array(df_varselect.iloc[:,0])\n",
    "\n",
    "# Shuffling data (to ensure random order) and performing 0.5 : 0.25 : 0.25 train-validation-test set splits\n",
    "X_train, X_non, y_train, y_non = train_test_split(X, y, test_size=0.5, shuffle=True, random_state=1)\n",
    "X_val, X_test, y_val, y_test = train_test_split(X_non, y_non, test_size=0.5, shuffle=True, random_state=1)\n",
    "\n",
    "# Combining train and val for cross validation approach\n",
    "X_tv, y_tv = pd.concat([pd.DataFrame(X_train), pd.DataFrame(X_val)]), pd.concat([pd.DataFrame(y_train), pd.DataFrame(y_val)])\n",
    "y_tv_new = np.array(y_tv)\n",
    "\n",
    "print(X_train.shape)\n",
    "print(X_val.shape)\n",
    "print(X_test.shape)\n",
    "print(y_train.shape)\n",
    "print(y_val.shape)\n",
    "print(y_test.shape)\n",
    "\n",
    "print(X_tv.shape)\n",
    "print(y_tv.shape)"
   ]
  },
  {
   "cell_type": "code",
   "execution_count": 44,
   "id": "435b4d55",
   "metadata": {},
   "outputs": [],
   "source": [
    "# Normalising\n",
    "scaler = preprocessing.StandardScaler().fit(X_train)\n",
    "# Apply the scaling object to both train/validation/test sets\n",
    "X_train_new = scaler.transform(X_train)\n",
    "X_val_new = scaler.transform(X_val)\n",
    "X_test_new = scaler.transform(X_test)\n",
    "X_tv_new = scaler.transform(X_tv)"
   ]
  },
  {
   "cell_type": "markdown",
   "id": "9ea03bbc",
   "metadata": {},
   "source": [
    "### 5. Model Training"
   ]
  },
  {
   "cell_type": "markdown",
   "id": "3a7e21af",
   "metadata": {},
   "source": [
    "#### 5A. Lasso Model"
   ]
  },
  {
   "cell_type": "code",
   "execution_count": 165,
   "id": "eb81fca7",
   "metadata": {},
   "outputs": [
    {
     "name": "stdout",
     "output_type": "stream",
     "text": [
      "The maximum validation set accuracy - 0.263 - occurs at alpha = 0.1\n"
     ]
    }
   ],
   "source": [
    "train_acc_dict = {}\n",
    "val_acc_dict = {}\n",
    "\n",
    "for a in np.arange(0.1, 10, 0.1):\n",
    "    reg = Lasso(alpha=a, random_state=123)\n",
    "    reg = reg.fit(X_train_new, y_train)\n",
    "    \n",
    "    train_acc, val_acc = reg.score(X_train_new, y_train), reg.score(X_val_new, y_val)\n",
    "    train_acc_dict[a], val_acc_dict[a] = train_acc, val_acc\n",
    "    \n",
    "best_alpha = max(val_acc_dict, key=val_acc_dict.get)\n",
    "best_acc = round(val_acc_dict[best_alpha], 3)\n",
    "print('The maximum validation set accuracy - %s - occurs at alpha = %s' % (best_acc, best_alpha))"
   ]
  },
  {
   "cell_type": "code",
   "execution_count": 169,
   "id": "2544baab",
   "metadata": {},
   "outputs": [
    {
     "data": {
      "text/plain": [
       "Text(1.1, 0.273, '(alpha=0.1, accuracy=0.263)')"
      ]
     },
     "execution_count": 169,
     "metadata": {},
     "output_type": "execute_result"
    },
    {
     "data": {
      "image/png": "[encoded data removed]",
      "text/plain": [
       "<Figure size 300x200 with 1 Axes>"
      ]
     },
     "metadata": {},
     "output_type": "display_data"
    }
   ],
   "source": [
    "n_est = [x for x in np.arange(0.01, 1, 0.01)]\n",
    "train_acc = [acc for acc in train_acc_dict.values()]\n",
    "val_acc = [acc for acc in val_acc_dict.values()]\n",
    "\n",
    "# viz\n",
    "fig = plt.figure()\n",
    "ax = fig.add_subplot(111)\n",
    "ax.plot(n_est, train_acc)\n",
    "ax.plot(n_est, val_acc)\n",
    "fig.set_size_inches(3, 2)\n",
    "ax.set_xlabel('alpha')\n",
    "ax.set_ylabel('Accuracy')\n",
    "ax.annotate('(alpha=%s, accuracy=%s)' % (best_alpha, best_acc), xy=(best_alpha, best_acc), xytext=(best_alpha + 1, best_acc+0.01), arrowprops=dict(arrowstyle=\"->\", facecolor='black'))"
   ]
  },
  {
   "cell_type": "code",
   "execution_count": 189,
   "id": "32c4bee9",
   "metadata": {},
   "outputs": [
    {
     "name": "stdout",
     "output_type": "stream",
     "text": [
      "Fitting 10 folds for each of 100 candidates, totalling 1000 fits\n",
      "Best val accuracy - 0.31133264159639046 - occurs at alpha = {'alpha': 2.99}\n"
     ]
    }
   ],
   "source": [
    "# Using grid search and 10-fold CV instead\n",
    "\n",
    "param_grid = {'alpha': np.arange(0.02, 3, 0.03)}\n",
    "\n",
    "grid_lr = GridSearchCV(Lasso(), param_grid, verbose = 1,  cv = 10, scoring = 'r2')\n",
    "\n",
    "# Fitting the grid model\n",
    "grid_lr.fit(X_tv_new, y_tv)\n",
    "score_lr = grid_lr.best_score_\n",
    "param_lr = grid_lr.best_params_\n",
    "print('Best val accuracy - %s - occurs at alpha = %s' % (score_lr, param_lr))\n",
    "# 0.3615268259069946\n",
    "# 0.3615625840150405"
   ]
  },
  {
   "cell_type": "code",
   "execution_count": 203,
   "id": "b06c5562",
   "metadata": {},
   "outputs": [],
   "source": [
    "# Building subset of best predictors for Lasso\n",
    "best_predictors = abs(X_tv.corrwith(y_tv[0])).sort_values(ascending = False)\n",
    "bp_idx = best_predictors.iloc[0:40].index\n"
   ]
  },
  {
   "cell_type": "code",
   "execution_count": 202,
   "id": "0a2dff54",
   "metadata": {},
   "outputs": [
    {
     "name": "stdout",
     "output_type": "stream",
     "text": [
      "Fitting 10 folds for each of 67 candidates, totalling 670 fits\n",
      "Best val accuracy - 0.30790430193562657 - occurs at alpha = {'alpha': 29.800000000000047}\n"
     ]
    }
   ],
   "source": [
    "# Using grid search and 10-fold CV instead\n",
    "\n",
    "param_grid = {'alpha': np.arange(10, 30, 0.3)}\n",
    "\n",
    "grid_lr = GridSearchCV(Lasso(), param_grid, verbose = 1,  cv = 10, scoring = 'r2')\n",
    "\n",
    "# Fitting the grid model\n",
    "grid_lr.fit(X_tv_new[:,bp_idx], y_tv)\n",
    "score_lr = grid_lr.best_score_\n",
    "param_lr = grid_lr.best_params_\n",
    "print('Best val accuracy - %s - occurs at alpha = %s' % (score_lr, param_lr))\n",
    "# 0.3615268259069946\n",
    "# 0.3615625840150405"
   ]
  },
  {
   "cell_type": "markdown",
   "id": "ab918a34",
   "metadata": {},
   "source": [
    "#### 5B. Random Forest Model\n",
    "Next we train a random forest classifier. Using the loop in the code below, we train multiple RFs of varying n_estimators and choose the model that maximises validation set accuracy (i.e. minimises out of sample error)."
   ]
  },
  {
   "cell_type": "code",
   "execution_count": 53,
   "id": "6cd257b5",
   "metadata": {},
   "outputs": [
    {
     "name": "stdout",
     "output_type": "stream",
     "text": [
      "The maximum validation set accuracy - 0.339 - occurs at no. trees = 34\n"
     ]
    }
   ],
   "source": [
    "# Choosing best no. of estimators (trees)\n",
    "train_acc_dict = {}\n",
    "val_acc_dict = {}\n",
    "\n",
    "for n in range(2, 101):\n",
    "    rf = RandomForestRegressor(n_estimators=n, random_state=123)\n",
    "    rf = rf.fit(X_train, y_train.ravel())\n",
    "    train_acc, val_acc = rf.score(X_train, y_train), rf.score(X_val, y_val)\n",
    "    train_acc_dict[n], val_acc_dict[n] = train_acc, val_acc\n",
    "    \n",
    "best_trees = max(val_acc_dict, key=val_acc_dict.get)\n",
    "best_acc = round(val_acc_dict[best_trees], 4)\n",
    "print('The maximum validation set accuracy - %s - occurs at no. trees = %s' % (best_acc, best_trees))"
   ]
  },
  {
   "cell_type": "code",
   "execution_count": 55,
   "id": "2a99f246",
   "metadata": {},
   "outputs": [
    {
     "name": "stdout",
     "output_type": "stream",
     "text": [
      "The maximum validation set accuracy - 0.3443 - occurs at max depth = 20\n"
     ]
    }
   ],
   "source": [
    "# Choosing best max tree depth\n",
    "\n",
    "train_acc_dict = {}\n",
    "val_acc_dict = {}\n",
    "\n",
    "for n in range(1, len(variables)):\n",
    "    rf = RandomForestRegressor(n_estimators=best_trees, random_state=123, max_depth = n)\n",
    "    rf = rf.fit(X_train, y_train)\n",
    "    train_acc, val_acc = rf.score(X_train, y_train), rf.score(X_val, y_val)\n",
    "    train_acc_dict[n], val_acc_dict[n] = train_acc, val_acc\n",
    "\n",
    "best_depth = max(val_acc_dict, key=val_acc_dict.get)\n",
    "best_acc = round(val_acc_dict[best_depth], 4)\n",
    "print('The maximum validation set accuracy - %s - occurs at max depth = %s' % (best_acc, best_depth))"
   ]
  },
  {
   "cell_type": "code",
   "execution_count": 56,
   "id": "024ec453",
   "metadata": {},
   "outputs": [
    {
     "data": {
      "text/plain": [
       "Text(21, 0.3543, '(max_depth=20, accuracy=0.3443)')"
      ]
     },
     "execution_count": 56,
     "metadata": {},
     "output_type": "execute_result"
    },
    {
     "data": {
      "image/png": "[encoded data removed]",
      "text/plain": [
       "<Figure size 640x480 with 1 Axes>"
      ]
     },
     "metadata": {},
     "output_type": "display_data"
    }
   ],
   "source": [
    "n_est = [x for x in range(1, len(variables))]\n",
    "train_acc = [acc for acc in train_acc_dict.values()]\n",
    "val_acc = [acc for acc in val_acc_dict.values()]\n",
    "\n",
    "# viz\n",
    "fig = plt.figure()\n",
    "fig.set_size_inches(3, 2)\n",
    "ax = fig.add_subplot(111)\n",
    "ax.plot(n_est, train_acc)\n",
    "ax.plot(n_est, val_acc)\n",
    "ax.set_xlabel('n_estimators')\n",
    "ax.set_ylabel('Accuracy')\n",
    "ax.annotate('(max_depth=%s, accuracy=%s)' % (best_depth, best_acc), xy=(best_depth, best_acc), xytext=(best_depth + 1, best_acc+0.01), arrowprops=dict(arrowstyle=\"->\", facecolor='black'))"
   ]
  },
  {
   "cell_type": "code",
   "execution_count": 57,
   "id": "33b10fc4",
   "metadata": {},
   "outputs": [
    {
     "name": "stdout",
     "output_type": "stream",
     "text": [
      "The maximum validation set accuracy - 0.3445 - occurs at depth = 20 and trees = 33\n"
     ]
    }
   ],
   "source": [
    "# Combining no. tress and depth - choosing best of both!\n",
    "train_acc_dict = {}\n",
    "val_acc_dict = {}\n",
    "\n",
    "for depths in range(5, (len(variables)-2)):\n",
    "    for trees in range(max(best_trees-15,1), best_trees +15):\n",
    "        rf = RandomForestRegressor(n_estimators=trees, random_state=123, max_depth = depths)\n",
    "        rf = rf.fit(X_train, y_train)\n",
    "        train_acc, val_acc = rf.score(X_train, y_train), rf.score(X_val, y_val)\n",
    "        train_acc_dict[(depths,trees)], val_acc_dict[(depths,trees)] = train_acc, val_acc\n",
    "\n",
    "best_depth_trees = max(val_acc_dict, key=val_acc_dict.get)\n",
    "best_depth2, best_trees2 = best_depth_trees[0], best_depth_trees[1]\n",
    "best_acc = round(val_acc_dict[best_depth_trees], 4)\n",
    "print('The maximum validation set accuracy - %s - occurs at depth = %s and trees = %s' % (best_acc, best_depth2, best_trees2))"
   ]
  },
  {
   "cell_type": "code",
   "execution_count": 101,
   "id": "23744533",
   "metadata": {},
   "outputs": [
    {
     "name": "stdout",
     "output_type": "stream",
     "text": [
      "Fitting 10 folds for each of 72 candidates, totalling 720 fits\n",
      "Best val accuracy - 0.4234253538270397 - occurs at depth = {'max_depth': 30, 'n_estimators': 500}\n"
     ]
    }
   ],
   "source": [
    "# Using grid search and 10-fold CV instead\n",
    "\n",
    "param_grid = {'max_depth': [5,7,10,15,20,25,30,35], 'n_estimators': [50,75,100,150,200,250,300,400,500]}\n",
    "#param_grid = {'max_depth': [3,4,5,6,8], 'n_estimators': [50,100,150]}\n",
    "\n",
    "rf = RandomForestRegressor()\n",
    "\n",
    "grid_rf = GridSearchCV(rf, param_grid, verbose = 1,  cv = 10, scoring = 'r2')\n",
    "\n",
    "# Fitting the grid model\n",
    "grid_rf.fit(X_tv_new, y_tv_new.ravel())\n",
    "score_rf = grid_rf.best_score_\n",
    "param_rf = grid_rf.best_params_\n",
    "print('Best val accuracy - %s - occurs at depth = %s' % (score, param))"
   ]
  },
  {
   "cell_type": "markdown",
   "id": "3948774f",
   "metadata": {},
   "source": [
    "#### 5C. Gradient Boosting"
   ]
  },
  {
   "cell_type": "code",
   "execution_count": 236,
   "id": "e37ec299",
   "metadata": {},
   "outputs": [
    {
     "name": "stdout",
     "output_type": "stream",
     "text": [
      "Fitting 10 folds for each of 23 candidates, totalling 230 fits\n",
      "Best val accuracy - 0.3692151526140316 - occurs at depth = {'n_estimators': 725}\n"
     ]
    }
   ],
   "source": [
    "param_test1 = {'n_estimators':range(300,851,25)}\n",
    "\n",
    "gb = GradientBoostingRegressor(random_state = 123, learning_rate=0.1, min_samples_split=500, min_samples_leaf=50,\n",
    "                               max_depth=8, max_features='sqrt')\n",
    "\n",
    "grid_gb1 = GridSearchCV(gb, param_grid = param_test1, verbose = 1,  cv = 10, scoring='r2')\n",
    "\n",
    "grid_gb1.fit(X_tv_new, y_tv_new.ravel())\n",
    "\n",
    "print('Best val accuracy - %s - occurs at depth = %s' % (grid_gb1.best_score_, grid_gb1.best_params_))"
   ]
  },
  {
   "cell_type": "code",
   "execution_count": 237,
   "id": "822ee874",
   "metadata": {},
   "outputs": [
    {
     "name": "stdout",
     "output_type": "stream",
     "text": [
      "Fitting 10 folds for each of 72 candidates, totalling 720 fits\n",
      "Best val accuracy - 0.3828340569804875 - occurs at depth = {'max_depth': 5, 'min_samples_split': 300}\n"
     ]
    }
   ],
   "source": [
    "param_test2 = {'max_depth':range(5,23,2), 'min_samples_split':range(100,801,100)}\n",
    "\n",
    "gb = GradientBoostingRegressor(random_state = 123, n_estimators=grid_gb1.best_params_['n_estimators'], \n",
    "                               learning_rate=0.1, min_samples_leaf=50, max_features='sqrt')\n",
    "\n",
    "grid_gb2 = GridSearchCV(gb, param_grid = param_test2, verbose = 1,  cv = 10, scoring='r2')\n",
    "\n",
    "grid_gb2.fit(X_tv_new, y_tv_new.ravel())\n",
    "\n",
    "print('Best val accuracy - %s - occurs at depth = %s' % (grid_gb2.best_score_, grid_gb2.best_params_))"
   ]
  },
  {
   "cell_type": "code",
   "execution_count": 238,
   "id": "c5377dd1",
   "metadata": {},
   "outputs": [
    {
     "name": "stdout",
     "output_type": "stream",
     "text": [
      "Fitting 10 folds for each of 30 candidates, totalling 300 fits\n",
      "Best val accuracy - 0.39344096651935767 - occurs at depth = {'max_features': 3, 'min_samples_leaf': 30}\n"
     ]
    }
   ],
   "source": [
    "param_test3 = {'min_samples_leaf':range(30,71,10), 'max_features':range(2,8,1)}\n",
    "\n",
    "gb = GradientBoostingRegressor(random_state = 123, n_estimators=grid_gb1.best_params_['n_estimators'], \n",
    "                               learning_rate=0.1, min_samples_split=grid_gb2.best_params_['min_samples_split'], \n",
    "                               max_depth=grid_gb2.best_params_['max_depth'])\n",
    "\n",
    "grid_gb3 = GridSearchCV(gb, param_grid = param_test3, verbose = 1,  cv = 10, scoring='r2')\n",
    "\n",
    "grid_gb3.fit(X_tv_new, y_tv_new.ravel())\n",
    "\n",
    "print('Best val accuracy - %s - occurs at depth = %s' % (grid_gb3.best_score_, grid_gb3.best_params_))"
   ]
  },
  {
   "cell_type": "markdown",
   "id": "6c2ba7d6",
   "metadata": {},
   "source": [
    "### 6. Comparing tuned, best in class models"
   ]
  },
  {
   "cell_type": "code",
   "execution_count": 126,
   "id": "e5b99d98",
   "metadata": {},
   "outputs": [
    {
     "data": {
      "text/plain": [
       "0.44053063623461874"
      ]
     },
     "execution_count": 126,
     "metadata": {},
     "output_type": "execute_result"
    }
   ],
   "source": [
    "# RF test set error\n",
    "best_rf = RandomForestRegressor(random_state=123, n_estimators=best_trees2, max_depth = best_depth2)\n",
    "best_rf.fit(X_tv_new, y_tv_new.ravel())\n",
    "best_rf.score(X_test_new, y_test)"
   ]
  },
  {
   "cell_type": "code",
   "execution_count": 127,
   "id": "e5ebef76",
   "metadata": {},
   "outputs": [
    {
     "data": {
      "text/plain": [
       "0.4463880685732352"
      ]
     },
     "execution_count": 127,
     "metadata": {},
     "output_type": "execute_result"
    }
   ],
   "source": [
    "# Grid rand forest\n",
    "rf_grid = RandomForestRegressor(random_state=123, n_estimators=param_rf['n_estimators'] , \n",
    "                                max_depth = param_rf['max_depth'] )\n",
    "rf_grid.fit(X_tv_new, y_tv_new.ravel())\n",
    "\n",
    "rf_grid.score(X_test_new,y_test)"
   ]
  },
  {
   "cell_type": "code",
   "execution_count": 128,
   "id": "7f845081",
   "metadata": {},
   "outputs": [
    {
     "data": {
      "text/plain": [
       "0.30170463254459134"
      ]
     },
     "execution_count": 128,
     "metadata": {},
     "output_type": "execute_result"
    }
   ],
   "source": [
    "# Lasso test set error\n",
    "best_lr = Lasso(random_state=123, alpha=best_alpha)\n",
    "best_lr.fit(X_tv_new, y_tv_new.ravel())\n",
    "best_lr.score(X_test_new, y_test)"
   ]
  },
  {
   "cell_type": "code",
   "execution_count": 131,
   "id": "9580fabc",
   "metadata": {},
   "outputs": [
    {
     "data": {
      "text/plain": [
       "0.3017032157476949"
      ]
     },
     "execution_count": 131,
     "metadata": {},
     "output_type": "execute_result"
    }
   ],
   "source": [
    "# Grid lasso\n",
    "lr_grid = Lasso(random_state=123, alpha = param_lr['alpha'])\n",
    "lr_grid.fit(X_tv_new, y_tv_new)\n",
    "lr_grid.score(X_test_new, y_test)"
   ]
  },
  {
   "cell_type": "code",
   "execution_count": 239,
   "id": "1fa3df7c",
   "metadata": {},
   "outputs": [
    {
     "data": {
      "text/plain": [
       "0.37629429206060394"
      ]
     },
     "execution_count": 239,
     "metadata": {},
     "output_type": "execute_result"
    }
   ],
   "source": [
    "# Grid grad boost\n",
    "gb_grid = GradientBoostingRegressor(random_state = 123, n_estimators=grid_gb1.best_params_['n_estimators'], \n",
    "                                    learning_rate=0.1,min_samples_split=grid_gb2.best_params_['min_samples_split'], \n",
    "                                   max_depth=grid_gb2.best_params_['max_depth'])\n",
    "                               \n",
    "gb_grid.fit(X_tv_new, y_tv_new.ravel())\n",
    "\n",
    "gb_grid.score(X_test_new,y_test)"
   ]
  },
  {
   "cell_type": "markdown",
   "id": "6aae81bb",
   "metadata": {},
   "source": [
    "### 7. Extra digging into models/predictions"
   ]
  },
  {
   "cell_type": "code",
   "execution_count": 132,
   "id": "55b23f27",
   "metadata": {},
   "outputs": [
    {
     "name": "stdout",
     "output_type": "stream",
     "text": [
      "Lasso has MAE = £72k\n"
     ]
    }
   ],
   "source": [
    "y_pred = best_lr.predict(X_test_new)\n",
    "mae = mean_absolute_error(y_test, y_pred)\n",
    "print('Lasso has MAE = £%sk' % (int(str(round(mae))[:-3])))"
   ]
  },
  {
   "cell_type": "code",
   "execution_count": 140,
   "id": "aff0004b",
   "metadata": {},
   "outputs": [
    {
     "name": "stdout",
     "output_type": "stream",
     "text": [
      "Random Forest has MAE = £62k\n"
     ]
    }
   ],
   "source": [
    "y_pred = best_rf.predict(X_test_new)\n",
    "mae = mean_absolute_error(y_test, y_pred)\n",
    "print('Random Forest has MAE = £%sk' % (int(str(round(mae))[:-3])))"
   ]
  },
  {
   "cell_type": "code",
   "execution_count": 141,
   "id": "483769d3",
   "metadata": {},
   "outputs": [
    {
     "name": "stdout",
     "output_type": "stream",
     "text": [
      "Random Forest has MAE = £62k\n"
     ]
    }
   ],
   "source": [
    "y_pred = rf_grid.predict(X_test_new)\n",
    "mae = mean_absolute_error(y_test, y_pred)\n",
    "print('Random Forest has MAE = £%sk' % (int(str(round(mae))[:-3])))"
   ]
  },
  {
   "cell_type": "code",
   "execution_count": 149,
   "id": "81605fd7",
   "metadata": {},
   "outputs": [
    {
     "data": {
      "text/html": [
       "<div>\n",
       "<style scoped>\n",
       "    .dataframe tbody tr th:only-of-type {\n",
       "        vertical-align: middle;\n",
       "    }\n",
       "\n",
       "    .dataframe tbody tr th {\n",
       "        vertical-align: top;\n",
       "    }\n",
       "\n",
       "    .dataframe thead th {\n",
       "        text-align: right;\n",
       "    }\n",
       "</style>\n",
       "<table border=\"1\" class=\"dataframe\">\n",
       "  <thead>\n",
       "    <tr style=\"text-align: right;\">\n",
       "      <th></th>\n",
       "      <th>Price</th>\n",
       "      <th>StatDist(miles)</th>\n",
       "      <th>Bedrooms</th>\n",
       "      <th>Bathrooms</th>\n",
       "      <th>Outdoor</th>\n",
       "      <th>Portered</th>\n",
       "      <th>Apartment</th>\n",
       "      <th>Flat</th>\n",
       "      <th>House</th>\n",
       "      <th>Maisonette</th>\n",
       "      <th>...</th>\n",
       "      <th>Floor_Size</th>\n",
       "      <th>2022-10-23</th>\n",
       "      <th>2022-10-29</th>\n",
       "      <th>2022-11-27</th>\n",
       "      <th>2023-01-13</th>\n",
       "      <th>2023-01-22</th>\n",
       "      <th>Avg_price</th>\n",
       "      <th>Avg_price2</th>\n",
       "      <th>Centrality2</th>\n",
       "      <th>Floor_Size2</th>\n",
       "    </tr>\n",
       "  </thead>\n",
       "  <tbody>\n",
       "    <tr>\n",
       "      <th>3103</th>\n",
       "      <td>650000.0</td>\n",
       "      <td>0.2</td>\n",
       "      <td>2.0</td>\n",
       "      <td>1.0</td>\n",
       "      <td>0.0</td>\n",
       "      <td>0.0</td>\n",
       "      <td>0</td>\n",
       "      <td>1</td>\n",
       "      <td>0</td>\n",
       "      <td>0</td>\n",
       "      <td>...</td>\n",
       "      <td>725.0</td>\n",
       "      <td>0</td>\n",
       "      <td>0</td>\n",
       "      <td>0</td>\n",
       "      <td>1</td>\n",
       "      <td>0</td>\n",
       "      <td>96.0</td>\n",
       "      <td>9216.0</td>\n",
       "      <td>23.266836</td>\n",
       "      <td>525625.0</td>\n",
       "    </tr>\n",
       "  </tbody>\n",
       "</table>\n",
       "<p>1 rows × 44 columns</p>\n",
       "</div>"
      ],
      "text/plain": [
       "         Price  StatDist(miles)  Bedrooms  Bathrooms  Outdoor  Portered  \\\n",
       "3103  650000.0              0.2       2.0        1.0      0.0       0.0   \n",
       "\n",
       "      Apartment  Flat  House  Maisonette  ...  Floor_Size  2022-10-23  \\\n",
       "3103          0     1      0           0  ...       725.0           0   \n",
       "\n",
       "      2022-10-29  2022-11-27  2023-01-13  2023-01-22  Avg_price  Avg_price2  \\\n",
       "3103           0           0           1           0       96.0      9216.0   \n",
       "\n",
       "      Centrality2  Floor_Size2  \n",
       "3103    23.266836     525625.0  \n",
       "\n",
       "[1 rows x 44 columns]"
      ]
     },
     "execution_count": 149,
     "metadata": {},
     "output_type": "execute_result"
    }
   ],
   "source": [
    "#index 3103\n",
    "df_varselect[round(df_varselect[\"Centrality\"],5) == 4.82357]"
   ]
  },
  {
   "cell_type": "code",
   "execution_count": 156,
   "id": "8379b87c",
   "metadata": {},
   "outputs": [
    {
     "data": {
      "text/plain": [
       "Index(['Price', 'StatDist(miles)', 'Bedrooms', 'Bathrooms', 'Outdoor',\n",
       "       'Portered', 'Apartment', 'Flat', 'House', 'Maisonette', 'Mews',\n",
       "       'Terraced', 'Leasehold', 'NW6', 'SW1', 'N1', 'W2', 'W9', 'SE1', 'N7',\n",
       "       'NW1', 'EC1', 'NW3', 'SW11', 'WC1', 'W1', 'NW8', 'W10', 'SW3', 'NW5',\n",
       "       'W11', 'SE11', 'North', 'Centrality', 'Floor_Size', '2022-10-23',\n",
       "       '2022-10-29', '2022-11-27', '2023-01-13', '2023-01-22', 'Avg_price',\n",
       "       'Avg_price2', 'Centrality2', 'Floor_Size2'],\n",
       "      dtype='object')"
      ]
     },
     "execution_count": 156,
     "metadata": {},
     "output_type": "execute_result"
    }
   ],
   "source": [
    "df_varselect.columns"
   ]
  },
  {
   "cell_type": "code",
   "execution_count": 158,
   "id": "ec7da994",
   "metadata": {},
   "outputs": [
    {
     "name": "stdout",
     "output_type": "stream",
     "text": [
      "row 1096\n"
     ]
    },
    {
     "data": {
      "text/plain": [
       "array([605833.33333333])"
      ]
     },
     "execution_count": 158,
     "metadata": {},
     "output_type": "execute_result"
    }
   ],
   "source": [
    "# Predict price of our potential house\n",
    "best_rf2 = RandomForestRegressor(random_state=123, n_estimators=best_trees2, max_depth = best_depth2)\n",
    "best_rf2.fit(X_tv, y_tv_new.ravel())\n",
    "\n",
    "for i in range(len(X)):\n",
    "    if round(X[i,-11], 5) == 4.82357:  # the -11 in if round(X[i,-11] has to the column number of Centrality\n",
    "        x=i\n",
    "        print(f'row {i}')\n",
    "        \n",
    "best_rf2.predict(X[x].reshape(1, -1))"
   ]
  }
 ],
 "metadata": {
  "kernelspec": {
   "display_name": "Python 3 (ipykernel)",
   "language": "python",
   "name": "python3"
  },
  "language_info": {
   "codemirror_mode": {
    "name": "ipython",
    "version": 3
   },
   "file_extension": ".py",
   "mimetype": "text/x-python",
   "name": "python",
   "nbconvert_exporter": "python",
   "pygments_lexer": "ipython3",
   "version": "3.8.8"
  }
 },
 "nbformat": 4,
 "nbformat_minor": 5
}
