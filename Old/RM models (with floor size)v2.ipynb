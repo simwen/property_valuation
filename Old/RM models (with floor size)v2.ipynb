{
 "cells": [
  {
   "cell_type": "code",
   "execution_count": 3,
   "id": "0aa741a0",
   "metadata": {},
   "outputs": [],
   "source": [
    "import pandas as pd\n",
    "import numpy as np\n",
    "from sklearn.model_selection import train_test_split\n",
    "from sklearn import preprocessing\n",
    "\n",
    "# ML functions and plotting libraries\n",
    "from sklearn.tree import DecisionTreeRegressor, plot_tree\n",
    "from sklearn.linear_model import Lasso\n",
    "from sklearn.ensemble import RandomForestRegressor\n",
    "import matplotlib.pyplot as plt\n",
    "from sklearn.inspection import plot_partial_dependence\n",
    "from sklearn.metrics import confusion_matrix\n",
    "from sklearn.metrics import mean_absolute_error\n",
    "from sklearn.model_selection import GridSearchCV"
   ]
  },
  {
   "cell_type": "code",
   "execution_count": 4,
   "id": "45cd9feb",
   "metadata": {},
   "outputs": [],
   "source": [
    "# file naming variables\n",
    "latest_version = 'df_2022-11-27'\n",
    "location = '/Users/Sim/Documents/Other/Programming/Personal Projects/House price prediction'"
   ]
  },
  {
   "cell_type": "markdown",
   "id": "77975909",
   "metadata": {},
   "source": [
    "### 1. Loading the latest data"
   ]
  },
  {
   "cell_type": "code",
   "execution_count": 5,
   "id": "be72c563",
   "metadata": {},
   "outputs": [
    {
     "data": {
      "text/plain": [
       "2954"
      ]
     },
     "execution_count": 5,
     "metadata": {},
     "output_type": "execute_result"
    }
   ],
   "source": [
    "df=pd.read_csv(f'{location}/{latest_version}.csv')\n",
    "len(df)"
   ]
  },
  {
   "cell_type": "code",
   "execution_count": 6,
   "id": "2385f1ff",
   "metadata": {},
   "outputs": [
    {
     "data": {
      "text/html": [
       "<div>\n",
       "<style scoped>\n",
       "    .dataframe tbody tr th:only-of-type {\n",
       "        vertical-align: middle;\n",
       "    }\n",
       "\n",
       "    .dataframe tbody tr th {\n",
       "        vertical-align: top;\n",
       "    }\n",
       "\n",
       "    .dataframe thead th {\n",
       "        text-align: right;\n",
       "    }\n",
       "</style>\n",
       "<table border=\"1\" class=\"dataframe\">\n",
       "  <thead>\n",
       "    <tr style=\"text-align: right;\">\n",
       "      <th></th>\n",
       "      <th>Unnamed: 0</th>\n",
       "      <th>Date</th>\n",
       "      <th>Price</th>\n",
       "      <th>NearStat</th>\n",
       "      <th>StatDist(miles)</th>\n",
       "      <th>Prop_Type</th>\n",
       "      <th>Bedrooms</th>\n",
       "      <th>Bathrooms</th>\n",
       "      <th>Floor_Size</th>\n",
       "      <th>Outdoor</th>\n",
       "      <th>Portered</th>\n",
       "      <th>Contract_Type</th>\n",
       "      <th>Outcode</th>\n",
       "      <th>Outcode2</th>\n",
       "      <th>Postcode</th>\n",
       "      <th>Centrality</th>\n",
       "      <th>North</th>\n",
       "      <th>Links</th>\n",
       "      <th>Date_Scraped</th>\n",
       "    </tr>\n",
       "  </thead>\n",
       "  <tbody>\n",
       "    <tr>\n",
       "      <th>2949</th>\n",
       "      <td>571</td>\n",
       "      <td>20221031.0</td>\n",
       "      <td>515000.0</td>\n",
       "      <td>City Thameslink Station</td>\n",
       "      <td>0.1</td>\n",
       "      <td>Apartment</td>\n",
       "      <td>1.0</td>\n",
       "      <td>1.0</td>\n",
       "      <td>NaN</td>\n",
       "      <td>0.0</td>\n",
       "      <td>0.0</td>\n",
       "      <td>Leasehold</td>\n",
       "      <td>EC4M</td>\n",
       "      <td>EC4</td>\n",
       "      <td>EC4M7AS</td>\n",
       "      <td>1.942396</td>\n",
       "      <td>1.0</td>\n",
       "      <td>https://www.rightmove.co.uk/properties/1285682...</td>\n",
       "      <td>2022-11-27</td>\n",
       "    </tr>\n",
       "    <tr>\n",
       "      <th>2950</th>\n",
       "      <td>572</td>\n",
       "      <td>20221030.0</td>\n",
       "      <td>685000.0</td>\n",
       "      <td>Ladbroke Grove Station</td>\n",
       "      <td>0.3</td>\n",
       "      <td>Flat</td>\n",
       "      <td>1.0</td>\n",
       "      <td>1.0</td>\n",
       "      <td>NaN</td>\n",
       "      <td>0.0</td>\n",
       "      <td>0.0</td>\n",
       "      <td>Leasehold</td>\n",
       "      <td>W10</td>\n",
       "      <td>W10</td>\n",
       "      <td>W105PJ</td>\n",
       "      <td>5.945918</td>\n",
       "      <td>1.0</td>\n",
       "      <td>https://www.rightmove.co.uk/properties/1285622...</td>\n",
       "      <td>2022-11-27</td>\n",
       "    </tr>\n",
       "    <tr>\n",
       "      <th>2951</th>\n",
       "      <td>573</td>\n",
       "      <td>20221030.0</td>\n",
       "      <td>700000.0</td>\n",
       "      <td>Upper Holloway Station</td>\n",
       "      <td>0.4</td>\n",
       "      <td>Apartment</td>\n",
       "      <td>2.0</td>\n",
       "      <td>2.0</td>\n",
       "      <td>900.0</td>\n",
       "      <td>1.0</td>\n",
       "      <td>0.0</td>\n",
       "      <td>Freehold</td>\n",
       "      <td>N7</td>\n",
       "      <td>N7</td>\n",
       "      <td>N76RE</td>\n",
       "      <td>6.164741</td>\n",
       "      <td>1.0</td>\n",
       "      <td>https://www.rightmove.co.uk/properties/1285540...</td>\n",
       "      <td>2022-11-27</td>\n",
       "    </tr>\n",
       "    <tr>\n",
       "      <th>2952</th>\n",
       "      <td>574</td>\n",
       "      <td>20221031.0</td>\n",
       "      <td>775000.0</td>\n",
       "      <td>Southwark Station</td>\n",
       "      <td>0.3</td>\n",
       "      <td>Apartment</td>\n",
       "      <td>1.0</td>\n",
       "      <td>1.0</td>\n",
       "      <td>NaN</td>\n",
       "      <td>1.0</td>\n",
       "      <td>1.0</td>\n",
       "      <td>Leasehold</td>\n",
       "      <td>SE1</td>\n",
       "      <td>SE1</td>\n",
       "      <td>SE19JF</td>\n",
       "      <td>1.863147</td>\n",
       "      <td>0.0</td>\n",
       "      <td>https://www.rightmove.co.uk/properties/1285788...</td>\n",
       "      <td>2022-11-27</td>\n",
       "    </tr>\n",
       "    <tr>\n",
       "      <th>2953</th>\n",
       "      <td>575</td>\n",
       "      <td>20221109.0</td>\n",
       "      <td>750000.0</td>\n",
       "      <td>Pimlico Station</td>\n",
       "      <td>0.1</td>\n",
       "      <td>Flat</td>\n",
       "      <td>2.0</td>\n",
       "      <td>2.0</td>\n",
       "      <td>717.0</td>\n",
       "      <td>1.0</td>\n",
       "      <td>0.0</td>\n",
       "      <td>Leasehold</td>\n",
       "      <td>SW1V</td>\n",
       "      <td>SW1</td>\n",
       "      <td>SW1V3QT</td>\n",
       "      <td>2.323050</td>\n",
       "      <td>1.0</td>\n",
       "      <td>https://www.rightmove.co.uk/properties/1289183...</td>\n",
       "      <td>2022-11-27</td>\n",
       "    </tr>\n",
       "  </tbody>\n",
       "</table>\n",
       "</div>"
      ],
      "text/plain": [
       "      Unnamed: 0        Date     Price                 NearStat  \\\n",
       "2949         571  20221031.0  515000.0  City Thameslink Station   \n",
       "2950         572  20221030.0  685000.0   Ladbroke Grove Station   \n",
       "2951         573  20221030.0  700000.0   Upper Holloway Station   \n",
       "2952         574  20221031.0  775000.0        Southwark Station   \n",
       "2953         575  20221109.0  750000.0          Pimlico Station   \n",
       "\n",
       "      StatDist(miles)  Prop_Type  Bedrooms  Bathrooms  Floor_Size  Outdoor  \\\n",
       "2949              0.1  Apartment       1.0        1.0         NaN      0.0   \n",
       "2950              0.3       Flat       1.0        1.0         NaN      0.0   \n",
       "2951              0.4  Apartment       2.0        2.0       900.0      1.0   \n",
       "2952              0.3  Apartment       1.0        1.0         NaN      1.0   \n",
       "2953              0.1       Flat       2.0        2.0       717.0      1.0   \n",
       "\n",
       "      Portered Contract_Type Outcode Outcode2 Postcode  Centrality  North  \\\n",
       "2949       0.0     Leasehold    EC4M      EC4  EC4M7AS    1.942396    1.0   \n",
       "2950       0.0     Leasehold     W10      W10   W105PJ    5.945918    1.0   \n",
       "2951       0.0      Freehold      N7       N7    N76RE    6.164741    1.0   \n",
       "2952       1.0     Leasehold     SE1      SE1   SE19JF    1.863147    0.0   \n",
       "2953       0.0     Leasehold    SW1V      SW1  SW1V3QT    2.323050    1.0   \n",
       "\n",
       "                                                  Links Date_Scraped  \n",
       "2949  https://www.rightmove.co.uk/properties/1285682...   2022-11-27  \n",
       "2950  https://www.rightmove.co.uk/properties/1285622...   2022-11-27  \n",
       "2951  https://www.rightmove.co.uk/properties/1285540...   2022-11-27  \n",
       "2952  https://www.rightmove.co.uk/properties/1285788...   2022-11-27  \n",
       "2953  https://www.rightmove.co.uk/properties/1289183...   2022-11-27  "
      ]
     },
     "execution_count": 6,
     "metadata": {},
     "output_type": "execute_result"
    }
   ],
   "source": [
    "df.tail(5)"
   ]
  },
  {
   "cell_type": "markdown",
   "id": "ed68c610",
   "metadata": {},
   "source": [
    "### 2. Pre-processing the data"
   ]
  },
  {
   "cell_type": "code",
   "execution_count": 7,
   "id": "f1dd616f",
   "metadata": {},
   "outputs": [],
   "source": [
    "df = df.drop('Unnamed: 0', axis=1)"
   ]
  },
  {
   "cell_type": "code",
   "execution_count": 8,
   "id": "dd1f937b",
   "metadata": {},
   "outputs": [
    {
     "data": {
      "text/plain": [
       "Pimlico Station                        122\n",
       "Westbourne Park Station                118\n",
       "Ladbroke Grove Station                  88\n",
       "Queen's Park Station                    85\n",
       "Vauxhall Station                        73\n",
       "Essex Road Station                      70\n",
       "Angel Station                           66\n",
       "Caledonian Road & Barnsbury Station     64\n",
       "Kilburn High Road Station               64\n",
       "Chalk Farm Station                      63\n",
       "Name: NearStat, dtype: int64"
      ]
     },
     "execution_count": 8,
     "metadata": {},
     "output_type": "execute_result"
    }
   ],
   "source": [
    "df['NearStat'].value_counts().head(10)"
   ]
  },
  {
   "cell_type": "code",
   "execution_count": 9,
   "id": "3185bd25",
   "metadata": {},
   "outputs": [
    {
     "data": {
      "text/plain": [
       "NW6     269\n",
       "N1      250\n",
       "SW1     215\n",
       "W2      210\n",
       "W9      201\n",
       "SE1     184\n",
       "N7      163\n",
       "NW1     151\n",
       "NW3     144\n",
       "EC1     132\n",
       "NW8      91\n",
       "W10      89\n",
       "WC1      84\n",
       "NW5      82\n",
       "SW3      74\n",
       "SW11     73\n",
       "W11      73\n",
       "W1       67\n",
       "SE11     59\n",
       "SW8      52\n",
       "N19      43\n",
       "EC2      41\n",
       "SW5      37\n",
       "SW7      32\n",
       "W8       31\n",
       "WC2      25\n",
       "EC4      22\n",
       "N5       22\n",
       "SW10     13\n",
       "N6        6\n",
       "SE17      5\n",
       "E1        3\n",
       "EC3       2\n",
       "NW2       2\n",
       "E2        2\n",
       "E14       2\n",
       "NW10      1\n",
       "SW6       1\n",
       "BR3       1\n",
       "Name: Outcode2, dtype: int64"
      ]
     },
     "execution_count": 9,
     "metadata": {},
     "output_type": "execute_result"
    }
   ],
   "source": [
    "df['Outcode2'].value_counts()"
   ]
  },
  {
   "cell_type": "code",
   "execution_count": 10,
   "id": "65ed71ed",
   "metadata": {},
   "outputs": [
    {
     "data": {
      "text/html": [
       "<div>\n",
       "<style scoped>\n",
       "    .dataframe tbody tr th:only-of-type {\n",
       "        vertical-align: middle;\n",
       "    }\n",
       "\n",
       "    .dataframe tbody tr th {\n",
       "        vertical-align: top;\n",
       "    }\n",
       "\n",
       "    .dataframe thead th {\n",
       "        text-align: right;\n",
       "    }\n",
       "</style>\n",
       "<table border=\"1\" class=\"dataframe\">\n",
       "  <thead>\n",
       "    <tr style=\"text-align: right;\">\n",
       "      <th></th>\n",
       "      <th>Date</th>\n",
       "      <th>Price</th>\n",
       "      <th>NearStat</th>\n",
       "      <th>StatDist(miles)</th>\n",
       "      <th>Prop_Type</th>\n",
       "      <th>Bedrooms</th>\n",
       "      <th>Bathrooms</th>\n",
       "      <th>Floor_Size</th>\n",
       "      <th>Outdoor</th>\n",
       "      <th>Portered</th>\n",
       "      <th>...</th>\n",
       "      <th>W11</th>\n",
       "      <th>W2</th>\n",
       "      <th>W8</th>\n",
       "      <th>W9</th>\n",
       "      <th>WC1</th>\n",
       "      <th>WC2</th>\n",
       "      <th>2022-09-02</th>\n",
       "      <th>2022-10-23</th>\n",
       "      <th>2022-10-29</th>\n",
       "      <th>2022-11-27</th>\n",
       "    </tr>\n",
       "  </thead>\n",
       "  <tbody>\n",
       "    <tr>\n",
       "      <th>0</th>\n",
       "      <td>20211111.0</td>\n",
       "      <td>600000.0</td>\n",
       "      <td>Barbican Station</td>\n",
       "      <td>0.4</td>\n",
       "      <td>Apartment</td>\n",
       "      <td>1.0</td>\n",
       "      <td>1.0</td>\n",
       "      <td>NaN</td>\n",
       "      <td>0.0</td>\n",
       "      <td>0.0</td>\n",
       "      <td>...</td>\n",
       "      <td>0</td>\n",
       "      <td>0</td>\n",
       "      <td>0</td>\n",
       "      <td>0</td>\n",
       "      <td>0</td>\n",
       "      <td>0</td>\n",
       "      <td>1</td>\n",
       "      <td>0</td>\n",
       "      <td>0</td>\n",
       "      <td>0</td>\n",
       "    </tr>\n",
       "    <tr>\n",
       "      <th>1</th>\n",
       "      <td>20220826.0</td>\n",
       "      <td>450000.0</td>\n",
       "      <td>Angel Station</td>\n",
       "      <td>0.2</td>\n",
       "      <td>Apartment</td>\n",
       "      <td>1.0</td>\n",
       "      <td>1.0</td>\n",
       "      <td>NaN</td>\n",
       "      <td>0.0</td>\n",
       "      <td>0.0</td>\n",
       "      <td>...</td>\n",
       "      <td>0</td>\n",
       "      <td>0</td>\n",
       "      <td>0</td>\n",
       "      <td>0</td>\n",
       "      <td>0</td>\n",
       "      <td>0</td>\n",
       "      <td>1</td>\n",
       "      <td>0</td>\n",
       "      <td>0</td>\n",
       "      <td>0</td>\n",
       "    </tr>\n",
       "    <tr>\n",
       "      <th>2</th>\n",
       "      <td>20220318.0</td>\n",
       "      <td>600000.0</td>\n",
       "      <td>Battersea Power Underground Station</td>\n",
       "      <td>0.2</td>\n",
       "      <td>Flat</td>\n",
       "      <td>1.0</td>\n",
       "      <td>1.0</td>\n",
       "      <td>NaN</td>\n",
       "      <td>1.0</td>\n",
       "      <td>0.0</td>\n",
       "      <td>...</td>\n",
       "      <td>0</td>\n",
       "      <td>0</td>\n",
       "      <td>0</td>\n",
       "      <td>0</td>\n",
       "      <td>0</td>\n",
       "      <td>0</td>\n",
       "      <td>1</td>\n",
       "      <td>0</td>\n",
       "      <td>0</td>\n",
       "      <td>0</td>\n",
       "    </tr>\n",
       "  </tbody>\n",
       "</table>\n",
       "<p>3 rows × 183 columns</p>\n",
       "</div>"
      ],
      "text/plain": [
       "         Date     Price                             NearStat  StatDist(miles)  \\\n",
       "0  20211111.0  600000.0                     Barbican Station              0.4   \n",
       "1  20220826.0  450000.0                        Angel Station              0.2   \n",
       "2  20220318.0  600000.0  Battersea Power Underground Station              0.2   \n",
       "\n",
       "   Prop_Type  Bedrooms  Bathrooms  Floor_Size  Outdoor  Portered  ... W11 W2  \\\n",
       "0  Apartment       1.0        1.0         NaN      0.0       0.0  ...   0  0   \n",
       "1  Apartment       1.0        1.0         NaN      0.0       0.0  ...   0  0   \n",
       "2       Flat       1.0        1.0         NaN      1.0       0.0  ...   0  0   \n",
       "\n",
       "  W8 W9  WC1  WC2 2022-09-02 2022-10-23  2022-10-29  2022-11-27  \n",
       "0  0  0    0    0          1          0           0           0  \n",
       "1  0  0    0    0          1          0           0           0  \n",
       "2  0  0    0    0          1          0           0           0  \n",
       "\n",
       "[3 rows x 183 columns]"
      ]
     },
     "execution_count": 10,
     "metadata": {},
     "output_type": "execute_result"
    }
   ],
   "source": [
    "# Getting dummies vars\n",
    "df2 = pd.concat([df, pd.get_dummies(df.iloc[:,2])], axis=1) #nearest station\n",
    "df2 = pd.concat([df2, pd.get_dummies(df.iloc[:,4])], axis=1) #prop_type\n",
    "df2 = pd.concat([df2, pd.get_dummies(df.iloc[:,10])], axis=1) #contract\n",
    "df2 = pd.concat([df2, pd.get_dummies(df.iloc[:,12])], axis=1) #outcode2\n",
    "df2 = pd.concat([df2, pd.get_dummies(df.iloc[:,17])], axis=1) #scraped_date\n",
    "\n",
    "df2.head(3)"
   ]
  },
  {
   "cell_type": "markdown",
   "id": "8044b10a",
   "metadata": {},
   "source": [
    "### 3. Variable selection"
   ]
  },
  {
   "cell_type": "code",
   "execution_count": 11,
   "id": "ad8f6da4",
   "metadata": {},
   "outputs": [
    {
     "data": {
      "text/html": [
       "<div>\n",
       "<style scoped>\n",
       "    .dataframe tbody tr th:only-of-type {\n",
       "        vertical-align: middle;\n",
       "    }\n",
       "\n",
       "    .dataframe tbody tr th {\n",
       "        vertical-align: top;\n",
       "    }\n",
       "\n",
       "    .dataframe thead th {\n",
       "        text-align: right;\n",
       "    }\n",
       "</style>\n",
       "<table border=\"1\" class=\"dataframe\">\n",
       "  <thead>\n",
       "    <tr style=\"text-align: right;\">\n",
       "      <th></th>\n",
       "      <th>Price</th>\n",
       "      <th>StatDist(miles)</th>\n",
       "      <th>Bedrooms</th>\n",
       "      <th>Bathrooms</th>\n",
       "      <th>Outdoor</th>\n",
       "      <th>Portered</th>\n",
       "      <th>Apartment</th>\n",
       "      <th>Flat</th>\n",
       "      <th>House</th>\n",
       "      <th>Maisonette</th>\n",
       "      <th>...</th>\n",
       "      <th>W11</th>\n",
       "      <th>SE11</th>\n",
       "      <th>North</th>\n",
       "      <th>Centrality</th>\n",
       "      <th>Floor_Size</th>\n",
       "      <th>2022-10-23</th>\n",
       "      <th>2022-10-29</th>\n",
       "      <th>2022-11-27</th>\n",
       "      <th>Centrality2</th>\n",
       "      <th>Floor_Size2</th>\n",
       "    </tr>\n",
       "  </thead>\n",
       "  <tbody>\n",
       "    <tr>\n",
       "      <th>7</th>\n",
       "      <td>795000.0</td>\n",
       "      <td>0.5</td>\n",
       "      <td>2.0</td>\n",
       "      <td>2.0</td>\n",
       "      <td>1.0</td>\n",
       "      <td>1.0</td>\n",
       "      <td>1</td>\n",
       "      <td>0</td>\n",
       "      <td>0</td>\n",
       "      <td>0</td>\n",
       "      <td>...</td>\n",
       "      <td>0</td>\n",
       "      <td>0</td>\n",
       "      <td>1.0</td>\n",
       "      <td>3.877639</td>\n",
       "      <td>814.0</td>\n",
       "      <td>0</td>\n",
       "      <td>0</td>\n",
       "      <td>0</td>\n",
       "      <td>15.036087</td>\n",
       "      <td>662596.0</td>\n",
       "    </tr>\n",
       "    <tr>\n",
       "      <th>11</th>\n",
       "      <td>460000.0</td>\n",
       "      <td>0.5</td>\n",
       "      <td>1.0</td>\n",
       "      <td>1.0</td>\n",
       "      <td>1.0</td>\n",
       "      <td>0.0</td>\n",
       "      <td>0</td>\n",
       "      <td>1</td>\n",
       "      <td>0</td>\n",
       "      <td>0</td>\n",
       "      <td>...</td>\n",
       "      <td>0</td>\n",
       "      <td>0</td>\n",
       "      <td>1.0</td>\n",
       "      <td>4.036900</td>\n",
       "      <td>557.0</td>\n",
       "      <td>0</td>\n",
       "      <td>0</td>\n",
       "      <td>0</td>\n",
       "      <td>16.296563</td>\n",
       "      <td>310249.0</td>\n",
       "    </tr>\n",
       "    <tr>\n",
       "      <th>12</th>\n",
       "      <td>485000.0</td>\n",
       "      <td>0.4</td>\n",
       "      <td>1.0</td>\n",
       "      <td>1.0</td>\n",
       "      <td>1.0</td>\n",
       "      <td>0.0</td>\n",
       "      <td>0</td>\n",
       "      <td>1</td>\n",
       "      <td>0</td>\n",
       "      <td>0</td>\n",
       "      <td>...</td>\n",
       "      <td>0</td>\n",
       "      <td>0</td>\n",
       "      <td>1.0</td>\n",
       "      <td>2.593857</td>\n",
       "      <td>474.0</td>\n",
       "      <td>0</td>\n",
       "      <td>0</td>\n",
       "      <td>0</td>\n",
       "      <td>6.728095</td>\n",
       "      <td>224676.0</td>\n",
       "    </tr>\n",
       "    <tr>\n",
       "      <th>13</th>\n",
       "      <td>800000.0</td>\n",
       "      <td>0.2</td>\n",
       "      <td>2.0</td>\n",
       "      <td>2.0</td>\n",
       "      <td>1.0</td>\n",
       "      <td>0.0</td>\n",
       "      <td>0</td>\n",
       "      <td>1</td>\n",
       "      <td>0</td>\n",
       "      <td>0</td>\n",
       "      <td>...</td>\n",
       "      <td>0</td>\n",
       "      <td>0</td>\n",
       "      <td>1.0</td>\n",
       "      <td>4.099568</td>\n",
       "      <td>936.0</td>\n",
       "      <td>0</td>\n",
       "      <td>0</td>\n",
       "      <td>0</td>\n",
       "      <td>16.806457</td>\n",
       "      <td>876096.0</td>\n",
       "    </tr>\n",
       "    <tr>\n",
       "      <th>14</th>\n",
       "      <td>530000.0</td>\n",
       "      <td>0.1</td>\n",
       "      <td>1.0</td>\n",
       "      <td>1.0</td>\n",
       "      <td>0.0</td>\n",
       "      <td>1.0</td>\n",
       "      <td>1</td>\n",
       "      <td>0</td>\n",
       "      <td>0</td>\n",
       "      <td>0</td>\n",
       "      <td>...</td>\n",
       "      <td>0</td>\n",
       "      <td>0</td>\n",
       "      <td>1.0</td>\n",
       "      <td>5.268633</td>\n",
       "      <td>590.0</td>\n",
       "      <td>0</td>\n",
       "      <td>0</td>\n",
       "      <td>0</td>\n",
       "      <td>27.758498</td>\n",
       "      <td>348100.0</td>\n",
       "    </tr>\n",
       "    <tr>\n",
       "      <th>...</th>\n",
       "      <td>...</td>\n",
       "      <td>...</td>\n",
       "      <td>...</td>\n",
       "      <td>...</td>\n",
       "      <td>...</td>\n",
       "      <td>...</td>\n",
       "      <td>...</td>\n",
       "      <td>...</td>\n",
       "      <td>...</td>\n",
       "      <td>...</td>\n",
       "      <td>...</td>\n",
       "      <td>...</td>\n",
       "      <td>...</td>\n",
       "      <td>...</td>\n",
       "      <td>...</td>\n",
       "      <td>...</td>\n",
       "      <td>...</td>\n",
       "      <td>...</td>\n",
       "      <td>...</td>\n",
       "      <td>...</td>\n",
       "      <td>...</td>\n",
       "    </tr>\n",
       "    <tr>\n",
       "      <th>2929</th>\n",
       "      <td>535000.0</td>\n",
       "      <td>0.1</td>\n",
       "      <td>3.0</td>\n",
       "      <td>1.0</td>\n",
       "      <td>1.0</td>\n",
       "      <td>0.0</td>\n",
       "      <td>0</td>\n",
       "      <td>1</td>\n",
       "      <td>0</td>\n",
       "      <td>0</td>\n",
       "      <td>...</td>\n",
       "      <td>0</td>\n",
       "      <td>0</td>\n",
       "      <td>1.0</td>\n",
       "      <td>5.632120</td>\n",
       "      <td>841.0</td>\n",
       "      <td>0</td>\n",
       "      <td>0</td>\n",
       "      <td>1</td>\n",
       "      <td>31.720771</td>\n",
       "      <td>707281.0</td>\n",
       "    </tr>\n",
       "    <tr>\n",
       "      <th>2944</th>\n",
       "      <td>720000.0</td>\n",
       "      <td>0.5</td>\n",
       "      <td>1.0</td>\n",
       "      <td>1.0</td>\n",
       "      <td>1.0</td>\n",
       "      <td>1.0</td>\n",
       "      <td>0</td>\n",
       "      <td>1</td>\n",
       "      <td>0</td>\n",
       "      <td>0</td>\n",
       "      <td>...</td>\n",
       "      <td>0</td>\n",
       "      <td>0</td>\n",
       "      <td>1.0</td>\n",
       "      <td>4.271999</td>\n",
       "      <td>624.0</td>\n",
       "      <td>0</td>\n",
       "      <td>0</td>\n",
       "      <td>1</td>\n",
       "      <td>18.249979</td>\n",
       "      <td>389376.0</td>\n",
       "    </tr>\n",
       "    <tr>\n",
       "      <th>2945</th>\n",
       "      <td>450000.0</td>\n",
       "      <td>0.2</td>\n",
       "      <td>1.0</td>\n",
       "      <td>1.0</td>\n",
       "      <td>1.0</td>\n",
       "      <td>0.0</td>\n",
       "      <td>0</td>\n",
       "      <td>1</td>\n",
       "      <td>0</td>\n",
       "      <td>0</td>\n",
       "      <td>...</td>\n",
       "      <td>1</td>\n",
       "      <td>0</td>\n",
       "      <td>1.0</td>\n",
       "      <td>5.517607</td>\n",
       "      <td>500.0</td>\n",
       "      <td>0</td>\n",
       "      <td>0</td>\n",
       "      <td>1</td>\n",
       "      <td>30.443983</td>\n",
       "      <td>250000.0</td>\n",
       "    </tr>\n",
       "    <tr>\n",
       "      <th>2951</th>\n",
       "      <td>700000.0</td>\n",
       "      <td>0.4</td>\n",
       "      <td>2.0</td>\n",
       "      <td>2.0</td>\n",
       "      <td>1.0</td>\n",
       "      <td>0.0</td>\n",
       "      <td>1</td>\n",
       "      <td>0</td>\n",
       "      <td>0</td>\n",
       "      <td>0</td>\n",
       "      <td>...</td>\n",
       "      <td>0</td>\n",
       "      <td>0</td>\n",
       "      <td>1.0</td>\n",
       "      <td>6.164741</td>\n",
       "      <td>900.0</td>\n",
       "      <td>0</td>\n",
       "      <td>0</td>\n",
       "      <td>1</td>\n",
       "      <td>38.004033</td>\n",
       "      <td>810000.0</td>\n",
       "    </tr>\n",
       "    <tr>\n",
       "      <th>2953</th>\n",
       "      <td>750000.0</td>\n",
       "      <td>0.1</td>\n",
       "      <td>2.0</td>\n",
       "      <td>2.0</td>\n",
       "      <td>1.0</td>\n",
       "      <td>0.0</td>\n",
       "      <td>0</td>\n",
       "      <td>1</td>\n",
       "      <td>0</td>\n",
       "      <td>0</td>\n",
       "      <td>...</td>\n",
       "      <td>0</td>\n",
       "      <td>0</td>\n",
       "      <td>1.0</td>\n",
       "      <td>2.323050</td>\n",
       "      <td>717.0</td>\n",
       "      <td>0</td>\n",
       "      <td>0</td>\n",
       "      <td>1</td>\n",
       "      <td>5.396560</td>\n",
       "      <td>514089.0</td>\n",
       "    </tr>\n",
       "  </tbody>\n",
       "</table>\n",
       "<p>1041 rows × 40 columns</p>\n",
       "</div>"
      ],
      "text/plain": [
       "         Price  StatDist(miles)  Bedrooms  Bathrooms  Outdoor  Portered  \\\n",
       "7     795000.0              0.5       2.0        2.0      1.0       1.0   \n",
       "11    460000.0              0.5       1.0        1.0      1.0       0.0   \n",
       "12    485000.0              0.4       1.0        1.0      1.0       0.0   \n",
       "13    800000.0              0.2       2.0        2.0      1.0       0.0   \n",
       "14    530000.0              0.1       1.0        1.0      0.0       1.0   \n",
       "...        ...              ...       ...        ...      ...       ...   \n",
       "2929  535000.0              0.1       3.0        1.0      1.0       0.0   \n",
       "2944  720000.0              0.5       1.0        1.0      1.0       1.0   \n",
       "2945  450000.0              0.2       1.0        1.0      1.0       0.0   \n",
       "2951  700000.0              0.4       2.0        2.0      1.0       0.0   \n",
       "2953  750000.0              0.1       2.0        2.0      1.0       0.0   \n",
       "\n",
       "      Apartment  Flat  House  Maisonette  ...  W11  SE11  North  Centrality  \\\n",
       "7             1     0      0           0  ...    0     0    1.0    3.877639   \n",
       "11            0     1      0           0  ...    0     0    1.0    4.036900   \n",
       "12            0     1      0           0  ...    0     0    1.0    2.593857   \n",
       "13            0     1      0           0  ...    0     0    1.0    4.099568   \n",
       "14            1     0      0           0  ...    0     0    1.0    5.268633   \n",
       "...         ...   ...    ...         ...  ...  ...   ...    ...         ...   \n",
       "2929          0     1      0           0  ...    0     0    1.0    5.632120   \n",
       "2944          0     1      0           0  ...    0     0    1.0    4.271999   \n",
       "2945          0     1      0           0  ...    1     0    1.0    5.517607   \n",
       "2951          1     0      0           0  ...    0     0    1.0    6.164741   \n",
       "2953          0     1      0           0  ...    0     0    1.0    2.323050   \n",
       "\n",
       "      Floor_Size  2022-10-23  2022-10-29  2022-11-27  Centrality2  Floor_Size2  \n",
       "7          814.0           0           0           0    15.036087     662596.0  \n",
       "11         557.0           0           0           0    16.296563     310249.0  \n",
       "12         474.0           0           0           0     6.728095     224676.0  \n",
       "13         936.0           0           0           0    16.806457     876096.0  \n",
       "14         590.0           0           0           0    27.758498     348100.0  \n",
       "...          ...         ...         ...         ...          ...          ...  \n",
       "2929       841.0           0           0           1    31.720771     707281.0  \n",
       "2944       624.0           0           0           1    18.249979     389376.0  \n",
       "2945       500.0           0           0           1    30.443983     250000.0  \n",
       "2951       900.0           0           0           1    38.004033     810000.0  \n",
       "2953       717.0           0           0           1     5.396560     514089.0  \n",
       "\n",
       "[1041 rows x 40 columns]"
      ]
     },
     "execution_count": 11,
     "metadata": {},
     "output_type": "execute_result"
    }
   ],
   "source": [
    "# Leave out 'Studio', 'Freehold', stations, a bunch of postcodes\n",
    "\n",
    "variables = ['Price','StatDist(miles)','Bedrooms','Bathrooms','Outdoor','Portered','Apartment','Flat','House','Maisonette','Mews',\n",
    "             'Terraced','Leasehold','NW6','SW1','N1','W2','W9','SE1','N7','NW1','EC1','NW3','SW11','WC1','W1',\n",
    "             'NW8','W10','SW3','NW5','W11','SE11','North','Centrality','Floor_Size', '2022-10-23','2022-10-29','2022-11-27']\n",
    "stations = ['Edgware Road (Circle, District, Hammersmith & City) Station',\n",
    "'St. John\\'s Wood Station','Marylebone Station','Paddington Station',                                             \n",
    "'Edgware Road (Bakerloo) Station', 'Warwick Avenue Station','Lancaster Gate Station',\n",
    "'Marble Arch Station','Maida Vale Station',\n",
    "'Baker Street Station','Royal Oak Station']\n",
    "\n",
    "df_varselect = df2[variables].dropna()\n",
    "#df_varselect2 =df2[stations]\n",
    "#df_varselect2 = pd.concat([df_varselect, df_varselect2], axis=1).dropna()\n",
    "#df_varselect2\n",
    "df_varselect['Centrality2'] = df_varselect['Centrality'] **2\n",
    "df_varselect['Floor_Size2'] = df_varselect['Floor_Size'] **2\n",
    "\n",
    "df_varselect"
   ]
  },
  {
   "cell_type": "code",
   "execution_count": 12,
   "id": "c627fa77",
   "metadata": {},
   "outputs": [],
   "source": [
    "# Create feature and target arrays\n",
    "X = np.array(df_varselect.iloc[:,1:df_varselect.shape[1]])\n",
    "y = np.array(df_varselect.iloc[:,0])"
   ]
  },
  {
   "cell_type": "markdown",
   "id": "f687983b",
   "metadata": {},
   "source": [
    "### 4. Econometric linear regressions"
   ]
  },
  {
   "cell_type": "code",
   "execution_count": 13,
   "id": "ef6a2d29",
   "metadata": {},
   "outputs": [
    {
     "data": {
      "text/plain": [
       "0.3653578983869511"
      ]
     },
     "execution_count": 13,
     "metadata": {},
     "output_type": "execute_result"
    }
   ],
   "source": [
    "from sklearn.linear_model import LinearRegression\n",
    "\n",
    "reg = LinearRegression().fit(X, y)\n",
    "reg.score(X, y)"
   ]
  },
  {
   "cell_type": "code",
   "execution_count": 14,
   "id": "d474da7b",
   "metadata": {},
   "outputs": [
    {
     "name": "stdout",
     "output_type": "stream",
     "text": [
      "                            OLS Regression Results                            \n",
      "==============================================================================\n",
      "Dep. Variable:                      y   R-squared:                       0.365\n",
      "Model:                            OLS   Adj. R-squared:                  0.341\n",
      "Method:                 Least Squares   F-statistic:                     14.78\n",
      "Date:                Thu, 08 Dec 2022   Prob (F-statistic):           5.69e-74\n",
      "Time:                        20:07:22   Log-Likelihood:                -13292.\n",
      "No. Observations:                1041   AIC:                         2.666e+04\n",
      "Df Residuals:                    1001   BIC:                         2.686e+04\n",
      "Df Model:                          39                                         \n",
      "Covariance Type:            nonrobust                                         \n",
      "==============================================================================\n",
      "                 coef    std err          t      P>|t|      [0.025      0.975]\n",
      "------------------------------------------------------------------------------\n",
      "const       3.351e+05   4.13e+04      8.107      0.000    2.54e+05    4.16e+05\n",
      "x1         -3617.3168   1.78e+04     -0.203      0.839   -3.85e+04    3.13e+04\n",
      "x2           795.3736   5801.261      0.137      0.891   -1.06e+04    1.22e+04\n",
      "x3          5.648e+04   8602.311      6.566      0.000    3.96e+04    7.34e+04\n",
      "x4          2.012e+04   5672.720      3.546      0.000    8984.259    3.12e+04\n",
      "x5          2.195e+04   7012.466      3.130      0.002    8184.702    3.57e+04\n",
      "x6          1.015e+04   1.44e+04      0.703      0.482   -1.82e+04    3.85e+04\n",
      "x7         -9225.3180   1.42e+04     -0.651      0.515   -3.71e+04    1.86e+04\n",
      "x8          3.488e+04    4.6e+04      0.758      0.448   -5.54e+04    1.25e+05\n",
      "x9          -2.72e+04   2.45e+04     -1.108      0.268   -7.54e+04     2.1e+04\n",
      "x10         4.008e+04   8.95e+04      0.448      0.654   -1.35e+05    2.16e+05\n",
      "x11          3.82e+04   3.64e+04      1.050      0.294   -3.32e+04     1.1e+05\n",
      "x12        -3.488e+04   6481.863     -5.381      0.000   -4.76e+04   -2.22e+04\n",
      "x13        -4.136e+04   1.56e+04     -2.654      0.008   -7.19e+04   -1.08e+04\n",
      "x14        -2.867e+04   1.48e+04     -1.942      0.052   -5.77e+04     307.586\n",
      "x15        -4.863e+04   1.43e+04     -3.409      0.001   -7.66e+04   -2.06e+04\n",
      "x16        -5128.2398    1.4e+04     -0.365      0.715   -3.27e+04    2.24e+04\n",
      "x17          -5.8e+04   1.52e+04     -3.813      0.000   -8.78e+04   -2.81e+04\n",
      "x18        -7.672e+04   2.09e+04     -3.677      0.000   -1.18e+05   -3.58e+04\n",
      "x19        -1.043e+05   1.87e+04     -5.594      0.000   -1.41e+05   -6.77e+04\n",
      "x20         -2.83e+04   1.64e+04     -1.729      0.084   -6.04e+04    3825.022\n",
      "x21        -3.544e+04   1.64e+04     -2.161      0.031   -6.76e+04   -3251.498\n",
      "x22        -2.123e+04   1.49e+04     -1.427      0.154   -5.04e+04    7971.606\n",
      "x23         3.163e+04   2.31e+04      1.370      0.171   -1.37e+04    7.69e+04\n",
      "x24        -4.072e+04   1.94e+04     -2.094      0.037   -7.89e+04   -2560.903\n",
      "x25         5.535e+04   2.23e+04      2.478      0.013    1.15e+04    9.92e+04\n",
      "x26         6084.2804   1.99e+04      0.306      0.760    -3.3e+04    4.52e+04\n",
      "x27         1.851e+04   2.29e+04      0.810      0.418   -2.64e+04    6.34e+04\n",
      "x28         3.301e+04   2.01e+04      1.644      0.101   -6398.329    7.24e+04\n",
      "x29        -4.921e+04   2.42e+04     -2.031      0.043   -9.68e+04   -1659.994\n",
      "x30         8741.7364   2.09e+04      0.418      0.676   -3.23e+04    4.98e+04\n",
      "x31        -9.369e+04   2.57e+04     -3.642      0.000   -1.44e+05   -4.32e+04\n",
      "x32         2.607e+04   2.07e+04      1.257      0.209   -1.46e+04    6.68e+04\n",
      "x33        -1.612e+04   1.26e+04     -1.278      0.202   -4.09e+04    8633.168\n",
      "x34          659.7301     81.334      8.111      0.000     500.125     819.335\n",
      "x35         6457.1732   8533.483      0.757      0.449   -1.03e+04    2.32e+04\n",
      "x36        -7027.7716    1.4e+04     -0.502      0.616   -3.45e+04    2.04e+04\n",
      "x37          -17.8285   6961.776     -0.003      0.998   -1.37e+04    1.36e+04\n",
      "x38          446.5547   1633.000      0.273      0.785   -2757.940    3651.050\n",
      "x39           -0.2768      0.053     -5.189      0.000      -0.382      -0.172\n",
      "==============================================================================\n",
      "Omnibus:                        4.712   Durbin-Watson:                   1.891\n",
      "Prob(Omnibus):                  0.095   Jarque-Bera (JB):                3.736\n",
      "Skew:                           0.016   Prob(JB):                        0.154\n",
      "Kurtosis:                       2.708   Cond. No.                     1.71e+07\n",
      "==============================================================================\n",
      "\n",
      "Notes:\n",
      "[1] Standard Errors assume that the covariance matrix of the errors is correctly specified.\n",
      "[2] The condition number is large, 1.71e+07. This might indicate that there are\n",
      "strong multicollinearity or other numerical problems.\n"
     ]
    }
   ],
   "source": [
    "import statsmodels.api as sm\n",
    "from scipy import stats\n",
    "\n",
    "X2 = sm.add_constant(X)\n",
    "est = sm.OLS(y, X2)\n",
    "est2 = est.fit()\n",
    "print(est2.summary())"
   ]
  },
  {
   "cell_type": "code",
   "execution_count": 15,
   "id": "2e5ee396",
   "metadata": {},
   "outputs": [
    {
     "data": {
      "text/plain": [
       "Index(['StatDist(miles)', 'Bathrooms', 'Outdoor', 'Portered', 'Apartment',\n",
       "       'House', 'Leasehold', 'NW6', 'SW1', 'N1', 'W9', 'SE1', 'N7', 'NW1',\n",
       "       'EC1', 'NW3', 'SW11', 'WC1', 'W1', 'NW5', 'SE11', 'Centrality',\n",
       "       'Floor_Size', '2022-11-27', 'Centrality2'],\n",
       "      dtype='object')"
      ]
     },
     "execution_count": 15,
     "metadata": {},
     "output_type": "execute_result"
    }
   ],
   "source": [
    "df_varselect.columns[[1,3,4,5,6,8,12,13,14,15,17,18,19,20,21,22,23,24,25,29,31,33,34,37,38]]"
   ]
  },
  {
   "cell_type": "code",
   "execution_count": 18,
   "id": "8fbcfb4d",
   "metadata": {},
   "outputs": [
    {
     "data": {
      "text/html": [
       "<div>\n",
       "<style scoped>\n",
       "    .dataframe tbody tr th:only-of-type {\n",
       "        vertical-align: middle;\n",
       "    }\n",
       "\n",
       "    .dataframe tbody tr th {\n",
       "        vertical-align: top;\n",
       "    }\n",
       "\n",
       "    .dataframe thead th {\n",
       "        text-align: right;\n",
       "    }\n",
       "</style>\n",
       "<table border=\"1\" class=\"dataframe\">\n",
       "  <thead>\n",
       "    <tr style=\"text-align: right;\">\n",
       "      <th></th>\n",
       "      <th>StatDist(miles)</th>\n",
       "      <th>Bathrooms</th>\n",
       "      <th>Outdoor</th>\n",
       "      <th>Portered</th>\n",
       "      <th>Apartment</th>\n",
       "      <th>House</th>\n",
       "      <th>Leasehold</th>\n",
       "      <th>NW6</th>\n",
       "      <th>SW1</th>\n",
       "      <th>N1</th>\n",
       "      <th>...</th>\n",
       "      <th>EC1</th>\n",
       "      <th>NW3</th>\n",
       "      <th>SW11</th>\n",
       "      <th>WC1</th>\n",
       "      <th>W1</th>\n",
       "      <th>NW5</th>\n",
       "      <th>SE11</th>\n",
       "      <th>Centrality</th>\n",
       "      <th>Floor_Size</th>\n",
       "      <th>Centrality2</th>\n",
       "    </tr>\n",
       "  </thead>\n",
       "  <tbody>\n",
       "    <tr>\n",
       "      <th>2929</th>\n",
       "      <td>0.1</td>\n",
       "      <td>1.0</td>\n",
       "      <td>1.0</td>\n",
       "      <td>0.0</td>\n",
       "      <td>0</td>\n",
       "      <td>0</td>\n",
       "      <td>1</td>\n",
       "      <td>1</td>\n",
       "      <td>0</td>\n",
       "      <td>0</td>\n",
       "      <td>...</td>\n",
       "      <td>0</td>\n",
       "      <td>0</td>\n",
       "      <td>0</td>\n",
       "      <td>0</td>\n",
       "      <td>0</td>\n",
       "      <td>0</td>\n",
       "      <td>0</td>\n",
       "      <td>5.632120</td>\n",
       "      <td>841.0</td>\n",
       "      <td>31.720771</td>\n",
       "    </tr>\n",
       "    <tr>\n",
       "      <th>2944</th>\n",
       "      <td>0.5</td>\n",
       "      <td>1.0</td>\n",
       "      <td>1.0</td>\n",
       "      <td>1.0</td>\n",
       "      <td>0</td>\n",
       "      <td>0</td>\n",
       "      <td>1</td>\n",
       "      <td>0</td>\n",
       "      <td>0</td>\n",
       "      <td>1</td>\n",
       "      <td>...</td>\n",
       "      <td>0</td>\n",
       "      <td>0</td>\n",
       "      <td>0</td>\n",
       "      <td>0</td>\n",
       "      <td>0</td>\n",
       "      <td>0</td>\n",
       "      <td>0</td>\n",
       "      <td>4.271999</td>\n",
       "      <td>624.0</td>\n",
       "      <td>18.249979</td>\n",
       "    </tr>\n",
       "    <tr>\n",
       "      <th>2945</th>\n",
       "      <td>0.2</td>\n",
       "      <td>1.0</td>\n",
       "      <td>1.0</td>\n",
       "      <td>0.0</td>\n",
       "      <td>0</td>\n",
       "      <td>0</td>\n",
       "      <td>1</td>\n",
       "      <td>0</td>\n",
       "      <td>0</td>\n",
       "      <td>0</td>\n",
       "      <td>...</td>\n",
       "      <td>0</td>\n",
       "      <td>0</td>\n",
       "      <td>0</td>\n",
       "      <td>0</td>\n",
       "      <td>0</td>\n",
       "      <td>0</td>\n",
       "      <td>0</td>\n",
       "      <td>5.517607</td>\n",
       "      <td>500.0</td>\n",
       "      <td>30.443983</td>\n",
       "    </tr>\n",
       "    <tr>\n",
       "      <th>2951</th>\n",
       "      <td>0.4</td>\n",
       "      <td>2.0</td>\n",
       "      <td>1.0</td>\n",
       "      <td>0.0</td>\n",
       "      <td>1</td>\n",
       "      <td>0</td>\n",
       "      <td>0</td>\n",
       "      <td>0</td>\n",
       "      <td>0</td>\n",
       "      <td>0</td>\n",
       "      <td>...</td>\n",
       "      <td>0</td>\n",
       "      <td>0</td>\n",
       "      <td>0</td>\n",
       "      <td>0</td>\n",
       "      <td>0</td>\n",
       "      <td>0</td>\n",
       "      <td>0</td>\n",
       "      <td>6.164741</td>\n",
       "      <td>900.0</td>\n",
       "      <td>38.004033</td>\n",
       "    </tr>\n",
       "    <tr>\n",
       "      <th>2953</th>\n",
       "      <td>0.1</td>\n",
       "      <td>2.0</td>\n",
       "      <td>1.0</td>\n",
       "      <td>0.0</td>\n",
       "      <td>0</td>\n",
       "      <td>0</td>\n",
       "      <td>1</td>\n",
       "      <td>0</td>\n",
       "      <td>1</td>\n",
       "      <td>0</td>\n",
       "      <td>...</td>\n",
       "      <td>0</td>\n",
       "      <td>0</td>\n",
       "      <td>0</td>\n",
       "      <td>0</td>\n",
       "      <td>0</td>\n",
       "      <td>0</td>\n",
       "      <td>0</td>\n",
       "      <td>2.323050</td>\n",
       "      <td>717.0</td>\n",
       "      <td>5.396560</td>\n",
       "    </tr>\n",
       "  </tbody>\n",
       "</table>\n",
       "<p>5 rows × 24 columns</p>\n",
       "</div>"
      ],
      "text/plain": [
       "      StatDist(miles)  Bathrooms  Outdoor  Portered  Apartment  House  \\\n",
       "2929              0.1        1.0      1.0       0.0          0      0   \n",
       "2944              0.5        1.0      1.0       1.0          0      0   \n",
       "2945              0.2        1.0      1.0       0.0          0      0   \n",
       "2951              0.4        2.0      1.0       0.0          1      0   \n",
       "2953              0.1        2.0      1.0       0.0          0      0   \n",
       "\n",
       "      Leasehold  NW6  SW1  N1  ...  EC1  NW3  SW11  WC1  W1  NW5  SE11  \\\n",
       "2929          1    1    0   0  ...    0    0     0    0   0    0     0   \n",
       "2944          1    0    0   1  ...    0    0     0    0   0    0     0   \n",
       "2945          1    0    0   0  ...    0    0     0    0   0    0     0   \n",
       "2951          0    0    0   0  ...    0    0     0    0   0    0     0   \n",
       "2953          1    0    1   0  ...    0    0     0    0   0    0     0   \n",
       "\n",
       "      Centrality  Floor_Size  Centrality2  \n",
       "2929    5.632120       841.0    31.720771  \n",
       "2944    4.271999       624.0    18.249979  \n",
       "2945    5.517607       500.0    30.443983  \n",
       "2951    6.164741       900.0    38.004033  \n",
       "2953    2.323050       717.0     5.396560  \n",
       "\n",
       "[5 rows x 24 columns]"
      ]
     },
     "execution_count": 18,
     "metadata": {},
     "output_type": "execute_result"
    }
   ],
   "source": [
    "best_vars = [1,3,4,5,6,8,12,13,14,15,17,18,19,20,21,22,23,24,25,29,31,33,34,38]\n",
    "df_varselect.iloc[:,best_vars].tail()"
   ]
  },
  {
   "cell_type": "markdown",
   "id": "a89b3f36",
   "metadata": {},
   "source": [
    "### 5. Shuffling and Splitting data into train, test and validation sets"
   ]
  },
  {
   "cell_type": "code",
   "execution_count": 71,
   "id": "15578ebc-c4da-4a40-8161-8fccd9e1dedf",
   "metadata": {},
   "outputs": [
    {
     "name": "stdout",
     "output_type": "stream",
     "text": [
      "(520, 39)\n",
      "(260, 39)\n",
      "(261, 39)\n",
      "(520,)\n",
      "(260,)\n",
      "(261,)\n",
      "(780, 39)\n",
      "(780, 1)\n"
     ]
    }
   ],
   "source": [
    "# Shuffling data (to ensure random order) and performing 0.5 : 0.25 : 0.25 train-validation-test set splits\n",
    "X_train, X_non, y_train, y_non = train_test_split(X, y, test_size=0.5, shuffle=True, random_state=1)\n",
    "X_val, X_test, y_val, y_test = train_test_split(X_non, y_non, test_size=0.5, shuffle=True, random_state=1)\n",
    "\n",
    "# Combining train and val for cross validation approach\n",
    "X_tv, y_tv = pd.concat([pd.DataFrame(X_train), pd.DataFrame(X_val)]), pd.concat([pd.DataFrame(y_train), pd.DataFrame(y_val)])\n",
    "\n",
    "print(X_train.shape)\n",
    "print(X_val.shape)\n",
    "print(X_test.shape)\n",
    "print(y_train.shape)\n",
    "print(y_val.shape)\n",
    "print(y_test.shape)\n",
    "\n",
    "print(X_tv.shape)\n",
    "print(y_tv.shape)"
   ]
  },
  {
   "cell_type": "code",
   "execution_count": 72,
   "id": "ae2cbe25",
   "metadata": {},
   "outputs": [],
   "source": [
    "# Normalising\n",
    "scaler = preprocessing.StandardScaler().fit(X_train)\n",
    "# Apply the scaling object to both train/validation/test sets\n",
    "X_train_new = scaler.transform(X_train)\n",
    "X_val_new = scaler.transform(X_val)\n",
    "X_test_new = scaler.transform(X_test)\n",
    "X_tv_new = scaler.transform(X_tv)"
   ]
  },
  {
   "cell_type": "markdown",
   "id": "d71a4a21",
   "metadata": {},
   "source": [
    "### 6. Model Training"
   ]
  },
  {
   "cell_type": "markdown",
   "id": "b90d0282",
   "metadata": {},
   "source": [
    "#### 6A. Decision Tree Model\n",
    "First we train a decision tree classifier. Using the loop in the code below, we train multiple decision trees of varying max_depths and choose the model that maximises validation set accuracy (i.e. minimises out of sample error)."
   ]
  },
  {
   "cell_type": "code",
   "execution_count": 48,
   "id": "801dd45c-4ffa-481e-8acc-40068d0c526a",
   "metadata": {},
   "outputs": [
    {
     "name": "stdout",
     "output_type": "stream",
     "text": [
      "The maximum validation set accuracy - 0.205 - occurs at depth = 4\n"
     ]
    }
   ],
   "source": [
    "train_acc_dict = {}\n",
    "val_acc_dict = {}\n",
    "\n",
    "for d in range(1, len(variables)):\n",
    "    reg = DecisionTreeRegressor(max_depth=d, random_state=123)\n",
    "    reg = reg.fit(X_train, y_train)\n",
    "    \n",
    "    train_acc, val_acc = reg.score(X_train, y_train), reg.score(X_val, y_val)\n",
    "    train_acc_dict[d], val_acc_dict[d] = train_acc, val_acc\n",
    "    \n",
    "best_depth = max(val_acc_dict, key=val_acc_dict.get)\n",
    "best_acc = round(val_acc_dict[best_depth], 3)\n",
    "print('The maximum validation set accuracy - %s - occurs at depth = %s' % (best_acc, best_depth))"
   ]
  },
  {
   "cell_type": "code",
   "execution_count": 73,
   "id": "940004db",
   "metadata": {},
   "outputs": [
    {
     "data": {
      "text/plain": [
       "0.3559610836302558"
      ]
     },
     "execution_count": 73,
     "metadata": {},
     "output_type": "execute_result"
    }
   ],
   "source": [
    "# DT error - test set\n",
    "best_dt = DecisionTreeRegressor(random_state=123, max_depth = best_depth)\n",
    "best_dt.fit(X_train_new, y_train)\n",
    "best_dt.score(X_val_new, y_val)"
   ]
  },
  {
   "cell_type": "code",
   "execution_count": 74,
   "id": "bbbd55a7",
   "metadata": {},
   "outputs": [
    {
     "name": "stdout",
     "output_type": "stream",
     "text": [
      "Fitting 10 folds for each of 9 candidates, totalling 90 fits\n",
      "Best val accuracy - 0.3559610836302558 - occurs at depth = {'max_depth': 4}\n"
     ]
    }
   ],
   "source": [
    "# Using grid search and 10-fold CV instead\n",
    "\n",
    "param_grid = {'max_depth': [1,3,4,5,6,8,10,20,30]}\n",
    "\n",
    "dt = DecisionTreeRegressor()\n",
    "\n",
    "grid = GridSearchCV(dt, param_grid, verbose = 1,  cv = 10, scoring = 'r2')\n",
    "\n",
    "# Fitting the grid model\n",
    "grid.fit(X_tv_new, y_tv)\n",
    "score = grid.score(X_tv_new, y_tv)\n",
    "param = grid.best_params_\n",
    "print('Best val accuracy - %s - occurs at depth = %s' % (score, param))"
   ]
  },
  {
   "cell_type": "markdown",
   "id": "94f7a3d1",
   "metadata": {},
   "source": [
    "#### 6B. Lasso Model\n",
    "\n",
    "For this we use a subset of the best columns."
   ]
  },
  {
   "cell_type": "code",
   "execution_count": 46,
   "id": "5b1172cf",
   "metadata": {},
   "outputs": [
    {
     "name": "stdout",
     "output_type": "stream",
     "text": [
      "The maximum validation set accuracy - 0.31 - occurs at alpha = 0.1\n"
     ]
    }
   ],
   "source": [
    "train_acc_dict = {}\n",
    "val_acc_dict = {}\n",
    "\n",
    "for a in np.arange(0.1, 10, 0.1):\n",
    "    reg = Lasso(alpha=a, random_state=123)\n",
    "    reg = reg.fit(X_train_new, y_train)\n",
    "    \n",
    "    train_acc, val_acc = reg.score(X_train_new, y_train), reg.score(X_val_new, y_val)\n",
    "    train_acc_dict[a], val_acc_dict[a] = train_acc, val_acc\n",
    "    \n",
    "best_alpha = max(val_acc_dict, key=val_acc_dict.get)\n",
    "best_acc = round(val_acc_dict[best_alpha], 3)\n",
    "print('The maximum validation set accuracy - %s - occurs at alpha = %s' % (best_acc, best_alpha))"
   ]
  },
  {
   "cell_type": "code",
   "execution_count": 47,
   "id": "f886b23c",
   "metadata": {},
   "outputs": [
    {
     "data": {
      "text/plain": [
       "Text(1.1, 0.32, '(alpha=0.1, accuracy=0.31)')"
      ]
     },
     "execution_count": 47,
     "metadata": {},
     "output_type": "execute_result"
    },
    {
     "data": {
      "image/png": "[encoded data removed]",
      "text/plain": [
       "<Figure size 640x480 with 1 Axes>"
      ]
     },
     "metadata": {},
     "output_type": "display_data"
    }
   ],
   "source": [
    "n_est = [x for x in np.arange(0.01, 1, 0.01)]\n",
    "train_acc = [acc for acc in train_acc_dict.values()]\n",
    "val_acc = [acc for acc in val_acc_dict.values()]\n",
    "\n",
    "# viz\n",
    "fig = plt.figure()\n",
    "ax = fig.add_subplot(111)\n",
    "ax.plot(n_est, train_acc)\n",
    "ax.plot(n_est, val_acc)\n",
    "ax.set_xlabel('alpha')\n",
    "ax.set_ylabel('Accuracy')\n",
    "ax.annotate('(alpha=%s, accuracy=%s)' % (best_alpha, best_acc), xy=(best_alpha, best_acc), xytext=(best_alpha + 1, best_acc+0.01), arrowprops=dict(arrowstyle=\"->\", facecolor='black'))"
   ]
  },
  {
   "cell_type": "code",
   "execution_count": 121,
   "id": "97320121",
   "metadata": {},
   "outputs": [
    {
     "data": {
      "text/plain": [
       "33    0.412189\n",
       "38    0.380892\n",
       "2     0.349276\n",
       "1     0.254772\n",
       "5     0.123999\n",
       "4     0.122588\n",
       "6     0.118270\n",
       "3     0.089034\n",
       "10    0.082265\n",
       "24    0.077023\n",
       "dtype: float64"
      ]
     },
     "execution_count": 121,
     "metadata": {},
     "output_type": "execute_result"
    }
   ],
   "source": [
    "# Building subset of best predictors for Lasso\n",
    "best_predictors = abs(X_tv.corrwith(y_tv[0])).sort_values(ascending = False)\n",
    "best_predictors.iloc[0:10]"
   ]
  },
  {
   "cell_type": "code",
   "execution_count": 81,
   "id": "81eb2c42",
   "metadata": {},
   "outputs": [
    {
     "name": "stdout",
     "output_type": "stream",
     "text": [
      "Fitting 10 folds for each of 50 candidates, totalling 500 fits\n",
      "Best val accuracy - 0.3615625840150405 - occurs at alpha = {'alpha': 0.099}\n"
     ]
    }
   ],
   "source": [
    "# Using grid search and 10-fold CV instead\n",
    "\n",
    "param_grid = {'alpha': np.arange(0.001, 0.1, 0.002)}\n",
    "\n",
    "grid = GridSearchCV(Lasso(), param_grid, verbose = 1,  cv = 10, scoring = 'r2')\n",
    "\n",
    "# Fitting the grid model\n",
    "grid.fit(X_tv_new, y_tv)\n",
    "score = grid.score(X_tv_new, y_tv)\n",
    "param = grid.best_params_\n",
    "print('Best val accuracy - %s - occurs at alpha = %s' % (score, param))\n",
    "# 0.3615268259069946\n",
    "# 0.3615625840150405"
   ]
  },
  {
   "cell_type": "markdown",
   "id": "c324fc6d",
   "metadata": {},
   "source": [
    "#### 6C. Random Forest Model\n",
    "Next we train a random forest classifier. Using the loop in the code below, we train multiple RFs of varying n_estimators and choose the model that maximises validation set accuracy (i.e. minimises out of sample error)."
   ]
  },
  {
   "cell_type": "code",
   "execution_count": 34,
   "id": "20728236-82fb-4385-a379-4b85e7fc9c03",
   "metadata": {},
   "outputs": [
    {
     "name": "stdout",
     "output_type": "stream",
     "text": [
      "The maximum validation set accuracy - 0.3816 - occurs at no. trees = 98\n"
     ]
    }
   ],
   "source": [
    "# Choosing best no. of estimators (trees)\n",
    "train_acc_dict = {}\n",
    "val_acc_dict = {}\n",
    "\n",
    "for n in range(2, 101):\n",
    "    rf = RandomForestRegressor(n_estimators=n, random_state=123)\n",
    "    rf = rf.fit(X_train, y_train.ravel())\n",
    "    train_acc, val_acc = rf.score(X_train, y_train), rf.score(X_val, y_val)\n",
    "    train_acc_dict[n], val_acc_dict[n] = train_acc, val_acc\n",
    "    \n",
    "best_trees = max(val_acc_dict, key=val_acc_dict.get)\n",
    "best_acc = round(val_acc_dict[best_trees], 4)\n",
    "print('The maximum validation set accuracy - %s - occurs at no. trees = %s' % (best_acc, best_trees))"
   ]
  },
  {
   "cell_type": "code",
   "execution_count": 35,
   "id": "f36d469f",
   "metadata": {},
   "outputs": [
    {
     "data": {
      "text/plain": [
       "Text(99, 0.3916, '(no. trees=98, accuracy=0.3816)')"
      ]
     },
     "execution_count": 35,
     "metadata": {},
     "output_type": "execute_result"
    },
    {
     "data": {
      "image/png": "[encoded data removed]",
      "text/plain": [
       "<Figure size 640x480 with 1 Axes>"
      ]
     },
     "metadata": {},
     "output_type": "display_data"
    }
   ],
   "source": [
    "n_est = [x for x in range(2, 101)]\n",
    "train_acc = [acc for acc in train_acc_dict.values()]\n",
    "val_acc = [acc for acc in val_acc_dict.values()]\n",
    "\n",
    "# viz\n",
    "fig = plt.figure()\n",
    "ax = fig.add_subplot(111)\n",
    "ax.plot(n_est, train_acc)\n",
    "ax.plot(n_est, val_acc)\n",
    "ax.set_xlabel('n_estimators')\n",
    "ax.set_ylabel('Accuracy')\n",
    "ax.annotate('(no. trees=%s, accuracy=%s)' % (best_trees, best_acc), xy=(best_trees, best_acc), xytext=(best_trees + 1, best_acc+0.01), arrowprops=dict(arrowstyle=\"->\", facecolor='black'))"
   ]
  },
  {
   "cell_type": "code",
   "execution_count": 36,
   "id": "ba7deb6c",
   "metadata": {},
   "outputs": [
    {
     "name": "stdout",
     "output_type": "stream",
     "text": [
      "The maximum validation set accuracy - 0.382 - occurs at max depth = 29\n"
     ]
    }
   ],
   "source": [
    "# Choosing best max tree depth\n",
    "\n",
    "train_acc_dict = {}\n",
    "val_acc_dict = {}\n",
    "\n",
    "for n in range(1, len(variables)):\n",
    "    rf = RandomForestRegressor(n_estimators=best_trees, random_state=123, max_depth = n)\n",
    "    rf = rf.fit(X_train, y_train)\n",
    "    train_acc, val_acc = rf.score(X_train, y_train), rf.score(X_val, y_val)\n",
    "    train_acc_dict[n], val_acc_dict[n] = train_acc, val_acc\n",
    "\n",
    "best_depth = max(val_acc_dict, key=val_acc_dict.get)\n",
    "best_acc = round(val_acc_dict[best_depth], 4)\n",
    "print('The maximum validation set accuracy - %s - occurs at max depth = %s' % (best_acc, best_depth))"
   ]
  },
  {
   "cell_type": "code",
   "execution_count": 37,
   "id": "1ed655df",
   "metadata": {},
   "outputs": [
    {
     "data": {
      "text/plain": [
       "Text(30, 0.392, '(max_depth=29, accuracy=0.382)')"
      ]
     },
     "execution_count": 37,
     "metadata": {},
     "output_type": "execute_result"
    },
    {
     "data": {
      "image/png": "[encoded data removed]",
      "text/plain": [
       "<Figure size 640x480 with 1 Axes>"
      ]
     },
     "metadata": {},
     "output_type": "display_data"
    }
   ],
   "source": [
    "n_est = [x for x in range(1, len(variables))]\n",
    "train_acc = [acc for acc in train_acc_dict.values()]\n",
    "val_acc = [acc for acc in val_acc_dict.values()]\n",
    "\n",
    "# viz\n",
    "fig = plt.figure()\n",
    "ax = fig.add_subplot(111)\n",
    "ax.plot(n_est, train_acc)\n",
    "ax.plot(n_est, val_acc)\n",
    "ax.set_xlabel('n_estimators')\n",
    "ax.set_ylabel('Accuracy')\n",
    "ax.annotate('(max_depth=%s, accuracy=%s)' % (best_depth, best_acc), xy=(best_depth, best_acc), xytext=(best_depth + 1, best_acc+0.01), arrowprops=dict(arrowstyle=\"->\", facecolor='black'))"
   ]
  },
  {
   "cell_type": "code",
   "execution_count": 38,
   "id": "ced5ab69",
   "metadata": {},
   "outputs": [
    {
     "name": "stdout",
     "output_type": "stream",
     "text": [
      "The maximum validation set accuracy - 0.3825 - occurs at depth = 29 and trees = 104\n"
     ]
    }
   ],
   "source": [
    "# Combining no. tress and depth - choosing best of both!\n",
    "train_acc_dict = {}\n",
    "val_acc_dict = {}\n",
    "\n",
    "for depths in range(5, (len(variables)-2)):\n",
    "    for trees in range(max(best_trees-15,1), best_trees +15):\n",
    "        rf = RandomForestRegressor(n_estimators=trees, random_state=123, max_depth = depths)\n",
    "        rf = rf.fit(X_train, y_train)\n",
    "        train_acc, val_acc = rf.score(X_train, y_train), rf.score(X_val, y_val)\n",
    "        train_acc_dict[(depths,trees)], val_acc_dict[(depths,trees)] = train_acc, val_acc\n",
    "\n",
    "best_depth_trees = max(val_acc_dict, key=val_acc_dict.get)\n",
    "best_depth2, best_trees2 = best_depth_trees[0], best_depth_trees[1]\n",
    "best_acc = round(val_acc_dict[best_depth_trees], 4)\n",
    "print('The maximum validation set accuracy - %s - occurs at depth = %s and trees = %s' % (best_acc, best_depth2, best_trees2))"
   ]
  },
  {
   "cell_type": "markdown",
   "id": "7ba68ce2",
   "metadata": {},
   "source": [
    "### 7. Comparing tuned, best in class models"
   ]
  },
  {
   "cell_type": "code",
   "execution_count": 43,
   "id": "0dd36914",
   "metadata": {},
   "outputs": [
    {
     "data": {
      "text/plain": [
       "0.34234666116981716"
      ]
     },
     "execution_count": 43,
     "metadata": {},
     "output_type": "execute_result"
    }
   ],
   "source": [
    "# RF test set error\n",
    "best_rf = RandomForestRegressor(random_state=123, n_estimators=best_trees2, max_depth = best_depth2)\n",
    "best_rf.fit(X_train, y_train)\n",
    "best_rf.score(X_test, y_test)"
   ]
  },
  {
   "cell_type": "code",
   "execution_count": 48,
   "id": "94bbea91",
   "metadata": {},
   "outputs": [
    {
     "data": {
      "text/plain": [
       "0.29492052990350826"
      ]
     },
     "execution_count": 48,
     "metadata": {},
     "output_type": "execute_result"
    }
   ],
   "source": [
    "# Lasso test set error\n",
    "best_lr = Lasso(random_state=123, alpha=best_alpha)\n",
    "best_lr.fit(X_train_new, y_train)\n",
    "best_lr.score(X_test_new, y_test)"
   ]
  },
  {
   "cell_type": "markdown",
   "id": "0e7380b2",
   "metadata": {},
   "source": [
    "### 8. Extra digging into models/predictions"
   ]
  },
  {
   "cell_type": "code",
   "execution_count": 49,
   "id": "b88cc8da",
   "metadata": {},
   "outputs": [
    {
     "name": "stdout",
     "output_type": "stream",
     "text": [
      "Lasso has MAE = £72k\n"
     ]
    }
   ],
   "source": [
    "y_pred = best_lr.predict(X_test_new)\n",
    "mae = mean_absolute_error(y_test, y_pred)\n",
    "print('Lasso has MAE = £%sk' % (int(str(round(mae))[:-3])))"
   ]
  },
  {
   "cell_type": "code",
   "execution_count": 50,
   "id": "4519a375",
   "metadata": {},
   "outputs": [
    {
     "name": "stdout",
     "output_type": "stream",
     "text": [
      "Random Forest has MAE = £68k\n"
     ]
    }
   ],
   "source": [
    "y_pred = best_rf.predict(X_test)\n",
    "mae = mean_absolute_error(y_test, y_pred)\n",
    "print('Random Forest has MAE = £%sk' % (int(str(round(mae))[:-3])))"
   ]
  },
  {
   "cell_type": "code",
   "execution_count": 233,
   "id": "d107c824",
   "metadata": {},
   "outputs": [
    {
     "data": {
      "text/plain": [
       "array([2.00000000e-01, 2.00000000e+00, 2.00000000e+00, 1.00000000e+00,\n",
       "       0.00000000e+00, 0.00000000e+00, 1.00000000e+00, 0.00000000e+00,\n",
       "       0.00000000e+00, 0.00000000e+00, 0.00000000e+00, 0.00000000e+00,\n",
       "       0.00000000e+00, 0.00000000e+00, 0.00000000e+00, 0.00000000e+00,\n",
       "       1.00000000e+00, 0.00000000e+00, 0.00000000e+00, 0.00000000e+00,\n",
       "       0.00000000e+00, 0.00000000e+00, 0.00000000e+00, 0.00000000e+00,\n",
       "       0.00000000e+00, 0.00000000e+00, 0.00000000e+00, 0.00000000e+00,\n",
       "       0.00000000e+00, 0.00000000e+00, 0.00000000e+00, 1.00000000e+00,\n",
       "       4.09956788e+00, 9.36000000e+02, 0.00000000e+00, 0.00000000e+00])"
      ]
     },
     "execution_count": 233,
     "metadata": {},
     "output_type": "execute_result"
    }
   ],
   "source": [
    "X[3,:]"
   ]
  },
  {
   "cell_type": "code",
   "execution_count": 51,
   "id": "91b01002",
   "metadata": {},
   "outputs": [
    {
     "data": {
      "text/html": [
       "<div>\n",
       "<style scoped>\n",
       "    .dataframe tbody tr th:only-of-type {\n",
       "        vertical-align: middle;\n",
       "    }\n",
       "\n",
       "    .dataframe tbody tr th {\n",
       "        vertical-align: top;\n",
       "    }\n",
       "\n",
       "    .dataframe thead th {\n",
       "        text-align: right;\n",
       "    }\n",
       "</style>\n",
       "<table border=\"1\" class=\"dataframe\">\n",
       "  <thead>\n",
       "    <tr style=\"text-align: right;\">\n",
       "      <th></th>\n",
       "      <th>Price</th>\n",
       "      <th>StatDist(miles)</th>\n",
       "      <th>Bedrooms</th>\n",
       "      <th>Bathrooms</th>\n",
       "      <th>Outdoor</th>\n",
       "      <th>Portered</th>\n",
       "      <th>Apartment</th>\n",
       "      <th>Flat</th>\n",
       "      <th>House</th>\n",
       "      <th>Maisonette</th>\n",
       "      <th>...</th>\n",
       "      <th>W11</th>\n",
       "      <th>SE11</th>\n",
       "      <th>North</th>\n",
       "      <th>Centrality</th>\n",
       "      <th>Floor_Size</th>\n",
       "      <th>2022-10-23</th>\n",
       "      <th>2022-10-29</th>\n",
       "      <th>2022-11-27</th>\n",
       "      <th>Centrality2</th>\n",
       "      <th>Floor_Size2</th>\n",
       "    </tr>\n",
       "  </thead>\n",
       "  <tbody>\n",
       "    <tr>\n",
       "      <th>13</th>\n",
       "      <td>800000.0</td>\n",
       "      <td>0.2</td>\n",
       "      <td>2.0</td>\n",
       "      <td>2.0</td>\n",
       "      <td>1.0</td>\n",
       "      <td>0.0</td>\n",
       "      <td>0</td>\n",
       "      <td>1</td>\n",
       "      <td>0</td>\n",
       "      <td>0</td>\n",
       "      <td>...</td>\n",
       "      <td>0</td>\n",
       "      <td>0</td>\n",
       "      <td>1.0</td>\n",
       "      <td>4.099568</td>\n",
       "      <td>936.0</td>\n",
       "      <td>0</td>\n",
       "      <td>0</td>\n",
       "      <td>0</td>\n",
       "      <td>16.806457</td>\n",
       "      <td>876096.0</td>\n",
       "    </tr>\n",
       "  </tbody>\n",
       "</table>\n",
       "<p>1 rows × 40 columns</p>\n",
       "</div>"
      ],
      "text/plain": [
       "       Price  StatDist(miles)  Bedrooms  Bathrooms  Outdoor  Portered  \\\n",
       "13  800000.0              0.2       2.0        2.0      1.0       0.0   \n",
       "\n",
       "    Apartment  Flat  House  Maisonette  ...  W11  SE11  North  Centrality  \\\n",
       "13          0     1      0           0  ...    0     0    1.0    4.099568   \n",
       "\n",
       "    Floor_Size  2022-10-23  2022-10-29  2022-11-27  Centrality2  Floor_Size2  \n",
       "13       936.0           0           0           0    16.806457     876096.0  \n",
       "\n",
       "[1 rows x 40 columns]"
      ]
     },
     "execution_count": 51,
     "metadata": {},
     "output_type": "execute_result"
    }
   ],
   "source": [
    "df_varselect.iloc[[3],:]"
   ]
  },
  {
   "cell_type": "code",
   "execution_count": 52,
   "id": "8fb908b9",
   "metadata": {},
   "outputs": [
    {
     "data": {
      "text/plain": [
       "array([783287.5])"
      ]
     },
     "execution_count": 52,
     "metadata": {},
     "output_type": "execute_result"
    }
   ],
   "source": [
    "best_rf.predict(X[3].reshape(1, -1))"
   ]
  }
 ],
 "metadata": {
  "kernelspec": {
   "display_name": "Python 3 (ipykernel)",
   "language": "python",
   "name": "python3"
  },
  "language_info": {
   "codemirror_mode": {
    "name": "ipython",
    "version": 3
   },
   "file_extension": ".py",
   "mimetype": "text/x-python",
   "name": "python",
   "nbconvert_exporter": "python",
   "pygments_lexer": "ipython3",
   "version": "3.8.8"
  }
 },
 "nbformat": 4,
 "nbformat_minor": 5
}
