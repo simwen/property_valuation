{
 "cells": [
  {
   "cell_type": "code",
   "execution_count": 62,
   "id": "18d6fdfe",
   "metadata": {},
   "outputs": [],
   "source": [
    "import pandas as pd\n",
    "import numpy as np\n",
    "from sklearn.model_selection import train_test_split\n",
    "from sklearn import preprocessing\n",
    "\n",
    "# ML functions and plotting libraries\n",
    "from sklearn.tree import DecisionTreeRegressor, plot_tree\n",
    "from sklearn.linear_model import Lasso\n",
    "from sklearn.ensemble import RandomForestRegressor, GradientBoostingRegressor\n",
    "import matplotlib.pyplot as plt\n",
    "from sklearn.inspection import plot_partial_dependence\n",
    "from sklearn.metrics import confusion_matrix\n",
    "from sklearn.metrics import mean_absolute_error\n",
    "from sklearn.model_selection import GridSearchCV\n",
    "from sklearn.neighbors import KNeighborsRegressor\n",
    "\n",
    "import scikeras\n",
    "from sklearn.preprocessing import StandardScaler\n",
    "from scikeras.wrappers import KerasRegressor\n",
    "from sklearn.pipeline import Pipeline\n",
    "from sklearn.model_selection import KFold\n",
    "from sklearn.model_selection import cross_val_score\n",
    "import joblib\n",
    "\n",
    "import keras\n",
    "from keras.models import Sequential\n",
    "from keras.layers import Dense #fully connected NN\n",
    "from keras.optimizers import RMSprop"
   ]
  },
  {
   "cell_type": "code",
   "execution_count": 31,
   "id": "79ee2884",
   "metadata": {},
   "outputs": [],
   "source": [
    "# file naming variables\n",
    "latest_version = 'df_2023-06-13'\n",
    "location = '/Users/Sim/Documents/Other/Programming/Personal Projects/property_valuation'"
   ]
  },
  {
   "cell_type": "markdown",
   "id": "e01d5a52",
   "metadata": {},
   "source": [
    "### 1. Loading the latest data"
   ]
  },
  {
   "cell_type": "code",
   "execution_count": 32,
   "id": "6eec565b",
   "metadata": {},
   "outputs": [],
   "source": [
    "df=pd.read_csv(f'{location}/data/{latest_version}.csv')"
   ]
  },
  {
   "cell_type": "code",
   "execution_count": 33,
   "id": "26c4118a",
   "metadata": {},
   "outputs": [
    {
     "data": {
      "text/html": [
       "<div>\n",
       "<style scoped>\n",
       "    .dataframe tbody tr th:only-of-type {\n",
       "        vertical-align: middle;\n",
       "    }\n",
       "\n",
       "    .dataframe tbody tr th {\n",
       "        vertical-align: top;\n",
       "    }\n",
       "\n",
       "    .dataframe thead th {\n",
       "        text-align: right;\n",
       "    }\n",
       "</style>\n",
       "<table border=\"1\" class=\"dataframe\">\n",
       "  <thead>\n",
       "    <tr style=\"text-align: right;\">\n",
       "      <th></th>\n",
       "      <th>Date</th>\n",
       "      <th>Price</th>\n",
       "      <th>NearStat</th>\n",
       "      <th>StatDist(miles)</th>\n",
       "      <th>Prop_Type</th>\n",
       "      <th>Bedrooms</th>\n",
       "      <th>Bathrooms</th>\n",
       "      <th>Floor_Size</th>\n",
       "      <th>Outdoor</th>\n",
       "      <th>Portered</th>\n",
       "      <th>...</th>\n",
       "      <th>Outcode</th>\n",
       "      <th>Outcode2</th>\n",
       "      <th>Outcode3</th>\n",
       "      <th>Postcode</th>\n",
       "      <th>Centrality</th>\n",
       "      <th>North</th>\n",
       "      <th>Links</th>\n",
       "      <th>Date_Scraped</th>\n",
       "      <th>Month_Year</th>\n",
       "      <th>Avg_price</th>\n",
       "    </tr>\n",
       "  </thead>\n",
       "  <tbody>\n",
       "    <tr>\n",
       "      <th>6753</th>\n",
       "      <td>20230612.0</td>\n",
       "      <td>790000.0</td>\n",
       "      <td>Warwick Avenue Station</td>\n",
       "      <td>0.3</td>\n",
       "      <td>Flat</td>\n",
       "      <td>2.0</td>\n",
       "      <td>1.0</td>\n",
       "      <td>989.0</td>\n",
       "      <td>1.0</td>\n",
       "      <td>1.0</td>\n",
       "      <td>...</td>\n",
       "      <td>W9</td>\n",
       "      <td>W9</td>\n",
       "      <td>W91</td>\n",
       "      <td>W91SQ</td>\n",
       "      <td>4.192989</td>\n",
       "      <td>1.0</td>\n",
       "      <td>https://www.rightmove.co.uk/properties/1360080...</td>\n",
       "      <td>2023-06-13</td>\n",
       "      <td>202306</td>\n",
       "      <td>173.0</td>\n",
       "    </tr>\n",
       "    <tr>\n",
       "      <th>6754</th>\n",
       "      <td>20230607.0</td>\n",
       "      <td>499950.0</td>\n",
       "      <td>St. John's Wood Station</td>\n",
       "      <td>0.3</td>\n",
       "      <td>Flat</td>\n",
       "      <td>1.0</td>\n",
       "      <td>1.0</td>\n",
       "      <td>470.0</td>\n",
       "      <td>1.0</td>\n",
       "      <td>1.0</td>\n",
       "      <td>...</td>\n",
       "      <td>NW8</td>\n",
       "      <td>NW8</td>\n",
       "      <td>NW89</td>\n",
       "      <td>NW89EJ</td>\n",
       "      <td>4.178467</td>\n",
       "      <td>1.0</td>\n",
       "      <td>https://www.rightmove.co.uk/properties/1358162...</td>\n",
       "      <td>2023-06-13</td>\n",
       "      <td>202306</td>\n",
       "      <td>261.0</td>\n",
       "    </tr>\n",
       "    <tr>\n",
       "      <th>6755</th>\n",
       "      <td>20230612.0</td>\n",
       "      <td>650000.0</td>\n",
       "      <td>Kilburn High Road Station</td>\n",
       "      <td>0.1</td>\n",
       "      <td>Flat</td>\n",
       "      <td>2.0</td>\n",
       "      <td>1.0</td>\n",
       "      <td>NaN</td>\n",
       "      <td>0.0</td>\n",
       "      <td>0.0</td>\n",
       "      <td>...</td>\n",
       "      <td>NW6</td>\n",
       "      <td>NW6</td>\n",
       "      <td>NW64</td>\n",
       "      <td>NW64LL</td>\n",
       "      <td>5.755045</td>\n",
       "      <td>1.0</td>\n",
       "      <td>https://www.rightmove.co.uk/properties/1360368...</td>\n",
       "      <td>2023-06-13</td>\n",
       "      <td>202306</td>\n",
       "      <td>102.0</td>\n",
       "    </tr>\n",
       "  </tbody>\n",
       "</table>\n",
       "<p>3 rows × 21 columns</p>\n",
       "</div>"
      ],
      "text/plain": [
       "            Date     Price                   NearStat  StatDist(miles)  \\\n",
       "6753  20230612.0  790000.0     Warwick Avenue Station              0.3   \n",
       "6754  20230607.0  499950.0    St. John's Wood Station              0.3   \n",
       "6755  20230612.0  650000.0  Kilburn High Road Station              0.1   \n",
       "\n",
       "     Prop_Type  Bedrooms  Bathrooms  Floor_Size  Outdoor  Portered  ...  \\\n",
       "6753      Flat       2.0        1.0       989.0      1.0       1.0  ...   \n",
       "6754      Flat       1.0        1.0       470.0      1.0       1.0  ...   \n",
       "6755      Flat       2.0        1.0         NaN      0.0       0.0  ...   \n",
       "\n",
       "     Outcode Outcode2 Outcode3 Postcode Centrality  North  \\\n",
       "6753      W9       W9      W91    W91SQ   4.192989    1.0   \n",
       "6754     NW8      NW8     NW89   NW89EJ   4.178467    1.0   \n",
       "6755     NW6      NW6     NW64   NW64LL   5.755045    1.0   \n",
       "\n",
       "                                                  Links Date_Scraped  \\\n",
       "6753  https://www.rightmove.co.uk/properties/1360080...   2023-06-13   \n",
       "6754  https://www.rightmove.co.uk/properties/1358162...   2023-06-13   \n",
       "6755  https://www.rightmove.co.uk/properties/1360368...   2023-06-13   \n",
       "\n",
       "     Month_Year  Avg_price  \n",
       "6753     202306      173.0  \n",
       "6754     202306      261.0  \n",
       "6755     202306      102.0  \n",
       "\n",
       "[3 rows x 21 columns]"
      ]
     },
     "execution_count": 33,
     "metadata": {},
     "output_type": "execute_result"
    }
   ],
   "source": [
    "df.tail(3)"
   ]
  },
  {
   "cell_type": "code",
   "execution_count": 34,
   "id": "02409784",
   "metadata": {},
   "outputs": [
    {
     "data": {
      "text/html": [
       "<div>\n",
       "<style scoped>\n",
       "    .dataframe tbody tr th:only-of-type {\n",
       "        vertical-align: middle;\n",
       "    }\n",
       "\n",
       "    .dataframe tbody tr th {\n",
       "        vertical-align: top;\n",
       "    }\n",
       "\n",
       "    .dataframe thead th {\n",
       "        text-align: right;\n",
       "    }\n",
       "</style>\n",
       "<table border=\"1\" class=\"dataframe\">\n",
       "  <thead>\n",
       "    <tr style=\"text-align: right;\">\n",
       "      <th></th>\n",
       "      <th>Date</th>\n",
       "      <th>Price</th>\n",
       "      <th>NearStat</th>\n",
       "      <th>StatDist(miles)</th>\n",
       "      <th>Prop_Type</th>\n",
       "      <th>Bedrooms</th>\n",
       "      <th>Bathrooms</th>\n",
       "      <th>Floor_Size</th>\n",
       "      <th>Outdoor</th>\n",
       "      <th>Portered</th>\n",
       "      <th>...</th>\n",
       "      <th>Outcode</th>\n",
       "      <th>Outcode2</th>\n",
       "      <th>Outcode3</th>\n",
       "      <th>Postcode</th>\n",
       "      <th>Centrality</th>\n",
       "      <th>North</th>\n",
       "      <th>Links</th>\n",
       "      <th>Date_Scraped</th>\n",
       "      <th>Month_Year</th>\n",
       "      <th>Avg_price</th>\n",
       "    </tr>\n",
       "  </thead>\n",
       "  <tbody>\n",
       "    <tr>\n",
       "      <th>0</th>\n",
       "      <td>20211111.0</td>\n",
       "      <td>600000.0</td>\n",
       "      <td>Barbican Station</td>\n",
       "      <td>0.4</td>\n",
       "      <td>Apartment</td>\n",
       "      <td>1.0</td>\n",
       "      <td>1.0</td>\n",
       "      <td>NaN</td>\n",
       "      <td>0.0</td>\n",
       "      <td>0.0</td>\n",
       "      <td>...</td>\n",
       "      <td>EC1V</td>\n",
       "      <td>EC1</td>\n",
       "      <td>EC1V3</td>\n",
       "      <td>EC1V3NY</td>\n",
       "      <td>2.845931</td>\n",
       "      <td>1.0</td>\n",
       "      <td>NaN</td>\n",
       "      <td>2022-09-02</td>\n",
       "      <td>202209</td>\n",
       "      <td>110.0</td>\n",
       "    </tr>\n",
       "    <tr>\n",
       "      <th>1</th>\n",
       "      <td>20220826.0</td>\n",
       "      <td>450000.0</td>\n",
       "      <td>Angel Station</td>\n",
       "      <td>0.2</td>\n",
       "      <td>Apartment</td>\n",
       "      <td>1.0</td>\n",
       "      <td>1.0</td>\n",
       "      <td>NaN</td>\n",
       "      <td>0.0</td>\n",
       "      <td>0.0</td>\n",
       "      <td>...</td>\n",
       "      <td>EC1V</td>\n",
       "      <td>EC1</td>\n",
       "      <td>EC1V4</td>\n",
       "      <td>EC1V4LB</td>\n",
       "      <td>2.880314</td>\n",
       "      <td>1.0</td>\n",
       "      <td>NaN</td>\n",
       "      <td>2022-09-02</td>\n",
       "      <td>202209</td>\n",
       "      <td>151.5</td>\n",
       "    </tr>\n",
       "    <tr>\n",
       "      <th>2</th>\n",
       "      <td>20220318.0</td>\n",
       "      <td>600000.0</td>\n",
       "      <td>Battersea Power Underground Station</td>\n",
       "      <td>0.2</td>\n",
       "      <td>Flat</td>\n",
       "      <td>1.0</td>\n",
       "      <td>1.0</td>\n",
       "      <td>NaN</td>\n",
       "      <td>1.0</td>\n",
       "      <td>0.0</td>\n",
       "      <td>...</td>\n",
       "      <td>SW11</td>\n",
       "      <td>SW11</td>\n",
       "      <td>SW118</td>\n",
       "      <td>SW118EB</td>\n",
       "      <td>2.987774</td>\n",
       "      <td>0.0</td>\n",
       "      <td>NaN</td>\n",
       "      <td>2022-09-02</td>\n",
       "      <td>202209</td>\n",
       "      <td>160.0</td>\n",
       "    </tr>\n",
       "  </tbody>\n",
       "</table>\n",
       "<p>3 rows × 21 columns</p>\n",
       "</div>"
      ],
      "text/plain": [
       "         Date     Price                             NearStat  StatDist(miles)  \\\n",
       "0  20211111.0  600000.0                     Barbican Station              0.4   \n",
       "1  20220826.0  450000.0                        Angel Station              0.2   \n",
       "2  20220318.0  600000.0  Battersea Power Underground Station              0.2   \n",
       "\n",
       "   Prop_Type  Bedrooms  Bathrooms  Floor_Size  Outdoor  Portered  ... Outcode  \\\n",
       "0  Apartment       1.0        1.0         NaN      0.0       0.0  ...    EC1V   \n",
       "1  Apartment       1.0        1.0         NaN      0.0       0.0  ...    EC1V   \n",
       "2       Flat       1.0        1.0         NaN      1.0       0.0  ...    SW11   \n",
       "\n",
       "  Outcode2 Outcode3 Postcode Centrality  North  Links Date_Scraped Month_Year  \\\n",
       "0      EC1    EC1V3  EC1V3NY   2.845931    1.0    NaN   2022-09-02     202209   \n",
       "1      EC1    EC1V4  EC1V4LB   2.880314    1.0    NaN   2022-09-02     202209   \n",
       "2     SW11    SW118  SW118EB   2.987774    0.0    NaN   2022-09-02     202209   \n",
       "\n",
       "   Avg_price  \n",
       "0      110.0  \n",
       "1      151.5  \n",
       "2      160.0  \n",
       "\n",
       "[3 rows x 21 columns]"
      ]
     },
     "execution_count": 34,
     "metadata": {},
     "output_type": "execute_result"
    }
   ],
   "source": [
    "df.head(3)"
   ]
  },
  {
   "cell_type": "code",
   "execution_count": 35,
   "id": "ee83325b",
   "metadata": {},
   "outputs": [
    {
     "data": {
      "text/html": [
       "<div>\n",
       "<style scoped>\n",
       "    .dataframe tbody tr th:only-of-type {\n",
       "        vertical-align: middle;\n",
       "    }\n",
       "\n",
       "    .dataframe tbody tr th {\n",
       "        vertical-align: top;\n",
       "    }\n",
       "\n",
       "    .dataframe thead th {\n",
       "        text-align: right;\n",
       "    }\n",
       "</style>\n",
       "<table border=\"1\" class=\"dataframe\">\n",
       "  <thead>\n",
       "    <tr style=\"text-align: right;\">\n",
       "      <th></th>\n",
       "      <th>Month_Year</th>\n",
       "    </tr>\n",
       "    <tr>\n",
       "      <th>Month_Year</th>\n",
       "      <th></th>\n",
       "    </tr>\n",
       "  </thead>\n",
       "  <tbody>\n",
       "    <tr>\n",
       "      <th>202209</th>\n",
       "      <td>1879</td>\n",
       "    </tr>\n",
       "    <tr>\n",
       "      <th>202210</th>\n",
       "      <td>499</td>\n",
       "    </tr>\n",
       "    <tr>\n",
       "      <th>202211</th>\n",
       "      <td>576</td>\n",
       "    </tr>\n",
       "    <tr>\n",
       "      <th>202301</th>\n",
       "      <td>776</td>\n",
       "    </tr>\n",
       "    <tr>\n",
       "      <th>202302</th>\n",
       "      <td>728</td>\n",
       "    </tr>\n",
       "    <tr>\n",
       "      <th>202303</th>\n",
       "      <td>695</td>\n",
       "    </tr>\n",
       "    <tr>\n",
       "      <th>202304</th>\n",
       "      <td>440</td>\n",
       "    </tr>\n",
       "    <tr>\n",
       "      <th>202305</th>\n",
       "      <td>757</td>\n",
       "    </tr>\n",
       "    <tr>\n",
       "      <th>202306</th>\n",
       "      <td>406</td>\n",
       "    </tr>\n",
       "  </tbody>\n",
       "</table>\n",
       "</div>"
      ],
      "text/plain": [
       "            Month_Year\n",
       "Month_Year            \n",
       "202209            1879\n",
       "202210             499\n",
       "202211             576\n",
       "202301             776\n",
       "202302             728\n",
       "202303             695\n",
       "202304             440\n",
       "202305             757\n",
       "202306             406"
      ]
     },
     "execution_count": 35,
     "metadata": {},
     "output_type": "execute_result"
    }
   ],
   "source": [
    "#df['Month_Year'] = df['Date_Scraped'].astype('str').str[0:4] + df['Date_Scraped'].astype('str').str[5:7]\n",
    "#df['Month_Year'] = df['Month_Year'].astype('int')\n",
    "\n",
    "df.groupby('Month_Year').agg({'Month_Year': 'count'})"
   ]
  },
  {
   "cell_type": "markdown",
   "id": "b7f1d751",
   "metadata": {},
   "source": [
    "### 2. Data pre-processing & feature engineering"
   ]
  },
  {
   "cell_type": "code",
   "execution_count": 36,
   "id": "73c025ff",
   "metadata": {},
   "outputs": [],
   "source": [
    "# Getting dummies vars\n",
    "df2 = pd.concat([df, pd.get_dummies(df.iloc[:,2])], axis=1) #nearest station\n",
    "df2 = pd.concat([df2, pd.get_dummies(df.iloc[:,4])], axis=1) #prop_type\n",
    "df2 = pd.concat([df2, pd.get_dummies(df.iloc[:,10])], axis=1) #contract\n",
    "df2 = pd.concat([df2, pd.get_dummies(df.iloc[:,12])], axis=1) #outcode2\n",
    "df2 = pd.concat([df2, pd.get_dummies(df.iloc[:,19])], axis=1) #scraped_date"
   ]
  },
  {
   "cell_type": "code",
   "execution_count": 37,
   "id": "79f4391f",
   "metadata": {},
   "outputs": [],
   "source": [
    "# Leave out 'Studio', 'Freehold', stations, a bunch of postcodes\n",
    "\n",
    "variables = ['Price','StatDist(miles)','Bedrooms','Bathrooms','Outdoor','Portered','Apartment','Flat','House',\n",
    "             'Maisonette','Mews', 'Terraced','Leasehold','NW6','SW1','N1','W2','W9','SE1','N7','NW1','EC1','NW3',\n",
    "             'SW11','WC1','W1','NW8','W10','SW3','NW5','W11','SE11','North','Centrality','Floor_Size'] \n",
    "\n",
    "variables = variables + [202210, 202211, 202301, 202302, 202303, 202304] # Leaves out first month_year (202209)\n",
    "variables = variables + ['Avg_price']\n",
    "\n",
    "stations = ['Edgware Road (Circle, District, Hammersmith & City) Station',\n",
    "            'St. John\\'s Wood Station','Marylebone Station','Paddington Station',                                             \n",
    "            'Edgware Road (Bakerloo) Station', 'Warwick Avenue Station','Lancaster Gate Station',\n",
    "            'Marble Arch Station','Maida Vale Station',\n",
    "            'Baker Street Station','Royal Oak Station']\n",
    "\n",
    "df_varselect = df2[variables].dropna()\n",
    "#df_varselect2 =df2[stations]\n",
    "#df_varselect2 = pd.concat([df_varselect, df_varselect2], axis=1).dropna()\n",
    "#df_varselect2\n",
    "df_varselect['Avg_price2'] = df_varselect['Avg_price'] **2\n",
    "df_varselect['Centrality2'] = df_varselect['Centrality'] **2\n",
    "df_varselect['Floor_Size2'] = df_varselect['Floor_Size'] **2"
   ]
  },
  {
   "cell_type": "code",
   "execution_count": 38,
   "id": "bd87e7b2",
   "metadata": {},
   "outputs": [
    {
     "data": {
      "text/plain": [
       "Index([          'Price', 'StatDist(miles)',        'Bedrooms',\n",
       "             'Bathrooms',         'Outdoor',        'Portered',\n",
       "             'Apartment',            'Flat',           'House',\n",
       "            'Maisonette',            'Mews',        'Terraced',\n",
       "             'Leasehold',             'NW6',             'SW1',\n",
       "                    'N1',              'W2',              'W9',\n",
       "                   'SE1',              'N7',             'NW1',\n",
       "                   'EC1',             'NW3',            'SW11',\n",
       "                   'WC1',              'W1',             'NW8',\n",
       "                   'W10',             'SW3',             'NW5',\n",
       "                   'W11',            'SE11',           'North',\n",
       "            'Centrality',      'Floor_Size',            202210,\n",
       "                  202211,            202301,            202302,\n",
       "                  202303,            202304,       'Avg_price',\n",
       "            'Avg_price2',     'Centrality2',     'Floor_Size2'],\n",
       "      dtype='object')"
      ]
     },
     "execution_count": 38,
     "metadata": {},
     "output_type": "execute_result"
    }
   ],
   "source": [
    "df_varselect.columns"
   ]
  },
  {
   "cell_type": "markdown",
   "id": "9f1ec167",
   "metadata": {},
   "source": [
    "### 3. Shuffling, Splitting and Normalising"
   ]
  },
  {
   "cell_type": "code",
   "execution_count": 39,
   "id": "9ba04864",
   "metadata": {},
   "outputs": [],
   "source": [
    "X = np.array(df_varselect.iloc[:,1:df_varselect.shape[1]])"
   ]
  },
  {
   "cell_type": "code",
   "execution_count": 40,
   "id": "85773b38",
   "metadata": {},
   "outputs": [
    {
     "name": "stdout",
     "output_type": "stream",
     "text": [
      "(1206, 44)\n",
      "(603, 44)\n",
      "(603, 44)\n",
      "(1206,)\n",
      "(603,)\n",
      "(603,)\n",
      "(1809, 44)\n",
      "(1809, 1)\n"
     ]
    }
   ],
   "source": [
    "# Create feature and target arrays\n",
    "X = np.array(df_varselect.iloc[:,1:df_varselect.shape[1]])\n",
    "y = np.array(df_varselect.iloc[:,0])\n",
    "\n",
    "# Shuffling data (to ensure random order) and performing 0.5 : 0.25 : 0.25 train-validation-test set splits\n",
    "X_train, X_non, y_train, y_non = train_test_split(X, y, test_size=0.5, shuffle=True, random_state=1)\n",
    "X_val, X_test, y_val, y_test = train_test_split(X_non, y_non, test_size=0.5, shuffle=True, random_state=1)\n",
    "\n",
    "# Combining train and val for cross validation approach\n",
    "X_tv, y_tv = pd.concat([pd.DataFrame(X_train), pd.DataFrame(X_val)]), pd.concat([pd.DataFrame(y_train), pd.DataFrame(y_val)])\n",
    "y_tv_arr = np.array(y_tv)\n",
    "\n",
    "print(X_train.shape)\n",
    "print(X_val.shape)\n",
    "print(X_test.shape)\n",
    "print(y_train.shape)\n",
    "print(y_val.shape)\n",
    "print(y_test.shape)\n",
    "\n",
    "print(X_tv.shape)\n",
    "print(y_tv_arr.shape)"
   ]
  },
  {
   "cell_type": "code",
   "execution_count": 41,
   "id": "435b4d55",
   "metadata": {},
   "outputs": [],
   "source": [
    "# Normalising\n",
    "scaler = preprocessing.StandardScaler().fit(X_train)\n",
    "#scaler_new = preprocessing.StandardScaler().fit(X_tv)\n",
    "\n",
    "# Apply the scaling object to both train/validation/test sets\n",
    "X_train_new = scaler.transform(X_train)\n",
    "X_val_new = scaler.transform(X_val)\n",
    "X_test_new = scaler.transform(X_test)\n",
    "X_tv_new = scaler.transform(X_tv)"
   ]
  },
  {
   "cell_type": "code",
   "execution_count": 42,
   "id": "8158d1b3",
   "metadata": {},
   "outputs": [],
   "source": [
    "scaler2 = preprocessing.StandardScaler().fit(y_train.reshape(-1, 1))\n",
    "\n",
    "y_train_n = scaler2.transform(y_train.reshape(-1, 1))\n",
    "y_val_n = scaler2.transform(y_val.reshape(-1, 1))\n",
    "y_test_n = scaler2.transform(y_test.reshape(-1, 1))\n",
    "y_tv_arr_n = scaler2.transform(y_tv_arr.reshape(-1, 1))"
   ]
  },
  {
   "cell_type": "markdown",
   "id": "9ea03bbc",
   "metadata": {},
   "source": [
    "### 4. Model Training"
   ]
  },
  {
   "cell_type": "markdown",
   "id": "3a7e21af",
   "metadata": {},
   "source": [
    "#### 4A. Lasso Model"
   ]
  },
  {
   "cell_type": "code",
   "execution_count": 43,
   "id": "eb81fca7",
   "metadata": {},
   "outputs": [
    {
     "name": "stdout",
     "output_type": "stream",
     "text": [
      "The maximum validation set accuracy - 0.22 - occurs at alpha = 626\n"
     ]
    }
   ],
   "source": [
    "train_acc_dict = {}\n",
    "val_acc_dict = {}\n",
    "\n",
    "for a in np.arange(1, 3001, 5):\n",
    "    reg = Lasso(alpha=a, random_state=123)\n",
    "    reg = reg.fit(X_train_new, y_train)\n",
    "    \n",
    "    train_acc, val_acc = reg.score(X_train_new, y_train), reg.score(X_val_new, y_val)\n",
    "    train_acc_dict[a], val_acc_dict[a] = train_acc, val_acc\n",
    "    \n",
    "best_alpha = max(val_acc_dict, key=val_acc_dict.get)\n",
    "best_acc = round(val_acc_dict[best_alpha], 3)\n",
    "print('The maximum validation set accuracy - %s - occurs at alpha = %s' % (best_acc, best_alpha))"
   ]
  },
  {
   "cell_type": "code",
   "execution_count": 44,
   "id": "2544baab",
   "metadata": {},
   "outputs": [
    {
     "data": {
      "text/plain": [
       "Text(627, 0.23, '(alpha=626, accuracy=0.22)')"
      ]
     },
     "execution_count": 44,
     "metadata": {},
     "output_type": "execute_result"
    },
    {
     "data": {
      "image/png": "[encoded data removed]",
      "text/plain": [
       "<Figure size 300x200 with 1 Axes>"
      ]
     },
     "metadata": {},
     "output_type": "display_data"
    }
   ],
   "source": [
    "n_est = [x for x in np.arange(1, 3001, 5)]\n",
    "train_acc = [acc for acc in train_acc_dict.values()]\n",
    "val_acc = [acc for acc in val_acc_dict.values()]\n",
    "\n",
    "# viz\n",
    "fig = plt.figure()\n",
    "ax = fig.add_subplot(111)\n",
    "ax.plot(n_est, train_acc)\n",
    "ax.plot(n_est, val_acc)\n",
    "fig.set_size_inches(3, 2)\n",
    "ax.set_xlabel('alpha')\n",
    "ax.set_ylabel('Accuracy')\n",
    "ax.annotate('(alpha=%s, accuracy=%s)' % (best_alpha, best_acc), xy=(best_alpha, best_acc), xytext=(best_alpha + 1, best_acc+0.01), arrowprops=dict(arrowstyle=\"->\", facecolor='black'))"
   ]
  },
  {
   "cell_type": "code",
   "execution_count": 45,
   "id": "32c4bee9",
   "metadata": {},
   "outputs": [
    {
     "name": "stdout",
     "output_type": "stream",
     "text": [
      "Fitting 10 folds for each of 400 candidates, totalling 4000 fits\n",
      "Best val accuracy - 0.2681706610153652 - occurs at alpha = 261\n"
     ]
    },
    {
     "data": {
      "text/plain": [
       "['models/grid_lr.sav']"
      ]
     },
     "execution_count": 45,
     "metadata": {},
     "output_type": "execute_result"
    }
   ],
   "source": [
    "# Using grid search and 10-fold CV instead\n",
    "\n",
    "param_grid = {'alpha': np.arange(1, 2001, 5)}\n",
    "\n",
    "grid_lr = GridSearchCV(Lasso(), param_grid, verbose = 1,  cv = 10, scoring = 'r2')\n",
    "\n",
    "# Fitting the grid model\n",
    "grid_lr.fit(X_tv_new, y_tv_arr)\n",
    "score_lr = grid_lr.best_score_\n",
    "param_lr = grid_lr.best_params_\n",
    "print('Best val accuracy - %s - occurs at alpha = %s' % (score_lr, param_lr['alpha']))\n",
    "# 0.3615268259069946\n",
    "\n",
    "# Saving the model\n",
    "joblib.dump(grid_lr, 'models/grid_lr.sav')"
   ]
  },
  {
   "cell_type": "code",
   "execution_count": 46,
   "id": "6e4a158a",
   "metadata": {},
   "outputs": [
    {
     "data": {
      "text/plain": [
       "['models/grid_lr.sav']"
      ]
     },
     "execution_count": 46,
     "metadata": {},
     "output_type": "execute_result"
    }
   ],
   "source": [
    "# Saving the model\n",
    "joblib.dump(grid_lr, 'models/grid_lr.sav')"
   ]
  },
  {
   "cell_type": "markdown",
   "id": "ab918a34",
   "metadata": {},
   "source": [
    "#### 4B. Random Forest Model\n",
    "Next we train a random forest classifier. Using the loop in the code below, we train multiple RFs of varying n_estimators and choose the model that maximises validation set accuracy (i.e. minimises out of sample error)."
   ]
  },
  {
   "cell_type": "code",
   "execution_count": 47,
   "id": "23744533",
   "metadata": {},
   "outputs": [
    {
     "name": "stdout",
     "output_type": "stream",
     "text": [
      "Fitting 10 folds for each of 49 candidates, totalling 490 fits\n",
      "Best val accuracy - 0.4180943369510355 - occurs with parameters = {'max_depth': 25, 'n_estimators': 400}\n"
     ]
    },
    {
     "data": {
      "text/plain": [
       "['models/grid_rf.sav']"
      ]
     },
     "execution_count": 47,
     "metadata": {},
     "output_type": "execute_result"
    }
   ],
   "source": [
    "# Using grid search and 10-fold CV instead\n",
    "\n",
    "param_grid = {'max_depth': [5,10,15,20,25,30,35], 'n_estimators': [75,100,150,200,250,300,400]}\n",
    "\n",
    "rf = RandomForestRegressor()\n",
    "\n",
    "grid_rf = GridSearchCV(rf, param_grid, verbose = 1,  cv = 10, scoring = 'r2')\n",
    "\n",
    "# Fitting the grid model\n",
    "grid_rf.fit(X_tv_new, y_tv_arr.ravel())\n",
    "score_rf = grid_rf.best_score_\n",
    "param_rf = grid_rf.best_params_\n",
    "print('Best val accuracy - %s - occurs with parameters = %s' % (score_rf, param_rf))\n",
    "# 0.4254 at 25, 150\n",
    "\n",
    "# Saving the model\n",
    "joblib.dump(grid_rf, 'models/grid_rf.sav')"
   ]
  },
  {
   "cell_type": "markdown",
   "id": "3948774f",
   "metadata": {},
   "source": [
    "#### 4C. Gradient Boosting"
   ]
  },
  {
   "cell_type": "code",
   "execution_count": 48,
   "id": "e37ec299",
   "metadata": {},
   "outputs": [
    {
     "name": "stdout",
     "output_type": "stream",
     "text": [
      "Fitting 10 folds for each of 21 candidates, totalling 210 fits\n",
      "Best val accuracy - 0.35213463073719786 - occurs with parameters = {'n_estimators': 575}\n"
     ]
    }
   ],
   "source": [
    "param_test1 = {'n_estimators':range(350,851,25)}\n",
    "\n",
    "gb = GradientBoostingRegressor(random_state = 123, learning_rate=0.1, min_samples_split=500, min_samples_leaf=50,\n",
    "                               max_depth=8, max_features='sqrt')\n",
    "\n",
    "grid_gb1 = GridSearchCV(gb, param_grid = param_test1, verbose = 1,  cv = 10, scoring='r2')\n",
    "\n",
    "grid_gb1.fit(X_tv_new, y_tv_arr.ravel())\n",
    "\n",
    "print('Best val accuracy - %s - occurs with parameters = %s' % (grid_gb1.best_score_, grid_gb1.best_params_))\n",
    "# 0.3941 at 725"
   ]
  },
  {
   "cell_type": "code",
   "execution_count": 49,
   "id": "822ee874",
   "metadata": {},
   "outputs": [
    {
     "name": "stdout",
     "output_type": "stream",
     "text": [
      "Fitting 10 folds for each of 54 candidates, totalling 540 fits\n",
      "Best val accuracy - 0.3672439110128532 - occurs with parameters = {'max_depth': 19, 'min_samples_split': 30}\n"
     ]
    }
   ],
   "source": [
    "param_test2 = {'max_depth':range(5,23,2), 'min_samples_split':range(30,301,50)}\n",
    "\n",
    "gb = GradientBoostingRegressor(random_state = 123, n_estimators=grid_gb1.best_params_['n_estimators'], \n",
    "                               learning_rate=0.1, min_samples_leaf=50, max_features='sqrt')\n",
    "\n",
    "grid_gb2 = GridSearchCV(gb, param_grid = param_test2, verbose = 1,  cv = 10, scoring='r2')\n",
    "\n",
    "grid_gb2.fit(X_tv_new, y_tv_arr.ravel())\n",
    "\n",
    "print('Best val accuracy - %s - occurs with parameters = %s' % (grid_gb2.best_score_, grid_gb2.best_params_))\n",
    "# 0.4148 at 11, 100"
   ]
  },
  {
   "cell_type": "code",
   "execution_count": 50,
   "id": "c5377dd1",
   "metadata": {},
   "outputs": [
    {
     "name": "stdout",
     "output_type": "stream",
     "text": [
      "Fitting 10 folds for each of 36 candidates, totalling 360 fits\n",
      "Best val accuracy - 0.3802056947328816 - occurs with parameters = {'max_features': 7, 'min_samples_leaf': 10}\n"
     ]
    },
    {
     "data": {
      "text/plain": [
       "['models/grid_gb.sav']"
      ]
     },
     "execution_count": 50,
     "metadata": {},
     "output_type": "execute_result"
    }
   ],
   "source": [
    "param_test3 = {'min_samples_leaf':range(10,61,10), 'max_features':range(2,8,1)}\n",
    "\n",
    "gb = GradientBoostingRegressor(random_state = 123, n_estimators=grid_gb1.best_params_['n_estimators'], \n",
    "                               learning_rate=0.1, min_samples_split=grid_gb2.best_params_['min_samples_split'], \n",
    "                               max_depth=grid_gb2.best_params_['max_depth'])\n",
    "\n",
    "grid_gb3 = GridSearchCV(gb, param_grid = param_test3, verbose = 1,  cv = 10, scoring='r2')\n",
    "\n",
    "grid_gb3.fit(X_tv_new, y_tv_arr.ravel())\n",
    "\n",
    "print('Best val accuracy - %s - occurs with parameters = %s' % (grid_gb3.best_score_, grid_gb3.best_params_))\n",
    "# 0.4168 at 5, 30\n",
    "\n",
    "#gb_final = GradientBoostingRegressor(random_state = 123, n_estimators=grid_gb1.best_params_['n_estimators'], \n",
    "#                                    learning_rate=0.1, min_samples_split=grid_gb2.best_params_['min_samples_split'], \n",
    "#                                    max_depth=grid_gb2.best_params_['max_depth'],\n",
    "#                                    max_features = grid_gb3.best_params_['max_features'],\n",
    "#                                    min_samples_leaf = grid_gb3.best_params_['min_samples_leaf'])\n",
    "\n",
    "# Saving the model\n",
    "joblib.dump(grid_gb3, 'models/grid_gb.sav')"
   ]
  },
  {
   "cell_type": "code",
   "execution_count": 51,
   "id": "4785a0d5",
   "metadata": {},
   "outputs": [
    {
     "data": {
      "text/plain": [
       "['models/grid_gb.sav']"
      ]
     },
     "execution_count": 51,
     "metadata": {},
     "output_type": "execute_result"
    }
   ],
   "source": [
    "# Saving the model\n",
    "joblib.dump(grid_gb3, 'models/grid_gb.sav')"
   ]
  },
  {
   "cell_type": "markdown",
   "id": "330682a8",
   "metadata": {},
   "source": [
    "#### 4D. KNN"
   ]
  },
  {
   "cell_type": "code",
   "execution_count": 52,
   "id": "2be37e04",
   "metadata": {},
   "outputs": [
    {
     "name": "stdout",
     "output_type": "stream",
     "text": [
      "Fitting 10 folds for each of 59 candidates, totalling 590 fits\n",
      "Best val accuracy - 0.15088469019783746 - occurs with parameters = {'n_neighbors': 14}\n"
     ]
    }
   ],
   "source": [
    "# Using grid search and 10-fold CV instead\n",
    "\n",
    "param_grid = {'n_neighbors': [i for i in range(1,60,1)]}\n",
    "\n",
    "knn = KNeighborsRegressor()\n",
    "\n",
    "grid_knn = GridSearchCV(knn, param_grid, verbose = 1,  cv = 10, scoring = 'r2')\n",
    "\n",
    "# Fitting the grid model\n",
    "grid_knn.fit(X_tv_new, y_tv_arr.ravel())\n",
    "score_knn = grid_knn.best_score_\n",
    "param_knn = grid_knn.best_params_\n",
    "print('Best val accuracy - %s - occurs with parameters = %s' % (score_knn, param_knn))\n",
    "# 0.1972 at 14"
   ]
  },
  {
   "cell_type": "markdown",
   "id": "53d54811",
   "metadata": {},
   "source": [
    "#### 4E. Neural Network\n",
    "While neural networks are typically less effective on tabular data, I nonetheless build two (one smaller, one larger) to test their performance."
   ]
  },
  {
   "cell_type": "code",
   "execution_count": 71,
   "id": "127a21d3",
   "metadata": {},
   "outputs": [],
   "source": [
    "def larger_model():\n",
    "    nn2 = Sequential()\n",
    "    nn2.add(Dense(100, input_shape=(44,), kernel_initializer='normal', activation='relu'))\n",
    "    nn2.add(keras.layers.Dropout(0.2))\n",
    "    nn2.add(Dense(100, kernel_initializer='normal', activation='relu'))\n",
    "    nn2.add(keras.layers.Dropout(0.2))\n",
    "    nn2.add(Dense(100, kernel_initializer='normal', activation='relu'))\n",
    "    nn2.add(Dense(1, kernel_initializer='normal'))\n",
    "    # Compile model\n",
    "    nn2.compile(loss='mean_squared_error', optimizer='adam', metrics=['mae'])\n",
    "    return nn2"
   ]
  },
  {
   "cell_type": "code",
   "execution_count": 72,
   "id": "dea1ef3e",
   "metadata": {},
   "outputs": [
    {
     "name": "stdout",
     "output_type": "stream",
     "text": [
      "Larger model avg -MAE: -74992.52 (3284.90)\n"
     ]
    }
   ],
   "source": [
    "estimators = []\n",
    "#estimators.append(('standardize', StandardScaler()))\n",
    "estimators.append(('mlp', KerasRegressor(model=larger_model, epochs=50, batch_size=5, verbose=0)))\n",
    "pipeline = Pipeline(estimators)\n",
    "kfold = KFold(n_splits=10)\n",
    "results = cross_val_score(pipeline, X_tv_new, y_tv_arr, cv=kfold, scoring='neg_mean_absolute_error')\n",
    "print(\"Larger model avg -MAE: %.2f (%.2f)\" % (results.mean(), results.std()))"
   ]
  },
  {
   "cell_type": "markdown",
   "id": "6c2ba7d6",
   "metadata": {},
   "source": [
    "### 5. Comparing tuned, best in class models"
   ]
  },
  {
   "cell_type": "code",
   "execution_count": 53,
   "id": "3495ba51",
   "metadata": {},
   "outputs": [],
   "source": [
    "rf_grid = joblib.load('models/grid_rf.sav')\n",
    "lr_grid = joblib.load('models/grid_lr.sav')\n",
    "gb_grid = joblib.load('models/grid_gb.sav')"
   ]
  },
  {
   "cell_type": "code",
   "execution_count": 73,
   "id": "b757e86f",
   "metadata": {},
   "outputs": [
    {
     "data": {
      "text/plain": [
       "0.08589037571119085"
      ]
     },
     "execution_count": 73,
     "metadata": {},
     "output_type": "execute_result"
    }
   ],
   "source": [
    "# NN test set error: larger model\n",
    "larger_nn = estimators[0][1]\n",
    "larger_nn.fit(X_tv_new, y_tv_arr.ravel(), verbose = False)  # was y_tv_arr.ravel\n",
    "larger_nn.score(X_test_new, y_test)\n",
    "# 0.21 orignially"
   ]
  },
  {
   "cell_type": "code",
   "execution_count": 55,
   "id": "e5ebef76",
   "metadata": {},
   "outputs": [
    {
     "data": {
      "text/plain": [
       "0.49561923282565346"
      ]
     },
     "execution_count": 55,
     "metadata": {},
     "output_type": "execute_result"
    }
   ],
   "source": [
    "# Grid rand forest\n",
    "#rf_grid = RandomForestRegressor(random_state=123, n_estimators=param_rf['n_estimators'] , \n",
    "#                                max_depth = param_rf['max_depth'] )\n",
    "#rf_grid.fit(X_tv_new, y_tv_arr.ravel())\n",
    "\n",
    "rf_grid.score(X_test_new,y_test)"
   ]
  },
  {
   "cell_type": "code",
   "execution_count": 56,
   "id": "9580fabc",
   "metadata": {},
   "outputs": [
    {
     "data": {
      "text/plain": [
       "0.2811110105030391"
      ]
     },
     "execution_count": 56,
     "metadata": {},
     "output_type": "execute_result"
    }
   ],
   "source": [
    "# Grid lasso\n",
    "#lr_grid = Lasso(random_state=123, alpha = param_lr['alpha'])\n",
    "lr_grid.score(X_test_new, y_test)"
   ]
  },
  {
   "cell_type": "code",
   "execution_count": 57,
   "id": "1fa3df7c",
   "metadata": {},
   "outputs": [
    {
     "data": {
      "text/plain": [
       "0.5227075951952915"
      ]
     },
     "execution_count": 57,
     "metadata": {},
     "output_type": "execute_result"
    }
   ],
   "source": [
    "# Grid grad boost\n",
    "gb_grid.score(X_test_new,y_test)"
   ]
  },
  {
   "cell_type": "markdown",
   "id": "6aae81bb",
   "metadata": {},
   "source": [
    "### 6. Extra digging into models/predictions"
   ]
  },
  {
   "cell_type": "code",
   "execution_count": null,
   "id": "64cde0a4",
   "metadata": {},
   "outputs": [],
   "source": [
    "y_pred = larger_nn.predict(X_test_new)\n",
    "mae = mean_absolute_error(y_test, y_pred)\n",
    "print('Neural net has MAE = £%sk' % (int(str(round(mae))[:-3])))"
   ]
  },
  {
   "cell_type": "code",
   "execution_count": 22,
   "id": "55b23f27",
   "metadata": {},
   "outputs": [
    {
     "name": "stdout",
     "output_type": "stream",
     "text": [
      "Lasso has MAE = £73k\n"
     ]
    }
   ],
   "source": [
    "y_pred = lr_grid.predict(X_test_new)\n",
    "mae = mean_absolute_error(y_test, y_pred)\n",
    "print('Lasso has MAE = £%sk' % (int(str(round(mae))[:-3])))"
   ]
  },
  {
   "cell_type": "code",
   "execution_count": 23,
   "id": "bb9dbfae",
   "metadata": {},
   "outputs": [
    {
     "name": "stdout",
     "output_type": "stream",
     "text": [
      "Gradient Boost has MAE = £56k\n"
     ]
    }
   ],
   "source": [
    "y_pred = gb_grid.predict(X_test_new)\n",
    "mae = mean_absolute_error(y_test, y_pred)\n",
    "print('Gradient Boost has MAE = £%sk' % (int(str(round(mae))[:-3])))"
   ]
  },
  {
   "cell_type": "code",
   "execution_count": 24,
   "id": "483769d3",
   "metadata": {},
   "outputs": [
    {
     "name": "stdout",
     "output_type": "stream",
     "text": [
      "Grid Random Forest has MAE = £59k\n"
     ]
    }
   ],
   "source": [
    "y_pred = rf_grid.predict(X_test_new)\n",
    "mae = mean_absolute_error(y_test, y_pred)\n",
    "print('Grid Random Forest has MAE = £%sk' % (int(str(round(mae))[:-3])))"
   ]
  },
  {
   "cell_type": "markdown",
   "id": "e3f44c1b",
   "metadata": {},
   "source": [
    "### 7. Making Predictions"
   ]
  },
  {
   "cell_type": "code",
   "execution_count": 28,
   "id": "5ede6250",
   "metadata": {},
   "outputs": [],
   "source": [
    "def value_prop(link, floor_size, month_year):\n",
    "    area_df = pd.read_csv(f'{location}/data/area_df_2023.csv')\n",
    "    \n",
    "    # Create list of zeros to be populated with x variables\n",
    "    x_vars = [0]*(len(df_varselect.columns)-1)\n",
    "    link = [link]\n",
    "    \n",
    "    %run RightMove_Funcs.ipynb\n",
    "    # use reformulated scraping code to scrape rightmove link to extract relevant variables into features list\n",
    "    scraped2 = scrape_listings(date_from = 20220101, links=link)\n",
    "\n",
    "    # Obtain variables\n",
    "    prop_link, prop_features, prop_price = scraped2[1], scraped2[2],scraped2[3]\n",
    "    prop_statname, statdist, outcode = scraped2[4], scraped2[5], scraped2[6]\n",
    "    postcode, centrality, prop_date = scraped2[7],scraped2[8],scraped2[9]\n",
    "    \n",
    "    # Populating x_vars\n",
    "    x_vars[0] = statdist[0] #StatDist(miles)\n",
    "\n",
    "    if prop_features[0][1].startswith('×') and prop_features[0][2].startswith('×'): \n",
    "        x_vars[1] = int(prop_features[0][1][1]) #Bedrooms\n",
    "        x_vars[2] = int(prop_features[0][2][1]) #Bathrooms\n",
    "    elif prop_features[0][0].startswith('×') and prop_features[0][1].startswith('×'): \n",
    "        x_vars[1] = int(prop_features[0][0][1]) #Bedrooms\n",
    "        x_vars[2] = int(prop_features[0][1][1]) #Bathrooms\n",
    "    #x_vars[1] = int(prop_features[0][1][1]) \n",
    "    #x_vars[2] = int(prop_features[0][2][1]) \n",
    "\n",
    "    # Outdoor & Portered\n",
    "    r= requests.get(link[0])\n",
    "    soup = BeautifulSoup(r.text, 'lxml')\n",
    "\n",
    "    porter_list = ['Porter','PORTER','porter', 'Concierge','CONCIERGE','concierge','Caretaker','caretaker','CARETAKER']\n",
    "    outdoor_list = ['Balcony','BALCONY','balcony', 'Terrace','TERRACE','terrace', 'Patio', 'PATIO', 'patio', 'Garden', 'GARDEN', 'garden']\n",
    "\n",
    "    lst = (soup.find_all(\"li\", class_=\"lIhZ24u1NHMa5Y6gDH90A\"))\n",
    "    text =[str(x).replace('<li class=\"lIhZ24u1NHMa5Y6gDH90A\">', '').replace('</li>', '') \n",
    "     for x in lst]\n",
    "    for j in text:\n",
    "        if any(k in j for k in outdoor_list):\n",
    "            x_vars[3] = 1\n",
    "        if any(k in j for k in porter_list):\n",
    "            x_vars[4] = 1\n",
    "\n",
    "    # Adding 1 to appropriate prop type dummy\n",
    "    if prop_features[0][0] in variables:\n",
    "        x_vars[variables.index(prop_features[0][0])-1] = 1\n",
    "\n",
    "    # Contract var\n",
    "    if prop_features[0][-1] == 'Leasehold':\n",
    "        x_vars[11] = 1\n",
    "\n",
    "    # Adding 1 to appropriate outcode dummy\n",
    "    if outcode[0] in variables:\n",
    "        x_vars[variables.index(str(outcode[0]))-1] = 1\n",
    "\n",
    "    # North\n",
    "    south = ['SE1','SE5','SE11','SE16','SE15','SE17','SW8','SW11','SW9','SW4','SW2']\n",
    "    if outcode[0] not in south:\n",
    "        x_vars[31] = 1\n",
    "\n",
    "    # Centrality\n",
    "    x_vars[32] = centrality[0]\n",
    "\n",
    "    # Floor Size\n",
    "    x_vars[33] = floor_size\n",
    "\n",
    "    # Date\n",
    "    if month_year in variables:\n",
    "        x_vars[variables.index(month_year)-1] = 1\n",
    "\n",
    "    # !!!!! x_vars[40] onwards -- increase each index (e.g. from 40 to 41) when get 202305 dummy variable in May!!!!!!!\n",
    "    x_vars[40] = int(area_df.loc[area_df['Outcode3']==postcode[0][:-2], 'Avg_price'])\n",
    "    # Squared terms\n",
    "    x_vars[41], x_vars[42], x_vars[43] = x_vars[40]**2, centrality[0]**2, floor_size**2\n",
    "    \n",
    "    X = np.array(x_vars)\n",
    "    print(np.around(scaler.transform(X.reshape(1, -1)),decimals=1))\n",
    "\n",
    "    # run best models\n",
    "    rf_pred = rf_grid.predict(scaler.transform(X.reshape(1, -1)))\n",
    "    #non_grid_rf = best_rf.predict(scaler.transform(X.reshape(1, -1)))\n",
    "    gb_pred = gb_grid.predict(scaler.transform(X.reshape(1, -1)))\n",
    "    lr_pred = lr_grid.predict(scaler.transform(X.reshape(1, -1)))\n",
    "\n",
    "    return(f'PREDICTIONS: 1. Gradient boost £{str(int(gb_pred))[:-3]}k; 2. Random forest £{str(int(rf_pred))[:-3]}k; 3. Lasso £{str(int(lr_pred))[:-3]}k')"
   ]
  },
  {
   "cell_type": "code",
   "execution_count": null,
   "id": "843e4138",
   "metadata": {},
   "outputs": [],
   "source": [
    "df_varselect.columns"
   ]
  },
  {
   "cell_type": "code",
   "execution_count": 29,
   "id": "8b575fcf",
   "metadata": {},
   "outputs": [
    {
     "ename": "IndexError",
     "evalue": "list index out of range",
     "output_type": "error",
     "traceback": [
      "\u001b[0;31m---------------------------------------------------------------------------\u001b[0m",
      "\u001b[0;31mIndexError\u001b[0m                                Traceback (most recent call last)",
      "Cell \u001b[0;32mIn [29], line 2\u001b[0m\n\u001b[1;32m      1\u001b[0m \u001b[38;5;66;03m# Randolph Gardens - 777\u001b[39;00m\n\u001b[0;32m----> 2\u001b[0m \u001b[43mvalue_prop\u001b[49m\u001b[43m(\u001b[49m\u001b[43mfloor_size\u001b[49m\u001b[43m \u001b[49m\u001b[38;5;241;43m=\u001b[39;49m\u001b[43m \u001b[49m\u001b[38;5;241;43m773\u001b[39;49m\u001b[43m,\u001b[49m\u001b[43m \u001b[49m\u001b[43mmonth_year\u001b[49m\u001b[43m \u001b[49m\u001b[38;5;241;43m=\u001b[39;49m\u001b[43m \u001b[49m\u001b[38;5;241;43m202305\u001b[39;49m\u001b[43m,\u001b[49m\u001b[43m \u001b[49m\u001b[43mlink\u001b[49m\u001b[43m \u001b[49m\u001b[38;5;241;43m=\u001b[39;49m\u001b[43m \u001b[49m\u001b[38;5;124;43m'\u001b[39;49m\u001b[38;5;124;43mhttps://www.rightmove.co.uk/properties/135916049#/?channel=RES_BUY\u001b[39;49m\u001b[38;5;124;43m'\u001b[39;49m\u001b[43m)\u001b[49m\n",
      "Cell \u001b[0;32mIn [28], line 10\u001b[0m, in \u001b[0;36mvalue_prop\u001b[0;34m(link, floor_size, month_year)\u001b[0m\n\u001b[1;32m      8\u001b[0m get_ipython()\u001b[38;5;241m.\u001b[39mrun_line_magic(\u001b[38;5;124m'\u001b[39m\u001b[38;5;124mrun\u001b[39m\u001b[38;5;124m'\u001b[39m, \u001b[38;5;124m'\u001b[39m\u001b[38;5;124mRightMove_Funcs.ipynb\u001b[39m\u001b[38;5;124m'\u001b[39m)\n\u001b[1;32m      9\u001b[0m \u001b[38;5;66;03m# use reformulated scraping code to scrape rightmove link to extract relevant variables into features list\u001b[39;00m\n\u001b[0;32m---> 10\u001b[0m scraped2 \u001b[38;5;241m=\u001b[39m \u001b[43mscrape_listings\u001b[49m\u001b[43m(\u001b[49m\u001b[43mdate_from\u001b[49m\u001b[43m \u001b[49m\u001b[38;5;241;43m=\u001b[39;49m\u001b[43m \u001b[49m\u001b[38;5;241;43m20220101\u001b[39;49m\u001b[43m,\u001b[49m\u001b[43m \u001b[49m\u001b[43mlinks\u001b[49m\u001b[38;5;241;43m=\u001b[39;49m\u001b[43mlink\u001b[49m\u001b[43m)\u001b[49m\n\u001b[1;32m     12\u001b[0m \u001b[38;5;66;03m# Obtain variables\u001b[39;00m\n\u001b[1;32m     13\u001b[0m prop_link, prop_features, prop_price \u001b[38;5;241m=\u001b[39m scraped2[\u001b[38;5;241m1\u001b[39m], scraped2[\u001b[38;5;241m2\u001b[39m],scraped2[\u001b[38;5;241m3\u001b[39m]\n",
      "File \u001b[0;32m/var/folders/xr/66lxz3_s6fg65z7bpjgp_yc80000gn/T/ipykernel_57798/4103495627.py:21\u001b[0m, in \u001b[0;36mscrape_listings\u001b[0;34m(date_from, links)\u001b[0m\n\u001b[1;32m     17\u001b[0m soup \u001b[38;5;241m=\u001b[39m BeautifulSoup(r\u001b[38;5;241m.\u001b[39mtext, \u001b[38;5;124m'\u001b[39m\u001b[38;5;124mlxml\u001b[39m\u001b[38;5;124m'\u001b[39m)\n\u001b[1;32m     19\u001b[0m \u001b[38;5;66;03m# Append Date uploaded\u001b[39;00m\n\u001b[1;32m     20\u001b[0m \u001b[38;5;66;03m#link = soup.find_all('script')[6]\u001b[39;00m\n\u001b[0;32m---> 21\u001b[0m link \u001b[38;5;241m=\u001b[39m \u001b[43msoup\u001b[49m\u001b[38;5;241;43m.\u001b[39;49m\u001b[43mfind_all\u001b[49m\u001b[43m(\u001b[49m\u001b[38;5;124;43m'\u001b[39;49m\u001b[38;5;124;43mscript\u001b[39;49m\u001b[38;5;124;43m'\u001b[39;49m\u001b[43m)\u001b[49m\u001b[43m[\u001b[49m\u001b[38;5;241;43m4\u001b[39;49m\u001b[43m]\u001b[49m\n\u001b[1;32m     23\u001b[0m jsonobj \u001b[38;5;241m=\u001b[39m json\u001b[38;5;241m.\u001b[39mloads(link\u001b[38;5;241m.\u001b[39mtext[\u001b[38;5;241m25\u001b[39m:]) \u001b[38;5;66;03m# converts json into dictionary  \u001b[39;00m\n\u001b[1;32m     24\u001b[0m date \u001b[38;5;241m=\u001b[39m jsonobj\u001b[38;5;241m.\u001b[39mget(\u001b[38;5;124m\"\u001b[39m\u001b[38;5;124manalyticsInfo\u001b[39m\u001b[38;5;124m\"\u001b[39m)\u001b[38;5;241m.\u001b[39mget(\u001b[38;5;124m'\u001b[39m\u001b[38;5;124manalyticsProperty\u001b[39m\u001b[38;5;124m'\u001b[39m)\u001b[38;5;241m.\u001b[39mget(\u001b[38;5;124m'\u001b[39m\u001b[38;5;124madded\u001b[39m\u001b[38;5;124m'\u001b[39m)\n",
      "\u001b[0;31mIndexError\u001b[0m: list index out of range"
     ]
    }
   ],
   "source": [
    "# Randolph Gardens - 777\n",
    "value_prop(floor_size = 773, month_year = 202305, link = 'https://www.rightmove.co.uk/properties/135916049#/?channel=RES_BUY')\n",
    "\n",
    "# Came out as 676, 677 & 669"
   ]
  },
  {
   "cell_type": "code",
   "execution_count": 108,
   "id": "caa9f24f",
   "metadata": {},
   "outputs": [
    {
     "name": "stdout",
     "output_type": "stream",
     "text": [
      "[[-0.3  0.7 -0.4 -1.  -0.6  1.4 -1.2 -0.  -0.2 -0.  -0.1  0.5 -0.3 -0.3\n",
      "  -0.3 -0.3 -0.2 -0.3 -0.2 -0.3 -0.2 -0.3 -0.2 -0.2 -0.2 -0.2 -0.1 -0.2\n",
      "  -0.1 -0.1 -0.2  0.4  0.7  0.7 -0.3 -0.3 -0.4 -0.4 -0.3 -0.3  0.1 -0.1\n",
      "   0.6  0.5]]\n"
     ]
    },
    {
     "data": {
      "text/plain": [
       "'PREDICTIONS: 1. Gradient boost £650k; 2. Random forest £640k; 3. Lasso £650k'"
      ]
     },
     "execution_count": 108,
     "metadata": {},
     "output_type": "execute_result"
    }
   ],
   "source": [
    "# Highbury & Islington - 742, 765\n",
    "value_prop(floor_size = 765, month_year = 202305, link = 'https://www.rightmove.co.uk/properties/135341420#/?channel=RES_BUY')"
   ]
  },
  {
   "cell_type": "code",
   "execution_count": 109,
   "id": "2645f720",
   "metadata": {},
   "outputs": [
    {
     "name": "stdout",
     "output_type": "stream",
     "text": [
      "[[ 0.4  0.7 -0.4 -1.  -0.6 -0.7  0.8 -0.  -0.2 -0.  -0.1  0.5  3.3 -0.3\n",
      "  -0.3 -0.3 -0.2 -0.3 -0.2 -0.3 -0.2 -0.3 -0.2 -0.2 -0.2 -0.2 -0.1 -0.2\n",
      "  -0.1 -0.1 -0.2  0.4  0.9  1.4 -0.3 -0.3 -0.4 -0.4  2.9 -0.3 -1.  -0.6\n",
      "   0.8  1.2]]\n"
     ]
    },
    {
     "data": {
      "text/plain": [
       "'PREDICTIONS: 1. Gradient boost £609k; 2. Random forest £645k; 3. Lasso £641k'"
      ]
     },
     "execution_count": 109,
     "metadata": {},
     "output_type": "execute_result"
    }
   ],
   "source": [
    "# Carlton Vale - Hamptons. 869 or 908 sq ft (depednding on incl. 1st floor dead space)\n",
    "# Try changing area code to W91 \n",
    "# Add option to manually add garden (scraper often misses it)\n",
    "value_prop(floor_size = 908, month_year = 202303, link = 'https://www.rightmove.co.uk/properties/85637178#/?channel=RES_BUY')"
   ]
  },
  {
   "cell_type": "code",
   "execution_count": 110,
   "id": "f6779bd2",
   "metadata": {},
   "outputs": [
    {
     "name": "stdout",
     "output_type": "stream",
     "text": [
      "[[ 1.1  0.7 -0.4  1.  -0.6  1.4 -1.2 -0.  -0.2 -0.  -0.1 -1.9 -0.3 -0.3\n",
      "  -0.3 -0.3 -0.2 -0.3  5.5 -0.3 -0.2 -0.3 -0.2 -0.2 -0.2 -0.2 -0.1 -0.2\n",
      "  -0.1 -0.1 -0.2  0.4  0.8  0.9 -0.3 -0.3 -0.4 -0.4  2.9 -0.3 -0.7 -0.5\n",
      "   0.8  0.7]]\n"
     ]
    },
    {
     "data": {
      "text/plain": [
       "'PREDICTIONS: 1. Gradient boost £603k; 2. Random forest £620k; 3. Lasso £620k'"
      ]
     },
     "execution_count": 110,
     "metadata": {},
     "output_type": "execute_result"
    }
   ],
   "source": [
    "# Carleton Road\n",
    "np.set_printoptions(suppress=True)\n",
    "value_prop(floor_size = 804, month_year = 202303, link = 'https://www.rightmove.co.uk/properties/132042029#/?channel=RES_BUY')"
   ]
  },
  {
   "cell_type": "code",
   "execution_count": 111,
   "id": "1193d6e8",
   "metadata": {},
   "outputs": [
    {
     "name": "stdout",
     "output_type": "stream",
     "text": [
      "[[-1.   2.1 -0.4  1.  -0.6  1.4 -1.2 -0.  -0.2 -0.  -0.1 -1.9 -0.3 -0.3\n",
      "  -0.3 -0.3 -0.2 -0.3 -0.2  4.  -0.2 -0.3 -0.2 -0.2 -0.2 -0.2 -0.1 -0.2\n",
      "  -0.1 -0.1 -0.2  0.4 -0.   1.2 -0.3 -0.3 -0.4 -0.4 -0.3  3.8 -0.9 -0.6\n",
      "  -0.2  1. ]]\n"
     ]
    },
    {
     "data": {
      "text/plain": [
       "'PREDICTIONS: 1. Gradient boost £639k; 2. Random forest £645k; 3. Lasso £693k'"
      ]
     },
     "execution_count": 111,
     "metadata": {},
     "output_type": "execute_result"
    }
   ],
   "source": [
    "# Royal College Street - Legacy Properties\n",
    "value_prop(floor_size = 864, month_year = 202304, link = 'https://www.rightmove.co.uk/properties/131986217#/?channel=RES_BUY')"
   ]
  },
  {
   "cell_type": "code",
   "execution_count": 112,
   "id": "845fbf32",
   "metadata": {},
   "outputs": [
    {
     "name": "stdout",
     "output_type": "stream",
     "text": [
      "[[-1.   2.1 -0.4  1.  -0.6 -0.7  0.8 -0.  -0.2 -0.  -0.1  0.5 -0.3 -0.3\n",
      "  -0.3 -0.3 -0.2 -0.3 -0.2  4.  -0.2 -0.3 -0.2 -0.2 -0.2 -0.2 -0.1 -0.2\n",
      "  -0.1 -0.1 -0.2  0.4 -0.   1.2 -0.3 -0.3 -0.4 -0.4 -0.3  3.8 -0.9 -0.6\n",
      "  -0.2  1. ]]\n"
     ]
    },
    {
     "data": {
      "text/plain": [
       "'PREDICTIONS: 1. Gradient boost £668k; 2. Random forest £622k; 3. Lasso £657k'"
      ]
     },
     "execution_count": 112,
     "metadata": {},
     "output_type": "execute_result"
    }
   ],
   "source": [
    "# Royal College Street Legacy - Olivers Town\n",
    "value_prop(floor_size = 864, month_year = 202304, link = 'https://www.rightmove.co.uk/properties/126727847#/?channel=RES_BUY')"
   ]
  },
  {
   "cell_type": "code",
   "execution_count": 113,
   "id": "f56d326e",
   "metadata": {},
   "outputs": [
    {
     "name": "stdout",
     "output_type": "stream",
     "text": [
      "[[-0.3  0.7 -0.4 -1.  -0.6 -0.7  0.8 -0.  -0.2 -0.  -0.1 -1.9 -0.3 -0.3\n",
      "  -0.3 -0.3 -0.2 -0.3  5.5 -0.3 -0.2 -0.3 -0.2 -0.2 -0.2 -0.2 -0.1 -0.2\n",
      "  -0.1 -0.1 -0.2  0.4  0.7  0.4 -0.3 -0.3  2.6 -0.4 -0.3 -0.3 -0.8 -0.5\n",
      "   0.5  0.3]]\n"
     ]
    },
    {
     "data": {
      "text/plain": [
       "'PREDICTIONS: 1. Gradient boost £715k; 2. Random forest £633k; 3. Lasso £578k'"
      ]
     },
     "execution_count": 113,
     "metadata": {},
     "output_type": "execute_result"
    }
   ],
   "source": [
    "# Hillmartin Road\n",
    "value_prop(floor_size = 725, month_year = 202301, link = 'https://www.rightmove.co.uk/properties/130506761#/?channel=RES_BUY')"
   ]
  },
  {
   "cell_type": "markdown",
   "id": "a22e0724",
   "metadata": {},
   "source": [
    "### 8. Working out what models do badly on"
   ]
  },
  {
   "cell_type": "code",
   "execution_count": 114,
   "id": "c86f3187",
   "metadata": {},
   "outputs": [
    {
     "data": {
      "text/plain": [
       "22954.384391929245"
      ]
     },
     "execution_count": 114,
     "metadata": {},
     "output_type": "execute_result"
    }
   ],
   "source": [
    "## Working out what model does badly on\n",
    "# Join training_pred to y_tv and find sort by max diff. \n",
    "# For the samples with largest diff - join X_tv_new to find identifying column (centrality)\n",
    "# Look at listing link and work out why model poorly valued it \n",
    "# Try to find new feature that might fix this\n",
    "training_pred = pd.DataFrame(grid_rf.predict(X_tv_new)).reset_index(drop=True)\n",
    "training_y = y_tv.reset_index(drop=True)\n",
    "joint_df = pd.concat([training_pred, training_y], axis=1)\n",
    "joint_df.columns = ['training_pred','actual_y']\n",
    "\n",
    "joint_df['diff'] = np.round(joint_df['training_pred'] - joint_df['actual_y'],3)\n",
    "joint_df\n",
    "np.mean(abs(joint_df['diff']))"
   ]
  },
  {
   "cell_type": "code",
   "execution_count": 115,
   "id": "c7e80807",
   "metadata": {},
   "outputs": [
    {
     "data": {
      "text/plain": [
       "max diff    244560.248000\n",
       "MAE          59916.464267\n",
       "Name: diff, dtype: float64"
      ]
     },
     "execution_count": 115,
     "metadata": {},
     "output_type": "execute_result"
    }
   ],
   "source": [
    "test_pred = pd.DataFrame(rf_grid.predict(X_test_new)).reset_index(drop=True)\n",
    "test_y = pd.DataFrame(y_test).reset_index(drop=True)\n",
    "joint_test_df = pd.concat([test_pred, test_y], axis=1)\n",
    "joint_test_df.columns = ['test_pred','test_y']\n",
    "\n",
    "joint_test_df['diff'] = np.round(abs(joint_test_df['test_pred'] - joint_test_df['test_y']),3)\n",
    "\n",
    "joint_test_df['diff'].agg({'max diff': 'max', 'MAE': 'mean'})\n",
    "#np.mean(abs(joint_test_df['diff']))\n",
    "#max(abs(joint_test_df['diff']))"
   ]
  },
  {
   "cell_type": "code",
   "execution_count": 116,
   "id": "08e906f7",
   "metadata": {},
   "outputs": [
    {
     "data": {
      "text/html": [
       "<div>\n",
       "<style scoped>\n",
       "    .dataframe tbody tr th:only-of-type {\n",
       "        vertical-align: middle;\n",
       "    }\n",
       "\n",
       "    .dataframe tbody tr th {\n",
       "        vertical-align: top;\n",
       "    }\n",
       "\n",
       "    .dataframe thead th {\n",
       "        text-align: right;\n",
       "    }\n",
       "</style>\n",
       "<table border=\"1\" class=\"dataframe\">\n",
       "  <thead>\n",
       "    <tr style=\"text-align: right;\">\n",
       "      <th></th>\n",
       "      <th>test_pred</th>\n",
       "      <th>test_y</th>\n",
       "      <th>diff</th>\n",
       "      <th>32</th>\n",
       "    </tr>\n",
       "  </thead>\n",
       "  <tbody>\n",
       "    <tr>\n",
       "      <th>5</th>\n",
       "      <td>644222.000000</td>\n",
       "      <td>750000.0</td>\n",
       "      <td>105778.000</td>\n",
       "      <td>5.418778</td>\n",
       "    </tr>\n",
       "    <tr>\n",
       "      <th>7</th>\n",
       "      <td>586095.332000</td>\n",
       "      <td>700000.0</td>\n",
       "      <td>113904.668</td>\n",
       "      <td>2.425445</td>\n",
       "    </tr>\n",
       "    <tr>\n",
       "      <th>10</th>\n",
       "      <td>613804.262667</td>\n",
       "      <td>475000.0</td>\n",
       "      <td>138804.263</td>\n",
       "      <td>2.700246</td>\n",
       "    </tr>\n",
       "    <tr>\n",
       "      <th>12</th>\n",
       "      <td>569739.600000</td>\n",
       "      <td>450000.0</td>\n",
       "      <td>119739.600</td>\n",
       "      <td>5.979503</td>\n",
       "    </tr>\n",
       "    <tr>\n",
       "      <th>20</th>\n",
       "      <td>618507.481714</td>\n",
       "      <td>450000.0</td>\n",
       "      <td>168507.482</td>\n",
       "      <td>4.844890</td>\n",
       "    </tr>\n",
       "    <tr>\n",
       "      <th>...</th>\n",
       "      <td>...</td>\n",
       "      <td>...</td>\n",
       "      <td>...</td>\n",
       "      <td>...</td>\n",
       "    </tr>\n",
       "    <tr>\n",
       "      <th>595</th>\n",
       "      <td>627951.400000</td>\n",
       "      <td>460000.0</td>\n",
       "      <td>167951.400</td>\n",
       "      <td>4.806434</td>\n",
       "    </tr>\n",
       "    <tr>\n",
       "      <th>596</th>\n",
       "      <td>642135.000000</td>\n",
       "      <td>799950.0</td>\n",
       "      <td>157815.000</td>\n",
       "      <td>6.069394</td>\n",
       "    </tr>\n",
       "    <tr>\n",
       "      <th>597</th>\n",
       "      <td>637040.000000</td>\n",
       "      <td>750000.0</td>\n",
       "      <td>112960.000</td>\n",
       "      <td>5.382224</td>\n",
       "    </tr>\n",
       "    <tr>\n",
       "      <th>601</th>\n",
       "      <td>613345.800000</td>\n",
       "      <td>750000.0</td>\n",
       "      <td>136654.200</td>\n",
       "      <td>1.740493</td>\n",
       "    </tr>\n",
       "    <tr>\n",
       "      <th>602</th>\n",
       "      <td>654437.600000</td>\n",
       "      <td>450000.0</td>\n",
       "      <td>204437.600</td>\n",
       "      <td>6.659159</td>\n",
       "    </tr>\n",
       "  </tbody>\n",
       "</table>\n",
       "<p>122 rows × 4 columns</p>\n",
       "</div>"
      ],
      "text/plain": [
       "         test_pred    test_y        diff        32\n",
       "5    644222.000000  750000.0  105778.000  5.418778\n",
       "7    586095.332000  700000.0  113904.668  2.425445\n",
       "10   613804.262667  475000.0  138804.263  2.700246\n",
       "12   569739.600000  450000.0  119739.600  5.979503\n",
       "20   618507.481714  450000.0  168507.482  4.844890\n",
       "..             ...       ...         ...       ...\n",
       "595  627951.400000  460000.0  167951.400  4.806434\n",
       "596  642135.000000  799950.0  157815.000  6.069394\n",
       "597  637040.000000  750000.0  112960.000  5.382224\n",
       "601  613345.800000  750000.0  136654.200  1.740493\n",
       "602  654437.600000  450000.0  204437.600  6.659159\n",
       "\n",
       "[122 rows x 4 columns]"
      ]
     },
     "execution_count": 116,
     "metadata": {},
     "output_type": "execute_result"
    }
   ],
   "source": [
    "test_centralities = pd.DataFrame(X_test)[32]\n",
    "joint_test_df = pd.concat([joint_test_df, test_centralities], axis=1)\n",
    "filtered_df = joint_test_df.loc[(joint_test_df['diff'] >= 100000)]\n",
    "filtered_df\n",
    "\n",
    "# NEXT: take centrality, use df_varselect to find listing. Look at link and explain valuation diff"
   ]
  }
 ],
 "metadata": {
  "kernelspec": {
   "display_name": "Python 3 (ipykernel)",
   "language": "python",
   "name": "python3"
  },
  "language_info": {
   "codemirror_mode": {
    "name": "ipython",
    "version": 3
   },
   "file_extension": ".py",
   "mimetype": "text/x-python",
   "name": "python",
   "nbconvert_exporter": "python",
   "pygments_lexer": "ipython3",
   "version": "3.8.8"
  }
 },
 "nbformat": 4,
 "nbformat_minor": 5
}
